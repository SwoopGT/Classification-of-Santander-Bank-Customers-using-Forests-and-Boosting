{
  "nbformat": 4,
  "nbformat_minor": 0,
  "metadata": {
    "kernelspec": {
      "name": "python3",
      "display_name": "Python 3"
    },
    "language_info": {
      "codemirror_mode": {
        "name": "ipython",
        "version": 3
      },
      "file_extension": ".py",
      "mimetype": "text/x-python",
      "name": "python",
      "nbconvert_exporter": "python",
      "pygments_lexer": "ipython3",
      "version": "3.7.1"
    },
    "colab": {
      "name": "Santander Customer Satisfaction - update.ipynb",
      "provenance": [],
      "collapsed_sections": [
        "RZSDq_56Jhai",
        "tKQKHVOzJhbc"
      ],
      "include_colab_link": true
    },
    "accelerator": "GPU"
  },
  "cells": [
    {
      "cell_type": "markdown",
      "metadata": {
        "id": "view-in-github",
        "colab_type": "text"
      },
      "source": [
        "<a href=\"https://colab.research.google.com/github/SwoopGT/Santander-Customer-Satisfaction/blob/master/Santander_Customer_Satisfaction.ipynb\" target=\"_parent\"><img src=\"https://colab.research.google.com/assets/colab-badge.svg\" alt=\"Open In Colab\"/></a>"
      ]
    },
    {
      "cell_type": "markdown",
      "metadata": {
        "id": "CulA1T91JhW5",
        "colab_type": "text"
      },
      "source": [
        "# SECTION 1 - PRE PROCESSING"
      ]
    },
    {
      "cell_type": "markdown",
      "metadata": {
        "id": "oJR_lqtnJhW9",
        "colab_type": "text"
      },
      "source": [
        "### Import necessary Libraries"
      ]
    },
    {
      "cell_type": "code",
      "metadata": {
        "id": "YDO9PT57JhXA",
        "colab_type": "code",
        "colab": {}
      },
      "source": [
        "import numpy as np\n",
        "import pandas as pd\n",
        "import seaborn as sns\n",
        "from matplotlib import pyplot as plt\n",
        "from sklearn.preprocessing import StandardScaler\n",
        "from sklearn.model_selection import train_test_split,GridSearchCV,RandomizedSearchCV,cross_val_score\n",
        "from sklearn.ensemble import RandomForestClassifier\n",
        "from xgboost import XGBClassifier\n",
        "from sklearn.metrics import confusion_matrix, classification_report,accuracy_score,roc_auc_score,recall_score\n",
        "from sklearn.metrics import precision_recall_curve, roc_curve, auc, log_loss\n",
        "\n",
        "%matplotlib inline"
      ],
      "execution_count": 0,
      "outputs": []
    },
    {
      "cell_type": "markdown",
      "metadata": {
        "id": "pV6Kq4vRVrdj",
        "colab_type": "text"
      },
      "source": [
        "### Google Drive Pre Requisite"
      ]
    },
    {
      "cell_type": "code",
      "metadata": {
        "id": "CtEI_4TSJhXJ",
        "colab_type": "code",
        "colab": {}
      },
      "source": [
        "# Code to read csv file into Colaboratory:\n",
        "\n",
        "!pip install -U -q PyDrive\n",
        "from pydrive.auth import GoogleAuth\n",
        "from pydrive.drive import GoogleDrive\n",
        "from google.colab import auth\n",
        "from oauth2client.client import GoogleCredentials \n",
        "\n",
        "# Authenticate and create the PyDrive client.\n",
        "auth.authenticate_user()\n",
        "gauth = GoogleAuth()\n",
        "gauth.credentials = GoogleCredentials.get_application_default()\n",
        "drive = GoogleDrive(gauth)\n",
        "\n"
      ],
      "execution_count": 0,
      "outputs": []
    },
    {
      "cell_type": "code",
      "metadata": {
        "colab_type": "code",
        "cellView": "both",
        "id": "-d7-9gI_cF3H",
        "colab": {}
      },
      "source": [
        "\n",
        "link = 'https://drive.google.com/open?id=1A2RP-OBRhvd2DfISv_Ykhxp3ZJZVjZ3G'\n",
        "\n",
        "fluff, id = link.split('=')\n",
        "\n",
        "print (id) # Verify that you have everything after '='"
      ],
      "execution_count": 0,
      "outputs": []
    },
    {
      "cell_type": "markdown",
      "metadata": {
        "id": "-tjuQm-XVWuR",
        "colab_type": "text"
      },
      "source": [
        "### Read data from the file."
      ]
    },
    {
      "cell_type": "code",
      "metadata": {
        "id": "0HSSF6UTNssV",
        "colab_type": "code",
        "cellView": "both",
        "colab": {}
      },
      "source": [
        "\n",
        "downloaded = drive.CreateFile({'id':id}) \n",
        "downloaded.GetContentFile('Train.csv')  \n",
        "df = pd.read_csv('Train.csv') # Dataset is now stored in a Pandas Dataframe"
      ],
      "execution_count": 0,
      "outputs": []
    },
    {
      "cell_type": "markdown",
      "metadata": {
        "id": "YwFVAgS4JhXP",
        "colab_type": "text"
      },
      "source": [
        "### Check shape of the dataset"
      ]
    },
    {
      "cell_type": "code",
      "metadata": {
        "id": "Rfll9oZLJhXR",
        "colab_type": "code",
        "outputId": "96ecf766-f111-48e5-c050-e14854ce7aa4",
        "colab": {
          "base_uri": "https://localhost:8080/",
          "height": 35
        }
      },
      "source": [
        "df.shape"
      ],
      "execution_count": 5,
      "outputs": [
        {
          "output_type": "execute_result",
          "data": {
            "text/plain": [
              "(76020, 371)"
            ]
          },
          "metadata": {
            "tags": []
          },
          "execution_count": 5
        }
      ]
    },
    {
      "cell_type": "markdown",
      "metadata": {
        "id": "Nq5sryN1JhXZ",
        "colab_type": "text"
      },
      "source": [
        "### Check columns"
      ]
    },
    {
      "cell_type": "code",
      "metadata": {
        "id": "62Yem0GlJhXa",
        "colab_type": "code",
        "outputId": "d6c091ca-f453-4976-b350-9e6f188a96c1",
        "colab": {
          "base_uri": "https://localhost:8080/",
          "height": 196
        }
      },
      "source": [
        "df.columns"
      ],
      "execution_count": 6,
      "outputs": [
        {
          "output_type": "execute_result",
          "data": {
            "text/plain": [
              "Index(['ID', 'var3', 'var15', 'imp_ent_var16_ult1', 'imp_op_var39_comer_ult1',\n",
              "       'imp_op_var39_comer_ult3', 'imp_op_var40_comer_ult1',\n",
              "       'imp_op_var40_comer_ult3', 'imp_op_var40_efect_ult1',\n",
              "       'imp_op_var40_efect_ult3',\n",
              "       ...\n",
              "       'saldo_medio_var33_hace2', 'saldo_medio_var33_hace3',\n",
              "       'saldo_medio_var33_ult1', 'saldo_medio_var33_ult3',\n",
              "       'saldo_medio_var44_hace2', 'saldo_medio_var44_hace3',\n",
              "       'saldo_medio_var44_ult1', 'saldo_medio_var44_ult3', 'var38', 'TARGET'],\n",
              "      dtype='object', length=371)"
            ]
          },
          "metadata": {
            "tags": []
          },
          "execution_count": 6
        }
      ]
    },
    {
      "cell_type": "code",
      "metadata": {
        "id": "XarIEHKSJhXf",
        "colab_type": "code",
        "outputId": "aa362a48-4cad-46ba-a305-159549ca2911",
        "colab": {
          "base_uri": "https://localhost:8080/",
          "height": 106
        }
      },
      "source": [
        "df.info()"
      ],
      "execution_count": 7,
      "outputs": [
        {
          "output_type": "stream",
          "text": [
            "<class 'pandas.core.frame.DataFrame'>\n",
            "RangeIndex: 76020 entries, 0 to 76019\n",
            "Columns: 371 entries, ID to TARGET\n",
            "dtypes: float64(111), int64(260)\n",
            "memory usage: 215.2 MB\n"
          ],
          "name": "stdout"
        }
      ]
    },
    {
      "cell_type": "markdown",
      "metadata": {
        "id": "yCAZJstLJhXl",
        "colab_type": "text"
      },
      "source": [
        "### Check for null values"
      ]
    },
    {
      "cell_type": "code",
      "metadata": {
        "id": "jbfftQpvJhXm",
        "colab_type": "code",
        "outputId": "b5c3bbab-2d5c-4889-d65b-d441c5040849",
        "colab": {
          "base_uri": "https://localhost:8080/",
          "height": 1000
        }
      },
      "source": [
        "percent_missing = df.isnull().sum() * 100 / len(df)\n",
        "percent_missing"
      ],
      "execution_count": 8,
      "outputs": [
        {
          "output_type": "execute_result",
          "data": {
            "text/plain": [
              "ID                               0.0\n",
              "var3                             0.0\n",
              "var15                            0.0\n",
              "imp_ent_var16_ult1               0.0\n",
              "imp_op_var39_comer_ult1          0.0\n",
              "imp_op_var39_comer_ult3          0.0\n",
              "imp_op_var40_comer_ult1          0.0\n",
              "imp_op_var40_comer_ult3          0.0\n",
              "imp_op_var40_efect_ult1          0.0\n",
              "imp_op_var40_efect_ult3          0.0\n",
              "imp_op_var40_ult1                0.0\n",
              "imp_op_var41_comer_ult1          0.0\n",
              "imp_op_var41_comer_ult3          0.0\n",
              "imp_op_var41_efect_ult1          0.0\n",
              "imp_op_var41_efect_ult3          0.0\n",
              "imp_op_var41_ult1                0.0\n",
              "imp_op_var39_efect_ult1          0.0\n",
              "imp_op_var39_efect_ult3          0.0\n",
              "imp_op_var39_ult1                0.0\n",
              "imp_sal_var16_ult1               0.0\n",
              "ind_var1_0                       0.0\n",
              "ind_var1                         0.0\n",
              "ind_var2_0                       0.0\n",
              "ind_var2                         0.0\n",
              "ind_var5_0                       0.0\n",
              "ind_var5                         0.0\n",
              "ind_var6_0                       0.0\n",
              "ind_var6                         0.0\n",
              "ind_var8_0                       0.0\n",
              "ind_var8                         0.0\n",
              "                                ... \n",
              "saldo_medio_var13_corto_hace2    0.0\n",
              "saldo_medio_var13_corto_hace3    0.0\n",
              "saldo_medio_var13_corto_ult1     0.0\n",
              "saldo_medio_var13_corto_ult3     0.0\n",
              "saldo_medio_var13_largo_hace2    0.0\n",
              "saldo_medio_var13_largo_hace3    0.0\n",
              "saldo_medio_var13_largo_ult1     0.0\n",
              "saldo_medio_var13_largo_ult3     0.0\n",
              "saldo_medio_var13_medio_hace2    0.0\n",
              "saldo_medio_var13_medio_hace3    0.0\n",
              "saldo_medio_var13_medio_ult1     0.0\n",
              "saldo_medio_var13_medio_ult3     0.0\n",
              "saldo_medio_var17_hace2          0.0\n",
              "saldo_medio_var17_hace3          0.0\n",
              "saldo_medio_var17_ult1           0.0\n",
              "saldo_medio_var17_ult3           0.0\n",
              "saldo_medio_var29_hace2          0.0\n",
              "saldo_medio_var29_hace3          0.0\n",
              "saldo_medio_var29_ult1           0.0\n",
              "saldo_medio_var29_ult3           0.0\n",
              "saldo_medio_var33_hace2          0.0\n",
              "saldo_medio_var33_hace3          0.0\n",
              "saldo_medio_var33_ult1           0.0\n",
              "saldo_medio_var33_ult3           0.0\n",
              "saldo_medio_var44_hace2          0.0\n",
              "saldo_medio_var44_hace3          0.0\n",
              "saldo_medio_var44_ult1           0.0\n",
              "saldo_medio_var44_ult3           0.0\n",
              "var38                            0.0\n",
              "TARGET                           0.0\n",
              "Length: 371, dtype: float64"
            ]
          },
          "metadata": {
            "tags": []
          },
          "execution_count": 8
        }
      ]
    },
    {
      "cell_type": "markdown",
      "metadata": {
        "id": "yoEk9agIJhXu",
        "colab_type": "text"
      },
      "source": [
        "### Statistical Information"
      ]
    },
    {
      "cell_type": "code",
      "metadata": {
        "id": "ejizaKSFJhXv",
        "colab_type": "code",
        "outputId": "17de781f-bce8-433f-cba4-2be3f511f2f2",
        "colab": {
          "base_uri": "https://localhost:8080/",
          "height": 350
        }
      },
      "source": [
        "df.describe()"
      ],
      "execution_count": 9,
      "outputs": [
        {
          "output_type": "execute_result",
          "data": {
            "text/html": [
              "<div>\n",
              "<style scoped>\n",
              "    .dataframe tbody tr th:only-of-type {\n",
              "        vertical-align: middle;\n",
              "    }\n",
              "\n",
              "    .dataframe tbody tr th {\n",
              "        vertical-align: top;\n",
              "    }\n",
              "\n",
              "    .dataframe thead th {\n",
              "        text-align: right;\n",
              "    }\n",
              "</style>\n",
              "<table border=\"1\" class=\"dataframe\">\n",
              "  <thead>\n",
              "    <tr style=\"text-align: right;\">\n",
              "      <th></th>\n",
              "      <th>ID</th>\n",
              "      <th>var3</th>\n",
              "      <th>var15</th>\n",
              "      <th>imp_ent_var16_ult1</th>\n",
              "      <th>imp_op_var39_comer_ult1</th>\n",
              "      <th>imp_op_var39_comer_ult3</th>\n",
              "      <th>imp_op_var40_comer_ult1</th>\n",
              "      <th>imp_op_var40_comer_ult3</th>\n",
              "      <th>imp_op_var40_efect_ult1</th>\n",
              "      <th>imp_op_var40_efect_ult3</th>\n",
              "      <th>imp_op_var40_ult1</th>\n",
              "      <th>imp_op_var41_comer_ult1</th>\n",
              "      <th>imp_op_var41_comer_ult3</th>\n",
              "      <th>imp_op_var41_efect_ult1</th>\n",
              "      <th>imp_op_var41_efect_ult3</th>\n",
              "      <th>imp_op_var41_ult1</th>\n",
              "      <th>imp_op_var39_efect_ult1</th>\n",
              "      <th>imp_op_var39_efect_ult3</th>\n",
              "      <th>imp_op_var39_ult1</th>\n",
              "      <th>imp_sal_var16_ult1</th>\n",
              "      <th>ind_var1_0</th>\n",
              "      <th>ind_var1</th>\n",
              "      <th>ind_var2_0</th>\n",
              "      <th>ind_var2</th>\n",
              "      <th>ind_var5_0</th>\n",
              "      <th>ind_var5</th>\n",
              "      <th>ind_var6_0</th>\n",
              "      <th>ind_var6</th>\n",
              "      <th>ind_var8_0</th>\n",
              "      <th>ind_var8</th>\n",
              "      <th>ind_var12_0</th>\n",
              "      <th>ind_var12</th>\n",
              "      <th>ind_var13_0</th>\n",
              "      <th>ind_var13_corto_0</th>\n",
              "      <th>ind_var13_corto</th>\n",
              "      <th>ind_var13_largo_0</th>\n",
              "      <th>ind_var13_largo</th>\n",
              "      <th>ind_var13_medio_0</th>\n",
              "      <th>ind_var13_medio</th>\n",
              "      <th>ind_var13</th>\n",
              "      <th>...</th>\n",
              "      <th>saldo_medio_var5_ult1</th>\n",
              "      <th>saldo_medio_var5_ult3</th>\n",
              "      <th>saldo_medio_var8_hace2</th>\n",
              "      <th>saldo_medio_var8_hace3</th>\n",
              "      <th>saldo_medio_var8_ult1</th>\n",
              "      <th>saldo_medio_var8_ult3</th>\n",
              "      <th>saldo_medio_var12_hace2</th>\n",
              "      <th>saldo_medio_var12_hace3</th>\n",
              "      <th>saldo_medio_var12_ult1</th>\n",
              "      <th>saldo_medio_var12_ult3</th>\n",
              "      <th>saldo_medio_var13_corto_hace2</th>\n",
              "      <th>saldo_medio_var13_corto_hace3</th>\n",
              "      <th>saldo_medio_var13_corto_ult1</th>\n",
              "      <th>saldo_medio_var13_corto_ult3</th>\n",
              "      <th>saldo_medio_var13_largo_hace2</th>\n",
              "      <th>saldo_medio_var13_largo_hace3</th>\n",
              "      <th>saldo_medio_var13_largo_ult1</th>\n",
              "      <th>saldo_medio_var13_largo_ult3</th>\n",
              "      <th>saldo_medio_var13_medio_hace2</th>\n",
              "      <th>saldo_medio_var13_medio_hace3</th>\n",
              "      <th>saldo_medio_var13_medio_ult1</th>\n",
              "      <th>saldo_medio_var13_medio_ult3</th>\n",
              "      <th>saldo_medio_var17_hace2</th>\n",
              "      <th>saldo_medio_var17_hace3</th>\n",
              "      <th>saldo_medio_var17_ult1</th>\n",
              "      <th>saldo_medio_var17_ult3</th>\n",
              "      <th>saldo_medio_var29_hace2</th>\n",
              "      <th>saldo_medio_var29_hace3</th>\n",
              "      <th>saldo_medio_var29_ult1</th>\n",
              "      <th>saldo_medio_var29_ult3</th>\n",
              "      <th>saldo_medio_var33_hace2</th>\n",
              "      <th>saldo_medio_var33_hace3</th>\n",
              "      <th>saldo_medio_var33_ult1</th>\n",
              "      <th>saldo_medio_var33_ult3</th>\n",
              "      <th>saldo_medio_var44_hace2</th>\n",
              "      <th>saldo_medio_var44_hace3</th>\n",
              "      <th>saldo_medio_var44_ult1</th>\n",
              "      <th>saldo_medio_var44_ult3</th>\n",
              "      <th>var38</th>\n",
              "      <th>TARGET</th>\n",
              "    </tr>\n",
              "  </thead>\n",
              "  <tbody>\n",
              "    <tr>\n",
              "      <th>count</th>\n",
              "      <td>76020.000000</td>\n",
              "      <td>76020.000000</td>\n",
              "      <td>76020.000000</td>\n",
              "      <td>76020.000000</td>\n",
              "      <td>76020.000000</td>\n",
              "      <td>76020.000000</td>\n",
              "      <td>76020.000000</td>\n",
              "      <td>76020.000000</td>\n",
              "      <td>76020.000000</td>\n",
              "      <td>76020.000000</td>\n",
              "      <td>76020.000000</td>\n",
              "      <td>76020.000000</td>\n",
              "      <td>76020.000000</td>\n",
              "      <td>76020.000000</td>\n",
              "      <td>76020.000000</td>\n",
              "      <td>76020.000000</td>\n",
              "      <td>76020.000000</td>\n",
              "      <td>76020.000000</td>\n",
              "      <td>76020.000000</td>\n",
              "      <td>76020.000000</td>\n",
              "      <td>76020.000000</td>\n",
              "      <td>76020.000000</td>\n",
              "      <td>76020.0</td>\n",
              "      <td>76020.0</td>\n",
              "      <td>76020.000000</td>\n",
              "      <td>76020.000000</td>\n",
              "      <td>76020.000000</td>\n",
              "      <td>76020.000000</td>\n",
              "      <td>76020.000000</td>\n",
              "      <td>76020.000000</td>\n",
              "      <td>76020.000000</td>\n",
              "      <td>76020.000000</td>\n",
              "      <td>76020.000000</td>\n",
              "      <td>76020.000000</td>\n",
              "      <td>76020.000000</td>\n",
              "      <td>76020.000000</td>\n",
              "      <td>76020.000000</td>\n",
              "      <td>76020.000000</td>\n",
              "      <td>76020.000000</td>\n",
              "      <td>76020.000000</td>\n",
              "      <td>...</td>\n",
              "      <td>76020.000000</td>\n",
              "      <td>76020.000000</td>\n",
              "      <td>76020.000000</td>\n",
              "      <td>76020.000000</td>\n",
              "      <td>76020.000000</td>\n",
              "      <td>76020.000000</td>\n",
              "      <td>7.602000e+04</td>\n",
              "      <td>76020.000000</td>\n",
              "      <td>7.602000e+04</td>\n",
              "      <td>7.602000e+04</td>\n",
              "      <td>76020.000000</td>\n",
              "      <td>76020.000000</td>\n",
              "      <td>76020.000000</td>\n",
              "      <td>76020.000000</td>\n",
              "      <td>76020.000000</td>\n",
              "      <td>76020.000000</td>\n",
              "      <td>7.602000e+04</td>\n",
              "      <td>7.602000e+04</td>\n",
              "      <td>76020.000000</td>\n",
              "      <td>76020.0</td>\n",
              "      <td>76020.000000</td>\n",
              "      <td>76020.000000</td>\n",
              "      <td>7.602000e+04</td>\n",
              "      <td>7.602000e+04</td>\n",
              "      <td>7.602000e+04</td>\n",
              "      <td>7.602000e+04</td>\n",
              "      <td>76020.000000</td>\n",
              "      <td>76020.000000</td>\n",
              "      <td>76020.000000</td>\n",
              "      <td>76020.000000</td>\n",
              "      <td>76020.000000</td>\n",
              "      <td>76020.000000</td>\n",
              "      <td>76020.000000</td>\n",
              "      <td>76020.000000</td>\n",
              "      <td>76020.000000</td>\n",
              "      <td>76020.000000</td>\n",
              "      <td>76020.000000</td>\n",
              "      <td>76020.000000</td>\n",
              "      <td>7.602000e+04</td>\n",
              "      <td>76020.000000</td>\n",
              "    </tr>\n",
              "    <tr>\n",
              "      <th>mean</th>\n",
              "      <td>75964.050723</td>\n",
              "      <td>-1523.199277</td>\n",
              "      <td>33.212865</td>\n",
              "      <td>86.208265</td>\n",
              "      <td>72.363067</td>\n",
              "      <td>119.529632</td>\n",
              "      <td>3.559130</td>\n",
              "      <td>6.472698</td>\n",
              "      <td>0.412946</td>\n",
              "      <td>0.567352</td>\n",
              "      <td>3.160715</td>\n",
              "      <td>68.803937</td>\n",
              "      <td>113.056934</td>\n",
              "      <td>68.205140</td>\n",
              "      <td>113.225058</td>\n",
              "      <td>137.242763</td>\n",
              "      <td>68.618087</td>\n",
              "      <td>113.792410</td>\n",
              "      <td>140.403479</td>\n",
              "      <td>5.477676</td>\n",
              "      <td>0.011458</td>\n",
              "      <td>0.003762</td>\n",
              "      <td>0.0</td>\n",
              "      <td>0.0</td>\n",
              "      <td>0.958024</td>\n",
              "      <td>0.663760</td>\n",
              "      <td>0.000105</td>\n",
              "      <td>0.000026</td>\n",
              "      <td>0.032833</td>\n",
              "      <td>0.028598</td>\n",
              "      <td>0.067522</td>\n",
              "      <td>0.045462</td>\n",
              "      <td>0.052249</td>\n",
              "      <td>0.042936</td>\n",
              "      <td>0.041476</td>\n",
              "      <td>0.010168</td>\n",
              "      <td>0.009997</td>\n",
              "      <td>0.000026</td>\n",
              "      <td>0.000026</td>\n",
              "      <td>0.050855</td>\n",
              "      <td>...</td>\n",
              "      <td>1077.256756</td>\n",
              "      <td>1048.856447</td>\n",
              "      <td>68.275452</td>\n",
              "      <td>9.505287</td>\n",
              "      <td>124.620962</td>\n",
              "      <td>110.026575</td>\n",
              "      <td>3.997023e+03</td>\n",
              "      <td>613.534443</td>\n",
              "      <td>5.703008e+03</td>\n",
              "      <td>4.401002e+03</td>\n",
              "      <td>3639.419939</td>\n",
              "      <td>556.184178</td>\n",
              "      <td>4852.261814</td>\n",
              "      <td>3857.848542</td>\n",
              "      <td>771.227449</td>\n",
              "      <td>162.170439</td>\n",
              "      <td>9.569502e+02</td>\n",
              "      <td>7.509563e+02</td>\n",
              "      <td>0.175324</td>\n",
              "      <td>0.0</td>\n",
              "      <td>0.513023</td>\n",
              "      <td>0.344174</td>\n",
              "      <td>9.117181e+01</td>\n",
              "      <td>3.646318e+01</td>\n",
              "      <td>1.310316e+02</td>\n",
              "      <td>1.092169e+02</td>\n",
              "      <td>0.213071</td>\n",
              "      <td>0.001910</td>\n",
              "      <td>0.253907</td>\n",
              "      <td>0.186630</td>\n",
              "      <td>7.935824</td>\n",
              "      <td>1.365146</td>\n",
              "      <td>12.215580</td>\n",
              "      <td>8.784074</td>\n",
              "      <td>31.505324</td>\n",
              "      <td>1.858575</td>\n",
              "      <td>76.026165</td>\n",
              "      <td>56.614351</td>\n",
              "      <td>1.172358e+05</td>\n",
              "      <td>0.039569</td>\n",
              "    </tr>\n",
              "    <tr>\n",
              "      <th>std</th>\n",
              "      <td>43781.947379</td>\n",
              "      <td>39033.462364</td>\n",
              "      <td>12.956486</td>\n",
              "      <td>1614.757313</td>\n",
              "      <td>339.315831</td>\n",
              "      <td>546.266294</td>\n",
              "      <td>93.155749</td>\n",
              "      <td>153.737066</td>\n",
              "      <td>30.604864</td>\n",
              "      <td>36.513513</td>\n",
              "      <td>95.268204</td>\n",
              "      <td>319.605516</td>\n",
              "      <td>512.154823</td>\n",
              "      <td>531.897917</td>\n",
              "      <td>950.086398</td>\n",
              "      <td>697.712596</td>\n",
              "      <td>535.473750</td>\n",
              "      <td>953.578624</td>\n",
              "      <td>712.767240</td>\n",
              "      <td>465.391149</td>\n",
              "      <td>0.106425</td>\n",
              "      <td>0.061221</td>\n",
              "      <td>0.0</td>\n",
              "      <td>0.0</td>\n",
              "      <td>0.200535</td>\n",
              "      <td>0.472425</td>\n",
              "      <td>0.010258</td>\n",
              "      <td>0.005129</td>\n",
              "      <td>0.178202</td>\n",
              "      <td>0.166674</td>\n",
              "      <td>0.250925</td>\n",
              "      <td>0.208316</td>\n",
              "      <td>0.222531</td>\n",
              "      <td>0.202714</td>\n",
              "      <td>0.199390</td>\n",
              "      <td>0.100325</td>\n",
              "      <td>0.099486</td>\n",
              "      <td>0.005129</td>\n",
              "      <td>0.005129</td>\n",
              "      <td>0.219703</td>\n",
              "      <td>...</td>\n",
              "      <td>9614.906985</td>\n",
              "      <td>8189.948852</td>\n",
              "      <td>1733.838226</td>\n",
              "      <td>519.389157</td>\n",
              "      <td>2205.249804</td>\n",
              "      <td>1935.305713</td>\n",
              "      <td>3.777314e+04</td>\n",
              "      <td>9292.752726</td>\n",
              "      <td>4.620254e+04</td>\n",
              "      <td>3.550718e+04</td>\n",
              "      <td>26359.174223</td>\n",
              "      <td>7182.642532</td>\n",
              "      <td>31886.615189</td>\n",
              "      <td>25572.245055</td>\n",
              "      <td>13082.155867</td>\n",
              "      <td>4698.868075</td>\n",
              "      <td>1.600698e+04</td>\n",
              "      <td>1.242252e+04</td>\n",
              "      <td>34.625518</td>\n",
              "      <td>0.0</td>\n",
              "      <td>113.597559</td>\n",
              "      <td>73.376513</td>\n",
              "      <td>1.539248e+04</td>\n",
              "      <td>8.612395e+03</td>\n",
              "      <td>1.495653e+04</td>\n",
              "      <td>1.308216e+04</td>\n",
              "      <td>41.820444</td>\n",
              "      <td>0.526626</td>\n",
              "      <td>52.078775</td>\n",
              "      <td>31.879418</td>\n",
              "      <td>455.887218</td>\n",
              "      <td>113.959637</td>\n",
              "      <td>783.207399</td>\n",
              "      <td>538.439211</td>\n",
              "      <td>2013.125393</td>\n",
              "      <td>147.786584</td>\n",
              "      <td>4040.337842</td>\n",
              "      <td>2852.579397</td>\n",
              "      <td>1.826646e+05</td>\n",
              "      <td>0.194945</td>\n",
              "    </tr>\n",
              "    <tr>\n",
              "      <th>min</th>\n",
              "      <td>1.000000</td>\n",
              "      <td>-999999.000000</td>\n",
              "      <td>5.000000</td>\n",
              "      <td>0.000000</td>\n",
              "      <td>0.000000</td>\n",
              "      <td>0.000000</td>\n",
              "      <td>0.000000</td>\n",
              "      <td>0.000000</td>\n",
              "      <td>0.000000</td>\n",
              "      <td>0.000000</td>\n",
              "      <td>0.000000</td>\n",
              "      <td>0.000000</td>\n",
              "      <td>0.000000</td>\n",
              "      <td>0.000000</td>\n",
              "      <td>0.000000</td>\n",
              "      <td>0.000000</td>\n",
              "      <td>0.000000</td>\n",
              "      <td>0.000000</td>\n",
              "      <td>0.000000</td>\n",
              "      <td>0.000000</td>\n",
              "      <td>0.000000</td>\n",
              "      <td>0.000000</td>\n",
              "      <td>0.0</td>\n",
              "      <td>0.0</td>\n",
              "      <td>0.000000</td>\n",
              "      <td>0.000000</td>\n",
              "      <td>0.000000</td>\n",
              "      <td>0.000000</td>\n",
              "      <td>0.000000</td>\n",
              "      <td>0.000000</td>\n",
              "      <td>0.000000</td>\n",
              "      <td>0.000000</td>\n",
              "      <td>0.000000</td>\n",
              "      <td>0.000000</td>\n",
              "      <td>0.000000</td>\n",
              "      <td>0.000000</td>\n",
              "      <td>0.000000</td>\n",
              "      <td>0.000000</td>\n",
              "      <td>0.000000</td>\n",
              "      <td>0.000000</td>\n",
              "      <td>...</td>\n",
              "      <td>-922.380000</td>\n",
              "      <td>-476.070000</td>\n",
              "      <td>-287.670000</td>\n",
              "      <td>0.000000</td>\n",
              "      <td>-3401.340000</td>\n",
              "      <td>-1844.520000</td>\n",
              "      <td>0.000000e+00</td>\n",
              "      <td>0.000000</td>\n",
              "      <td>0.000000e+00</td>\n",
              "      <td>0.000000e+00</td>\n",
              "      <td>0.000000</td>\n",
              "      <td>0.000000</td>\n",
              "      <td>0.000000</td>\n",
              "      <td>0.000000</td>\n",
              "      <td>0.000000</td>\n",
              "      <td>0.000000</td>\n",
              "      <td>0.000000e+00</td>\n",
              "      <td>0.000000e+00</td>\n",
              "      <td>0.000000</td>\n",
              "      <td>0.0</td>\n",
              "      <td>0.000000</td>\n",
              "      <td>0.000000</td>\n",
              "      <td>-3.000000e-02</td>\n",
              "      <td>0.000000e+00</td>\n",
              "      <td>0.000000e+00</td>\n",
              "      <td>0.000000e+00</td>\n",
              "      <td>0.000000</td>\n",
              "      <td>0.000000</td>\n",
              "      <td>0.000000</td>\n",
              "      <td>0.000000</td>\n",
              "      <td>0.000000</td>\n",
              "      <td>0.000000</td>\n",
              "      <td>0.000000</td>\n",
              "      <td>0.000000</td>\n",
              "      <td>0.000000</td>\n",
              "      <td>0.000000</td>\n",
              "      <td>0.000000</td>\n",
              "      <td>0.000000</td>\n",
              "      <td>5.163750e+03</td>\n",
              "      <td>0.000000</td>\n",
              "    </tr>\n",
              "    <tr>\n",
              "      <th>25%</th>\n",
              "      <td>38104.750000</td>\n",
              "      <td>2.000000</td>\n",
              "      <td>23.000000</td>\n",
              "      <td>0.000000</td>\n",
              "      <td>0.000000</td>\n",
              "      <td>0.000000</td>\n",
              "      <td>0.000000</td>\n",
              "      <td>0.000000</td>\n",
              "      <td>0.000000</td>\n",
              "      <td>0.000000</td>\n",
              "      <td>0.000000</td>\n",
              "      <td>0.000000</td>\n",
              "      <td>0.000000</td>\n",
              "      <td>0.000000</td>\n",
              "      <td>0.000000</td>\n",
              "      <td>0.000000</td>\n",
              "      <td>0.000000</td>\n",
              "      <td>0.000000</td>\n",
              "      <td>0.000000</td>\n",
              "      <td>0.000000</td>\n",
              "      <td>0.000000</td>\n",
              "      <td>0.000000</td>\n",
              "      <td>0.0</td>\n",
              "      <td>0.0</td>\n",
              "      <td>1.000000</td>\n",
              "      <td>0.000000</td>\n",
              "      <td>0.000000</td>\n",
              "      <td>0.000000</td>\n",
              "      <td>0.000000</td>\n",
              "      <td>0.000000</td>\n",
              "      <td>0.000000</td>\n",
              "      <td>0.000000</td>\n",
              "      <td>0.000000</td>\n",
              "      <td>0.000000</td>\n",
              "      <td>0.000000</td>\n",
              "      <td>0.000000</td>\n",
              "      <td>0.000000</td>\n",
              "      <td>0.000000</td>\n",
              "      <td>0.000000</td>\n",
              "      <td>0.000000</td>\n",
              "      <td>...</td>\n",
              "      <td>0.000000</td>\n",
              "      <td>0.000000</td>\n",
              "      <td>0.000000</td>\n",
              "      <td>0.000000</td>\n",
              "      <td>0.000000</td>\n",
              "      <td>0.000000</td>\n",
              "      <td>0.000000e+00</td>\n",
              "      <td>0.000000</td>\n",
              "      <td>0.000000e+00</td>\n",
              "      <td>0.000000e+00</td>\n",
              "      <td>0.000000</td>\n",
              "      <td>0.000000</td>\n",
              "      <td>0.000000</td>\n",
              "      <td>0.000000</td>\n",
              "      <td>0.000000</td>\n",
              "      <td>0.000000</td>\n",
              "      <td>0.000000e+00</td>\n",
              "      <td>0.000000e+00</td>\n",
              "      <td>0.000000</td>\n",
              "      <td>0.0</td>\n",
              "      <td>0.000000</td>\n",
              "      <td>0.000000</td>\n",
              "      <td>0.000000e+00</td>\n",
              "      <td>0.000000e+00</td>\n",
              "      <td>0.000000e+00</td>\n",
              "      <td>0.000000e+00</td>\n",
              "      <td>0.000000</td>\n",
              "      <td>0.000000</td>\n",
              "      <td>0.000000</td>\n",
              "      <td>0.000000</td>\n",
              "      <td>0.000000</td>\n",
              "      <td>0.000000</td>\n",
              "      <td>0.000000</td>\n",
              "      <td>0.000000</td>\n",
              "      <td>0.000000</td>\n",
              "      <td>0.000000</td>\n",
              "      <td>0.000000</td>\n",
              "      <td>0.000000</td>\n",
              "      <td>6.787061e+04</td>\n",
              "      <td>0.000000</td>\n",
              "    </tr>\n",
              "    <tr>\n",
              "      <th>50%</th>\n",
              "      <td>76043.000000</td>\n",
              "      <td>2.000000</td>\n",
              "      <td>28.000000</td>\n",
              "      <td>0.000000</td>\n",
              "      <td>0.000000</td>\n",
              "      <td>0.000000</td>\n",
              "      <td>0.000000</td>\n",
              "      <td>0.000000</td>\n",
              "      <td>0.000000</td>\n",
              "      <td>0.000000</td>\n",
              "      <td>0.000000</td>\n",
              "      <td>0.000000</td>\n",
              "      <td>0.000000</td>\n",
              "      <td>0.000000</td>\n",
              "      <td>0.000000</td>\n",
              "      <td>0.000000</td>\n",
              "      <td>0.000000</td>\n",
              "      <td>0.000000</td>\n",
              "      <td>0.000000</td>\n",
              "      <td>0.000000</td>\n",
              "      <td>0.000000</td>\n",
              "      <td>0.000000</td>\n",
              "      <td>0.0</td>\n",
              "      <td>0.0</td>\n",
              "      <td>1.000000</td>\n",
              "      <td>1.000000</td>\n",
              "      <td>0.000000</td>\n",
              "      <td>0.000000</td>\n",
              "      <td>0.000000</td>\n",
              "      <td>0.000000</td>\n",
              "      <td>0.000000</td>\n",
              "      <td>0.000000</td>\n",
              "      <td>0.000000</td>\n",
              "      <td>0.000000</td>\n",
              "      <td>0.000000</td>\n",
              "      <td>0.000000</td>\n",
              "      <td>0.000000</td>\n",
              "      <td>0.000000</td>\n",
              "      <td>0.000000</td>\n",
              "      <td>0.000000</td>\n",
              "      <td>...</td>\n",
              "      <td>3.000000</td>\n",
              "      <td>2.730000</td>\n",
              "      <td>0.000000</td>\n",
              "      <td>0.000000</td>\n",
              "      <td>0.000000</td>\n",
              "      <td>0.000000</td>\n",
              "      <td>0.000000e+00</td>\n",
              "      <td>0.000000</td>\n",
              "      <td>0.000000e+00</td>\n",
              "      <td>0.000000e+00</td>\n",
              "      <td>0.000000</td>\n",
              "      <td>0.000000</td>\n",
              "      <td>0.000000</td>\n",
              "      <td>0.000000</td>\n",
              "      <td>0.000000</td>\n",
              "      <td>0.000000</td>\n",
              "      <td>0.000000e+00</td>\n",
              "      <td>0.000000e+00</td>\n",
              "      <td>0.000000</td>\n",
              "      <td>0.0</td>\n",
              "      <td>0.000000</td>\n",
              "      <td>0.000000</td>\n",
              "      <td>0.000000e+00</td>\n",
              "      <td>0.000000e+00</td>\n",
              "      <td>0.000000e+00</td>\n",
              "      <td>0.000000e+00</td>\n",
              "      <td>0.000000</td>\n",
              "      <td>0.000000</td>\n",
              "      <td>0.000000</td>\n",
              "      <td>0.000000</td>\n",
              "      <td>0.000000</td>\n",
              "      <td>0.000000</td>\n",
              "      <td>0.000000</td>\n",
              "      <td>0.000000</td>\n",
              "      <td>0.000000</td>\n",
              "      <td>0.000000</td>\n",
              "      <td>0.000000</td>\n",
              "      <td>0.000000</td>\n",
              "      <td>1.064092e+05</td>\n",
              "      <td>0.000000</td>\n",
              "    </tr>\n",
              "    <tr>\n",
              "      <th>75%</th>\n",
              "      <td>113748.750000</td>\n",
              "      <td>2.000000</td>\n",
              "      <td>40.000000</td>\n",
              "      <td>0.000000</td>\n",
              "      <td>0.000000</td>\n",
              "      <td>0.000000</td>\n",
              "      <td>0.000000</td>\n",
              "      <td>0.000000</td>\n",
              "      <td>0.000000</td>\n",
              "      <td>0.000000</td>\n",
              "      <td>0.000000</td>\n",
              "      <td>0.000000</td>\n",
              "      <td>0.000000</td>\n",
              "      <td>0.000000</td>\n",
              "      <td>0.000000</td>\n",
              "      <td>0.000000</td>\n",
              "      <td>0.000000</td>\n",
              "      <td>0.000000</td>\n",
              "      <td>0.000000</td>\n",
              "      <td>0.000000</td>\n",
              "      <td>0.000000</td>\n",
              "      <td>0.000000</td>\n",
              "      <td>0.0</td>\n",
              "      <td>0.0</td>\n",
              "      <td>1.000000</td>\n",
              "      <td>1.000000</td>\n",
              "      <td>0.000000</td>\n",
              "      <td>0.000000</td>\n",
              "      <td>0.000000</td>\n",
              "      <td>0.000000</td>\n",
              "      <td>0.000000</td>\n",
              "      <td>0.000000</td>\n",
              "      <td>0.000000</td>\n",
              "      <td>0.000000</td>\n",
              "      <td>0.000000</td>\n",
              "      <td>0.000000</td>\n",
              "      <td>0.000000</td>\n",
              "      <td>0.000000</td>\n",
              "      <td>0.000000</td>\n",
              "      <td>0.000000</td>\n",
              "      <td>...</td>\n",
              "      <td>90.000000</td>\n",
              "      <td>83.790000</td>\n",
              "      <td>0.000000</td>\n",
              "      <td>0.000000</td>\n",
              "      <td>0.000000</td>\n",
              "      <td>0.000000</td>\n",
              "      <td>0.000000e+00</td>\n",
              "      <td>0.000000</td>\n",
              "      <td>0.000000e+00</td>\n",
              "      <td>0.000000e+00</td>\n",
              "      <td>0.000000</td>\n",
              "      <td>0.000000</td>\n",
              "      <td>0.000000</td>\n",
              "      <td>0.000000</td>\n",
              "      <td>0.000000</td>\n",
              "      <td>0.000000</td>\n",
              "      <td>0.000000e+00</td>\n",
              "      <td>0.000000e+00</td>\n",
              "      <td>0.000000</td>\n",
              "      <td>0.0</td>\n",
              "      <td>0.000000</td>\n",
              "      <td>0.000000</td>\n",
              "      <td>0.000000e+00</td>\n",
              "      <td>0.000000e+00</td>\n",
              "      <td>0.000000e+00</td>\n",
              "      <td>0.000000e+00</td>\n",
              "      <td>0.000000</td>\n",
              "      <td>0.000000</td>\n",
              "      <td>0.000000</td>\n",
              "      <td>0.000000</td>\n",
              "      <td>0.000000</td>\n",
              "      <td>0.000000</td>\n",
              "      <td>0.000000</td>\n",
              "      <td>0.000000</td>\n",
              "      <td>0.000000</td>\n",
              "      <td>0.000000</td>\n",
              "      <td>0.000000</td>\n",
              "      <td>0.000000</td>\n",
              "      <td>1.187563e+05</td>\n",
              "      <td>0.000000</td>\n",
              "    </tr>\n",
              "    <tr>\n",
              "      <th>max</th>\n",
              "      <td>151838.000000</td>\n",
              "      <td>238.000000</td>\n",
              "      <td>105.000000</td>\n",
              "      <td>210000.000000</td>\n",
              "      <td>12888.030000</td>\n",
              "      <td>21024.810000</td>\n",
              "      <td>8237.820000</td>\n",
              "      <td>11073.570000</td>\n",
              "      <td>6600.000000</td>\n",
              "      <td>6600.000000</td>\n",
              "      <td>8237.820000</td>\n",
              "      <td>12888.030000</td>\n",
              "      <td>16566.810000</td>\n",
              "      <td>45990.000000</td>\n",
              "      <td>131100.000000</td>\n",
              "      <td>47598.090000</td>\n",
              "      <td>45990.000000</td>\n",
              "      <td>131100.000000</td>\n",
              "      <td>47598.090000</td>\n",
              "      <td>105000.000000</td>\n",
              "      <td>1.000000</td>\n",
              "      <td>1.000000</td>\n",
              "      <td>0.0</td>\n",
              "      <td>0.0</td>\n",
              "      <td>1.000000</td>\n",
              "      <td>1.000000</td>\n",
              "      <td>1.000000</td>\n",
              "      <td>1.000000</td>\n",
              "      <td>1.000000</td>\n",
              "      <td>1.000000</td>\n",
              "      <td>1.000000</td>\n",
              "      <td>1.000000</td>\n",
              "      <td>1.000000</td>\n",
              "      <td>1.000000</td>\n",
              "      <td>1.000000</td>\n",
              "      <td>1.000000</td>\n",
              "      <td>1.000000</td>\n",
              "      <td>1.000000</td>\n",
              "      <td>1.000000</td>\n",
              "      <td>1.000000</td>\n",
              "      <td>...</td>\n",
              "      <td>601428.600000</td>\n",
              "      <td>544365.570000</td>\n",
              "      <td>231351.990000</td>\n",
              "      <td>77586.210000</td>\n",
              "      <td>228031.800000</td>\n",
              "      <td>177582.000000</td>\n",
              "      <td>3.000538e+06</td>\n",
              "      <td>668335.320000</td>\n",
              "      <td>3.004186e+06</td>\n",
              "      <td>2.272859e+06</td>\n",
              "      <td>450000.000000</td>\n",
              "      <td>304838.700000</td>\n",
              "      <td>450000.000000</td>\n",
              "      <td>450000.000000</td>\n",
              "      <td>840000.000000</td>\n",
              "      <td>534000.000000</td>\n",
              "      <td>1.500000e+06</td>\n",
              "      <td>1.034483e+06</td>\n",
              "      <td>7741.950000</td>\n",
              "      <td>0.0</td>\n",
              "      <td>30000.000000</td>\n",
              "      <td>18870.990000</td>\n",
              "      <td>4.210084e+06</td>\n",
              "      <td>2.368559e+06</td>\n",
              "      <td>3.998687e+06</td>\n",
              "      <td>3.525777e+06</td>\n",
              "      <td>10430.010000</td>\n",
              "      <td>145.200000</td>\n",
              "      <td>13793.670000</td>\n",
              "      <td>7331.340000</td>\n",
              "      <td>50003.880000</td>\n",
              "      <td>20385.720000</td>\n",
              "      <td>138831.630000</td>\n",
              "      <td>91778.730000</td>\n",
              "      <td>438329.220000</td>\n",
              "      <td>24650.010000</td>\n",
              "      <td>681462.900000</td>\n",
              "      <td>397884.300000</td>\n",
              "      <td>2.203474e+07</td>\n",
              "      <td>1.000000</td>\n",
              "    </tr>\n",
              "  </tbody>\n",
              "</table>\n",
              "<p>8 rows × 371 columns</p>\n",
              "</div>"
            ],
            "text/plain": [
              "                  ID           var3  ...         var38        TARGET\n",
              "count   76020.000000   76020.000000  ...  7.602000e+04  76020.000000\n",
              "mean    75964.050723   -1523.199277  ...  1.172358e+05      0.039569\n",
              "std     43781.947379   39033.462364  ...  1.826646e+05      0.194945\n",
              "min         1.000000 -999999.000000  ...  5.163750e+03      0.000000\n",
              "25%     38104.750000       2.000000  ...  6.787061e+04      0.000000\n",
              "50%     76043.000000       2.000000  ...  1.064092e+05      0.000000\n",
              "75%    113748.750000       2.000000  ...  1.187563e+05      0.000000\n",
              "max    151838.000000     238.000000  ...  2.203474e+07      1.000000\n",
              "\n",
              "[8 rows x 371 columns]"
            ]
          },
          "metadata": {
            "tags": []
          },
          "execution_count": 9
        }
      ]
    },
    {
      "cell_type": "markdown",
      "metadata": {
        "id": "tzR9c3DfJhX0",
        "colab_type": "text"
      },
      "source": [
        "### Balance check"
      ]
    },
    {
      "cell_type": "code",
      "metadata": {
        "id": "W8LzZ0vOJhX2",
        "colab_type": "code",
        "outputId": "7c28ed2d-82e0-4a87-a29f-b9ee8458b59a",
        "colab": {
          "base_uri": "https://localhost:8080/",
          "height": 112
        }
      },
      "source": [
        "#Checking if the dataset is balanced or unbalanced\n",
        "BalanceCheck = pd.DataFrame(df[\"TARGET\"].value_counts())\n",
        "BalanceCheck['Percentage'] = 100*BalanceCheck[\"TARGET\"]/df.shape[0]\n",
        "BalanceCheck"
      ],
      "execution_count": 10,
      "outputs": [
        {
          "output_type": "execute_result",
          "data": {
            "text/html": [
              "<div>\n",
              "<style scoped>\n",
              "    .dataframe tbody tr th:only-of-type {\n",
              "        vertical-align: middle;\n",
              "    }\n",
              "\n",
              "    .dataframe tbody tr th {\n",
              "        vertical-align: top;\n",
              "    }\n",
              "\n",
              "    .dataframe thead th {\n",
              "        text-align: right;\n",
              "    }\n",
              "</style>\n",
              "<table border=\"1\" class=\"dataframe\">\n",
              "  <thead>\n",
              "    <tr style=\"text-align: right;\">\n",
              "      <th></th>\n",
              "      <th>TARGET</th>\n",
              "      <th>Percentage</th>\n",
              "    </tr>\n",
              "  </thead>\n",
              "  <tbody>\n",
              "    <tr>\n",
              "      <th>0</th>\n",
              "      <td>73012</td>\n",
              "      <td>96.043147</td>\n",
              "    </tr>\n",
              "    <tr>\n",
              "      <th>1</th>\n",
              "      <td>3008</td>\n",
              "      <td>3.956853</td>\n",
              "    </tr>\n",
              "  </tbody>\n",
              "</table>\n",
              "</div>"
            ],
            "text/plain": [
              "   TARGET  Percentage\n",
              "0   73012   96.043147\n",
              "1    3008    3.956853"
            ]
          },
          "metadata": {
            "tags": []
          },
          "execution_count": 10
        }
      ]
    },
    {
      "cell_type": "markdown",
      "metadata": {
        "id": "W1KHa4a-JhX7",
        "colab_type": "text"
      },
      "source": [
        "### Checking the value counts for top 15 values"
      ]
    },
    {
      "cell_type": "code",
      "metadata": {
        "id": "xzRljQw8JhX9",
        "colab_type": "code",
        "outputId": "9780f651-a493-456e-b98b-94a23c1ba89c",
        "colab": {
          "base_uri": "https://localhost:8080/",
          "height": 303
        }
      },
      "source": [
        "df[\"var3\"].value_counts()[:15]"
      ],
      "execution_count": 11,
      "outputs": [
        {
          "output_type": "execute_result",
          "data": {
            "text/plain": [
              " 2         74165\n",
              " 8           138\n",
              "-999999      116\n",
              " 9           110\n",
              " 3           108\n",
              " 1           105\n",
              " 13           98\n",
              " 7            97\n",
              " 4            86\n",
              " 12           85\n",
              " 6            82\n",
              " 0            75\n",
              " 10           72\n",
              " 11           66\n",
              " 5            63\n",
              "Name: var3, dtype: int64"
            ]
          },
          "metadata": {
            "tags": []
          },
          "execution_count": 11
        }
      ]
    },
    {
      "cell_type": "markdown",
      "metadata": {
        "id": "58olLWynJhYC",
        "colab_type": "text"
      },
      "source": [
        "### Replacing the -999999 with most common occurance value - 2"
      ]
    },
    {
      "cell_type": "code",
      "metadata": {
        "id": "e8nCRLGUJhYF",
        "colab_type": "code",
        "colab": {}
      },
      "source": [
        "df[\"var3\"] = df[\"var3\"].replace(-999999,2)"
      ],
      "execution_count": 0,
      "outputs": []
    },
    {
      "cell_type": "code",
      "metadata": {
        "id": "4BBAZN0ZJhYK",
        "colab_type": "code",
        "outputId": "544ea45a-bb77-458d-b333-e9316a658e8d",
        "colab": {
          "base_uri": "https://localhost:8080/",
          "height": 256
        }
      },
      "source": [
        "df.head(5)"
      ],
      "execution_count": 13,
      "outputs": [
        {
          "output_type": "execute_result",
          "data": {
            "text/html": [
              "<div>\n",
              "<style scoped>\n",
              "    .dataframe tbody tr th:only-of-type {\n",
              "        vertical-align: middle;\n",
              "    }\n",
              "\n",
              "    .dataframe tbody tr th {\n",
              "        vertical-align: top;\n",
              "    }\n",
              "\n",
              "    .dataframe thead th {\n",
              "        text-align: right;\n",
              "    }\n",
              "</style>\n",
              "<table border=\"1\" class=\"dataframe\">\n",
              "  <thead>\n",
              "    <tr style=\"text-align: right;\">\n",
              "      <th></th>\n",
              "      <th>ID</th>\n",
              "      <th>var3</th>\n",
              "      <th>var15</th>\n",
              "      <th>imp_ent_var16_ult1</th>\n",
              "      <th>imp_op_var39_comer_ult1</th>\n",
              "      <th>imp_op_var39_comer_ult3</th>\n",
              "      <th>imp_op_var40_comer_ult1</th>\n",
              "      <th>imp_op_var40_comer_ult3</th>\n",
              "      <th>imp_op_var40_efect_ult1</th>\n",
              "      <th>imp_op_var40_efect_ult3</th>\n",
              "      <th>imp_op_var40_ult1</th>\n",
              "      <th>imp_op_var41_comer_ult1</th>\n",
              "      <th>imp_op_var41_comer_ult3</th>\n",
              "      <th>imp_op_var41_efect_ult1</th>\n",
              "      <th>imp_op_var41_efect_ult3</th>\n",
              "      <th>imp_op_var41_ult1</th>\n",
              "      <th>imp_op_var39_efect_ult1</th>\n",
              "      <th>imp_op_var39_efect_ult3</th>\n",
              "      <th>imp_op_var39_ult1</th>\n",
              "      <th>imp_sal_var16_ult1</th>\n",
              "      <th>ind_var1_0</th>\n",
              "      <th>ind_var1</th>\n",
              "      <th>ind_var2_0</th>\n",
              "      <th>ind_var2</th>\n",
              "      <th>ind_var5_0</th>\n",
              "      <th>ind_var5</th>\n",
              "      <th>ind_var6_0</th>\n",
              "      <th>ind_var6</th>\n",
              "      <th>ind_var8_0</th>\n",
              "      <th>ind_var8</th>\n",
              "      <th>ind_var12_0</th>\n",
              "      <th>ind_var12</th>\n",
              "      <th>ind_var13_0</th>\n",
              "      <th>ind_var13_corto_0</th>\n",
              "      <th>ind_var13_corto</th>\n",
              "      <th>ind_var13_largo_0</th>\n",
              "      <th>ind_var13_largo</th>\n",
              "      <th>ind_var13_medio_0</th>\n",
              "      <th>ind_var13_medio</th>\n",
              "      <th>ind_var13</th>\n",
              "      <th>...</th>\n",
              "      <th>saldo_medio_var5_ult1</th>\n",
              "      <th>saldo_medio_var5_ult3</th>\n",
              "      <th>saldo_medio_var8_hace2</th>\n",
              "      <th>saldo_medio_var8_hace3</th>\n",
              "      <th>saldo_medio_var8_ult1</th>\n",
              "      <th>saldo_medio_var8_ult3</th>\n",
              "      <th>saldo_medio_var12_hace2</th>\n",
              "      <th>saldo_medio_var12_hace3</th>\n",
              "      <th>saldo_medio_var12_ult1</th>\n",
              "      <th>saldo_medio_var12_ult3</th>\n",
              "      <th>saldo_medio_var13_corto_hace2</th>\n",
              "      <th>saldo_medio_var13_corto_hace3</th>\n",
              "      <th>saldo_medio_var13_corto_ult1</th>\n",
              "      <th>saldo_medio_var13_corto_ult3</th>\n",
              "      <th>saldo_medio_var13_largo_hace2</th>\n",
              "      <th>saldo_medio_var13_largo_hace3</th>\n",
              "      <th>saldo_medio_var13_largo_ult1</th>\n",
              "      <th>saldo_medio_var13_largo_ult3</th>\n",
              "      <th>saldo_medio_var13_medio_hace2</th>\n",
              "      <th>saldo_medio_var13_medio_hace3</th>\n",
              "      <th>saldo_medio_var13_medio_ult1</th>\n",
              "      <th>saldo_medio_var13_medio_ult3</th>\n",
              "      <th>saldo_medio_var17_hace2</th>\n",
              "      <th>saldo_medio_var17_hace3</th>\n",
              "      <th>saldo_medio_var17_ult1</th>\n",
              "      <th>saldo_medio_var17_ult3</th>\n",
              "      <th>saldo_medio_var29_hace2</th>\n",
              "      <th>saldo_medio_var29_hace3</th>\n",
              "      <th>saldo_medio_var29_ult1</th>\n",
              "      <th>saldo_medio_var29_ult3</th>\n",
              "      <th>saldo_medio_var33_hace2</th>\n",
              "      <th>saldo_medio_var33_hace3</th>\n",
              "      <th>saldo_medio_var33_ult1</th>\n",
              "      <th>saldo_medio_var33_ult3</th>\n",
              "      <th>saldo_medio_var44_hace2</th>\n",
              "      <th>saldo_medio_var44_hace3</th>\n",
              "      <th>saldo_medio_var44_ult1</th>\n",
              "      <th>saldo_medio_var44_ult3</th>\n",
              "      <th>var38</th>\n",
              "      <th>TARGET</th>\n",
              "    </tr>\n",
              "  </thead>\n",
              "  <tbody>\n",
              "    <tr>\n",
              "      <th>0</th>\n",
              "      <td>1</td>\n",
              "      <td>2</td>\n",
              "      <td>23</td>\n",
              "      <td>0.0</td>\n",
              "      <td>0.0</td>\n",
              "      <td>0.0</td>\n",
              "      <td>0.0</td>\n",
              "      <td>0.0</td>\n",
              "      <td>0.0</td>\n",
              "      <td>0.0</td>\n",
              "      <td>0.0</td>\n",
              "      <td>0.0</td>\n",
              "      <td>0.0</td>\n",
              "      <td>0.0</td>\n",
              "      <td>0.0</td>\n",
              "      <td>0.0</td>\n",
              "      <td>0.0</td>\n",
              "      <td>0.0</td>\n",
              "      <td>0.0</td>\n",
              "      <td>0.0</td>\n",
              "      <td>0</td>\n",
              "      <td>0</td>\n",
              "      <td>0</td>\n",
              "      <td>0</td>\n",
              "      <td>1</td>\n",
              "      <td>0</td>\n",
              "      <td>0</td>\n",
              "      <td>0</td>\n",
              "      <td>0</td>\n",
              "      <td>0</td>\n",
              "      <td>0</td>\n",
              "      <td>0</td>\n",
              "      <td>0</td>\n",
              "      <td>0</td>\n",
              "      <td>0</td>\n",
              "      <td>0</td>\n",
              "      <td>0</td>\n",
              "      <td>0</td>\n",
              "      <td>0</td>\n",
              "      <td>0</td>\n",
              "      <td>...</td>\n",
              "      <td>0.00</td>\n",
              "      <td>0.00</td>\n",
              "      <td>0.0</td>\n",
              "      <td>0.0</td>\n",
              "      <td>0.0</td>\n",
              "      <td>0.0</td>\n",
              "      <td>0.0</td>\n",
              "      <td>0.0</td>\n",
              "      <td>0.00</td>\n",
              "      <td>0.00</td>\n",
              "      <td>0.0</td>\n",
              "      <td>0.00</td>\n",
              "      <td>0.0</td>\n",
              "      <td>0.00</td>\n",
              "      <td>0.0</td>\n",
              "      <td>0.0</td>\n",
              "      <td>0.0</td>\n",
              "      <td>0.0</td>\n",
              "      <td>0.0</td>\n",
              "      <td>0</td>\n",
              "      <td>0</td>\n",
              "      <td>0.0</td>\n",
              "      <td>0.0</td>\n",
              "      <td>0.0</td>\n",
              "      <td>0.0</td>\n",
              "      <td>0.0</td>\n",
              "      <td>0.0</td>\n",
              "      <td>0.0</td>\n",
              "      <td>0.0</td>\n",
              "      <td>0.0</td>\n",
              "      <td>0.0</td>\n",
              "      <td>0.0</td>\n",
              "      <td>0.0</td>\n",
              "      <td>0.0</td>\n",
              "      <td>0.0</td>\n",
              "      <td>0.0</td>\n",
              "      <td>0.0</td>\n",
              "      <td>0.0</td>\n",
              "      <td>39205.170000</td>\n",
              "      <td>0</td>\n",
              "    </tr>\n",
              "    <tr>\n",
              "      <th>1</th>\n",
              "      <td>3</td>\n",
              "      <td>2</td>\n",
              "      <td>34</td>\n",
              "      <td>0.0</td>\n",
              "      <td>0.0</td>\n",
              "      <td>0.0</td>\n",
              "      <td>0.0</td>\n",
              "      <td>0.0</td>\n",
              "      <td>0.0</td>\n",
              "      <td>0.0</td>\n",
              "      <td>0.0</td>\n",
              "      <td>0.0</td>\n",
              "      <td>0.0</td>\n",
              "      <td>0.0</td>\n",
              "      <td>0.0</td>\n",
              "      <td>0.0</td>\n",
              "      <td>0.0</td>\n",
              "      <td>0.0</td>\n",
              "      <td>0.0</td>\n",
              "      <td>0.0</td>\n",
              "      <td>0</td>\n",
              "      <td>0</td>\n",
              "      <td>0</td>\n",
              "      <td>0</td>\n",
              "      <td>1</td>\n",
              "      <td>0</td>\n",
              "      <td>0</td>\n",
              "      <td>0</td>\n",
              "      <td>0</td>\n",
              "      <td>0</td>\n",
              "      <td>0</td>\n",
              "      <td>0</td>\n",
              "      <td>1</td>\n",
              "      <td>1</td>\n",
              "      <td>1</td>\n",
              "      <td>0</td>\n",
              "      <td>0</td>\n",
              "      <td>0</td>\n",
              "      <td>0</td>\n",
              "      <td>1</td>\n",
              "      <td>...</td>\n",
              "      <td>0.00</td>\n",
              "      <td>0.00</td>\n",
              "      <td>0.0</td>\n",
              "      <td>0.0</td>\n",
              "      <td>0.0</td>\n",
              "      <td>0.0</td>\n",
              "      <td>0.0</td>\n",
              "      <td>0.0</td>\n",
              "      <td>0.00</td>\n",
              "      <td>0.00</td>\n",
              "      <td>300.0</td>\n",
              "      <td>122.22</td>\n",
              "      <td>300.0</td>\n",
              "      <td>240.75</td>\n",
              "      <td>0.0</td>\n",
              "      <td>0.0</td>\n",
              "      <td>0.0</td>\n",
              "      <td>0.0</td>\n",
              "      <td>0.0</td>\n",
              "      <td>0</td>\n",
              "      <td>0</td>\n",
              "      <td>0.0</td>\n",
              "      <td>0.0</td>\n",
              "      <td>0.0</td>\n",
              "      <td>0.0</td>\n",
              "      <td>0.0</td>\n",
              "      <td>0.0</td>\n",
              "      <td>0.0</td>\n",
              "      <td>0.0</td>\n",
              "      <td>0.0</td>\n",
              "      <td>0.0</td>\n",
              "      <td>0.0</td>\n",
              "      <td>0.0</td>\n",
              "      <td>0.0</td>\n",
              "      <td>0.0</td>\n",
              "      <td>0.0</td>\n",
              "      <td>0.0</td>\n",
              "      <td>0.0</td>\n",
              "      <td>49278.030000</td>\n",
              "      <td>0</td>\n",
              "    </tr>\n",
              "    <tr>\n",
              "      <th>2</th>\n",
              "      <td>4</td>\n",
              "      <td>2</td>\n",
              "      <td>23</td>\n",
              "      <td>0.0</td>\n",
              "      <td>0.0</td>\n",
              "      <td>0.0</td>\n",
              "      <td>0.0</td>\n",
              "      <td>0.0</td>\n",
              "      <td>0.0</td>\n",
              "      <td>0.0</td>\n",
              "      <td>0.0</td>\n",
              "      <td>0.0</td>\n",
              "      <td>0.0</td>\n",
              "      <td>0.0</td>\n",
              "      <td>0.0</td>\n",
              "      <td>0.0</td>\n",
              "      <td>0.0</td>\n",
              "      <td>0.0</td>\n",
              "      <td>0.0</td>\n",
              "      <td>0.0</td>\n",
              "      <td>0</td>\n",
              "      <td>0</td>\n",
              "      <td>0</td>\n",
              "      <td>0</td>\n",
              "      <td>1</td>\n",
              "      <td>1</td>\n",
              "      <td>0</td>\n",
              "      <td>0</td>\n",
              "      <td>0</td>\n",
              "      <td>0</td>\n",
              "      <td>0</td>\n",
              "      <td>0</td>\n",
              "      <td>0</td>\n",
              "      <td>0</td>\n",
              "      <td>0</td>\n",
              "      <td>0</td>\n",
              "      <td>0</td>\n",
              "      <td>0</td>\n",
              "      <td>0</td>\n",
              "      <td>0</td>\n",
              "      <td>...</td>\n",
              "      <td>3.00</td>\n",
              "      <td>2.07</td>\n",
              "      <td>0.0</td>\n",
              "      <td>0.0</td>\n",
              "      <td>0.0</td>\n",
              "      <td>0.0</td>\n",
              "      <td>0.0</td>\n",
              "      <td>0.0</td>\n",
              "      <td>0.00</td>\n",
              "      <td>0.00</td>\n",
              "      <td>0.0</td>\n",
              "      <td>0.00</td>\n",
              "      <td>0.0</td>\n",
              "      <td>0.00</td>\n",
              "      <td>0.0</td>\n",
              "      <td>0.0</td>\n",
              "      <td>0.0</td>\n",
              "      <td>0.0</td>\n",
              "      <td>0.0</td>\n",
              "      <td>0</td>\n",
              "      <td>0</td>\n",
              "      <td>0.0</td>\n",
              "      <td>0.0</td>\n",
              "      <td>0.0</td>\n",
              "      <td>0.0</td>\n",
              "      <td>0.0</td>\n",
              "      <td>0.0</td>\n",
              "      <td>0.0</td>\n",
              "      <td>0.0</td>\n",
              "      <td>0.0</td>\n",
              "      <td>0.0</td>\n",
              "      <td>0.0</td>\n",
              "      <td>0.0</td>\n",
              "      <td>0.0</td>\n",
              "      <td>0.0</td>\n",
              "      <td>0.0</td>\n",
              "      <td>0.0</td>\n",
              "      <td>0.0</td>\n",
              "      <td>67333.770000</td>\n",
              "      <td>0</td>\n",
              "    </tr>\n",
              "    <tr>\n",
              "      <th>3</th>\n",
              "      <td>8</td>\n",
              "      <td>2</td>\n",
              "      <td>37</td>\n",
              "      <td>0.0</td>\n",
              "      <td>195.0</td>\n",
              "      <td>195.0</td>\n",
              "      <td>0.0</td>\n",
              "      <td>0.0</td>\n",
              "      <td>0.0</td>\n",
              "      <td>0.0</td>\n",
              "      <td>0.0</td>\n",
              "      <td>195.0</td>\n",
              "      <td>195.0</td>\n",
              "      <td>0.0</td>\n",
              "      <td>0.0</td>\n",
              "      <td>195.0</td>\n",
              "      <td>0.0</td>\n",
              "      <td>0.0</td>\n",
              "      <td>195.0</td>\n",
              "      <td>0.0</td>\n",
              "      <td>0</td>\n",
              "      <td>0</td>\n",
              "      <td>0</td>\n",
              "      <td>0</td>\n",
              "      <td>1</td>\n",
              "      <td>1</td>\n",
              "      <td>0</td>\n",
              "      <td>0</td>\n",
              "      <td>0</td>\n",
              "      <td>0</td>\n",
              "      <td>0</td>\n",
              "      <td>0</td>\n",
              "      <td>0</td>\n",
              "      <td>0</td>\n",
              "      <td>0</td>\n",
              "      <td>0</td>\n",
              "      <td>0</td>\n",
              "      <td>0</td>\n",
              "      <td>0</td>\n",
              "      <td>0</td>\n",
              "      <td>...</td>\n",
              "      <td>91.56</td>\n",
              "      <td>138.84</td>\n",
              "      <td>0.0</td>\n",
              "      <td>0.0</td>\n",
              "      <td>0.0</td>\n",
              "      <td>0.0</td>\n",
              "      <td>0.0</td>\n",
              "      <td>0.0</td>\n",
              "      <td>0.00</td>\n",
              "      <td>0.00</td>\n",
              "      <td>0.0</td>\n",
              "      <td>0.00</td>\n",
              "      <td>0.0</td>\n",
              "      <td>0.00</td>\n",
              "      <td>0.0</td>\n",
              "      <td>0.0</td>\n",
              "      <td>0.0</td>\n",
              "      <td>0.0</td>\n",
              "      <td>0.0</td>\n",
              "      <td>0</td>\n",
              "      <td>0</td>\n",
              "      <td>0.0</td>\n",
              "      <td>0.0</td>\n",
              "      <td>0.0</td>\n",
              "      <td>0.0</td>\n",
              "      <td>0.0</td>\n",
              "      <td>0.0</td>\n",
              "      <td>0.0</td>\n",
              "      <td>0.0</td>\n",
              "      <td>0.0</td>\n",
              "      <td>0.0</td>\n",
              "      <td>0.0</td>\n",
              "      <td>0.0</td>\n",
              "      <td>0.0</td>\n",
              "      <td>0.0</td>\n",
              "      <td>0.0</td>\n",
              "      <td>0.0</td>\n",
              "      <td>0.0</td>\n",
              "      <td>64007.970000</td>\n",
              "      <td>0</td>\n",
              "    </tr>\n",
              "    <tr>\n",
              "      <th>4</th>\n",
              "      <td>10</td>\n",
              "      <td>2</td>\n",
              "      <td>39</td>\n",
              "      <td>0.0</td>\n",
              "      <td>0.0</td>\n",
              "      <td>0.0</td>\n",
              "      <td>0.0</td>\n",
              "      <td>0.0</td>\n",
              "      <td>0.0</td>\n",
              "      <td>0.0</td>\n",
              "      <td>0.0</td>\n",
              "      <td>0.0</td>\n",
              "      <td>0.0</td>\n",
              "      <td>0.0</td>\n",
              "      <td>0.0</td>\n",
              "      <td>0.0</td>\n",
              "      <td>0.0</td>\n",
              "      <td>0.0</td>\n",
              "      <td>0.0</td>\n",
              "      <td>0.0</td>\n",
              "      <td>0</td>\n",
              "      <td>0</td>\n",
              "      <td>0</td>\n",
              "      <td>0</td>\n",
              "      <td>1</td>\n",
              "      <td>0</td>\n",
              "      <td>0</td>\n",
              "      <td>0</td>\n",
              "      <td>0</td>\n",
              "      <td>0</td>\n",
              "      <td>1</td>\n",
              "      <td>1</td>\n",
              "      <td>0</td>\n",
              "      <td>0</td>\n",
              "      <td>0</td>\n",
              "      <td>0</td>\n",
              "      <td>0</td>\n",
              "      <td>0</td>\n",
              "      <td>0</td>\n",
              "      <td>0</td>\n",
              "      <td>...</td>\n",
              "      <td>40501.08</td>\n",
              "      <td>13501.47</td>\n",
              "      <td>0.0</td>\n",
              "      <td>0.0</td>\n",
              "      <td>0.0</td>\n",
              "      <td>0.0</td>\n",
              "      <td>0.0</td>\n",
              "      <td>0.0</td>\n",
              "      <td>85501.89</td>\n",
              "      <td>85501.89</td>\n",
              "      <td>0.0</td>\n",
              "      <td>0.00</td>\n",
              "      <td>0.0</td>\n",
              "      <td>0.00</td>\n",
              "      <td>0.0</td>\n",
              "      <td>0.0</td>\n",
              "      <td>0.0</td>\n",
              "      <td>0.0</td>\n",
              "      <td>0.0</td>\n",
              "      <td>0</td>\n",
              "      <td>0</td>\n",
              "      <td>0.0</td>\n",
              "      <td>0.0</td>\n",
              "      <td>0.0</td>\n",
              "      <td>0.0</td>\n",
              "      <td>0.0</td>\n",
              "      <td>0.0</td>\n",
              "      <td>0.0</td>\n",
              "      <td>0.0</td>\n",
              "      <td>0.0</td>\n",
              "      <td>0.0</td>\n",
              "      <td>0.0</td>\n",
              "      <td>0.0</td>\n",
              "      <td>0.0</td>\n",
              "      <td>0.0</td>\n",
              "      <td>0.0</td>\n",
              "      <td>0.0</td>\n",
              "      <td>0.0</td>\n",
              "      <td>117310.979016</td>\n",
              "      <td>0</td>\n",
              "    </tr>\n",
              "  </tbody>\n",
              "</table>\n",
              "<p>5 rows × 371 columns</p>\n",
              "</div>"
            ],
            "text/plain": [
              "   ID  var3  var15  ...  saldo_medio_var44_ult3          var38  TARGET\n",
              "0   1     2     23  ...                     0.0   39205.170000       0\n",
              "1   3     2     34  ...                     0.0   49278.030000       0\n",
              "2   4     2     23  ...                     0.0   67333.770000       0\n",
              "3   8     2     37  ...                     0.0   64007.970000       0\n",
              "4  10     2     39  ...                     0.0  117310.979016       0\n",
              "\n",
              "[5 rows x 371 columns]"
            ]
          },
          "metadata": {
            "tags": []
          },
          "execution_count": 13
        }
      ]
    },
    {
      "cell_type": "markdown",
      "metadata": {
        "id": "o6eD7yTPJhYP",
        "colab_type": "text"
      },
      "source": [
        "### Define the independent and dependent variables"
      ]
    },
    {
      "cell_type": "code",
      "metadata": {
        "id": "bntf4FzLJhYQ",
        "colab_type": "code",
        "colab": {}
      },
      "source": [
        "X = df.drop([\"TARGET\",\"ID\"],axis=1)\n",
        "y = df[\"TARGET\"]"
      ],
      "execution_count": 0,
      "outputs": []
    },
    {
      "cell_type": "markdown",
      "metadata": {
        "id": "WX1DOUgbJhYU",
        "colab_type": "text"
      },
      "source": [
        "# SECTION 2 - MACHINE LEARNING - UNBALANCED DATASET"
      ]
    },
    {
      "cell_type": "markdown",
      "metadata": {
        "id": "F05hxiPAJhYX",
        "colab_type": "text"
      },
      "source": [
        "### Train Test Split"
      ]
    },
    {
      "cell_type": "code",
      "metadata": {
        "id": "x5-G0xKLJhYY",
        "colab_type": "code",
        "outputId": "0c320cf1-faed-4b06-dd03-430c34c8cbac",
        "colab": {
          "base_uri": "https://localhost:8080/",
          "height": 53
        }
      },
      "source": [
        "from sklearn.model_selection import train_test_split\n",
        "X_train, X_test, y_train, y_test = train_test_split( X, y, test_size = 0.2, random_state = 42)\n",
        "print ('Train set:', X_train.shape,  y_train.shape)\n",
        "print ('Test set:', X_test.shape,  y_test.shape)"
      ],
      "execution_count": 15,
      "outputs": [
        {
          "output_type": "stream",
          "text": [
            "Train set: (60816, 369) (60816,)\n",
            "Test set: (15204, 369) (15204,)\n"
          ],
          "name": "stdout"
        }
      ]
    },
    {
      "cell_type": "markdown",
      "metadata": {
        "id": "KnSKbdmjJhYe",
        "colab_type": "text"
      },
      "source": [
        "### Scale the data"
      ]
    },
    {
      "cell_type": "code",
      "metadata": {
        "id": "HwuBDIBoJhYf",
        "colab_type": "code",
        "colab": {}
      },
      "source": [
        "sdc = StandardScaler()\n",
        "X_train = sdc.fit_transform(X_train)\n",
        "X_test = sdc.transform(X_test)"
      ],
      "execution_count": 0,
      "outputs": []
    },
    {
      "cell_type": "markdown",
      "metadata": {
        "id": "wAq5FIxjJhYk",
        "colab_type": "text"
      },
      "source": [
        "### Random Forest Classifier"
      ]
    },
    {
      "cell_type": "code",
      "metadata": {
        "id": "BPfYN7vJJhYm",
        "colab_type": "code",
        "outputId": "4de6bd7b-d40c-487b-b411-285feea1db54",
        "colab": {
          "base_uri": "https://localhost:8080/",
          "height": 446
        }
      },
      "source": [
        "# Fit and Predict\n",
        "rf = RandomForestClassifier()\n",
        "rf.fit(X_train, y_train)\n",
        "rf_pred=rf.predict(X_test)\n",
        "\n",
        "# Probability Prediction and ROC parameters\n",
        "rf_pred_proba = rf.predict_proba(X_test)[:, 1]\n",
        "[fpr_rf, tpr_rf, thr_rf] = roc_curve(y_test, rf_pred_proba)\n",
        "\n",
        "# Metrics for evaluation\n",
        "rf_accuracy_score = accuracy_score(y_test, rf_pred)\n",
        "rf_log_loss = log_loss(y_test,rf_pred_proba)\n",
        "rf_auc = auc(fpr_rf, tpr_rf)\n",
        "rf_confusion_matrix = confusion_matrix(y_test,rf_pred )\n",
        "rf_classification_report = classification_report(y_test, rf_pred)\n",
        "\n",
        "# Results\n",
        "print('Random Forest Results:\\n')\n",
        "print(\" Accuracy Score\" ,rf_accuracy_score*100)\n",
        "print(\" Log_loss\", rf_log_loss )\n",
        "print(\" ROC AUC\" ,rf_auc )\n",
        "print(\"\\n Confusion Matrix \\n\\n\" ,rf_confusion_matrix)\n",
        "print(\"\\n Classification Report \\n\\n \" ,rf_classification_report)"
      ],
      "execution_count": 17,
      "outputs": [
        {
          "output_type": "stream",
          "text": [
            "/usr/local/lib/python3.6/dist-packages/sklearn/ensemble/forest.py:245: FutureWarning: The default value of n_estimators will change from 10 in version 0.20 to 100 in 0.22.\n",
            "  \"10 in version 0.20 to 100 in 0.22.\", FutureWarning)\n"
          ],
          "name": "stderr"
        },
        {
          "output_type": "stream",
          "text": [
            "Random Forest Results:\n",
            "\n",
            " Accuracy Score 95.38937121810051\n",
            " Log_loss 0.7401019340496234\n",
            " ROC AUC 0.6701080732551058\n",
            "\n",
            " Confusion Matrix \n",
            "\n",
            " [[14484   113]\n",
            " [  588    19]]\n",
            "\n",
            " Classification Report \n",
            "\n",
            "                precision    recall  f1-score   support\n",
            "\n",
            "           0       0.96      0.99      0.98     14597\n",
            "           1       0.14      0.03      0.05       607\n",
            "\n",
            "    accuracy                           0.95     15204\n",
            "   macro avg       0.55      0.51      0.51     15204\n",
            "weighted avg       0.93      0.95      0.94     15204\n",
            "\n"
          ],
          "name": "stdout"
        }
      ]
    },
    {
      "cell_type": "markdown",
      "metadata": {
        "id": "oZy_m7r8JhYs",
        "colab_type": "text"
      },
      "source": [
        "### Precision and Recall"
      ]
    },
    {
      "cell_type": "code",
      "metadata": {
        "id": "phMhMz8_JhYt",
        "colab_type": "code",
        "outputId": "ae685ccb-ade5-4d9a-e71f-3ec3a9f11f78",
        "colab": {
          "base_uri": "https://localhost:8080/",
          "height": 53
        }
      },
      "source": [
        "from sklearn.metrics import precision_recall_fscore_support as score # \n",
        "precision, recall, fscore, support = score(y_test,rf_pred)  # \n",
        "print('precision: {}'.format(precision)) \n",
        "print('recall: {}'.format(recall))"
      ],
      "execution_count": 18,
      "outputs": [
        {
          "output_type": "stream",
          "text": [
            "precision: [0.96098726 0.14393939]\n",
            "recall: [0.99225868 0.03130148]\n"
          ],
          "name": "stdout"
        }
      ]
    },
    {
      "cell_type": "markdown",
      "metadata": {
        "id": "DCL49sawJhYx",
        "colab_type": "text"
      },
      "source": [
        "### Frequency for Random Forest Prediction"
      ]
    },
    {
      "cell_type": "code",
      "metadata": {
        "id": "kTCDjY49JhYz",
        "colab_type": "code",
        "outputId": "9a908547-5948-47f3-b3f3-9abddeba98a9",
        "colab": {
          "base_uri": "https://localhost:8080/",
          "height": 71
        }
      },
      "source": [
        "unique_elements, counts_elements = np.unique(rf_pred, return_counts=True) \n",
        "print(\"Frequency of unique values of the said array:\") \n",
        "print(np.asarray((unique_elements, counts_elements)))"
      ],
      "execution_count": 19,
      "outputs": [
        {
          "output_type": "stream",
          "text": [
            "Frequency of unique values of the said array:\n",
            "[[    0     1]\n",
            " [15072   132]]\n"
          ],
          "name": "stdout"
        }
      ]
    },
    {
      "cell_type": "markdown",
      "metadata": {
        "id": "MAb2a0ANJhY2",
        "colab_type": "text"
      },
      "source": [
        "### Frequency for test"
      ]
    },
    {
      "cell_type": "code",
      "metadata": {
        "id": "ML7IdpY_JhY3",
        "colab_type": "code",
        "outputId": "91cd26e7-29e4-47b0-ec0e-aaba0124bc8e",
        "colab": {
          "base_uri": "https://localhost:8080/",
          "height": 71
        }
      },
      "source": [
        "unique_elements, counts_elements = np.unique(y_test, return_counts=True) \n",
        "print(\"Frequency of unique values of the said array:\") \n",
        "print(np.asarray((unique_elements, counts_elements)))"
      ],
      "execution_count": 20,
      "outputs": [
        {
          "output_type": "stream",
          "text": [
            "Frequency of unique values of the said array:\n",
            "[[    0     1]\n",
            " [14597   607]]\n"
          ],
          "name": "stdout"
        }
      ]
    },
    {
      "cell_type": "code",
      "metadata": {
        "id": "wxx79nK_JhY8",
        "colab_type": "code",
        "colab": {}
      },
      "source": [
        ""
      ],
      "execution_count": 0,
      "outputs": []
    },
    {
      "cell_type": "markdown",
      "metadata": {
        "id": "a7J-GPbWJhY_",
        "colab_type": "text"
      },
      "source": [
        "### Gradient Boosting Classifier"
      ]
    },
    {
      "cell_type": "code",
      "metadata": {
        "id": "UcVjpBMaJhZA",
        "colab_type": "code",
        "outputId": "c356b094-5390-47f8-b347-36f6704671ea",
        "colab": {
          "base_uri": "https://localhost:8080/",
          "height": 410
        }
      },
      "source": [
        "# Fit and Predict\n",
        "xgb = XGBClassifier()\n",
        "xgb.fit(X_train, y_train)\n",
        "xgb_pred = xgb.predict(X_test)\n",
        "\n",
        "\n",
        "# Probability Prediction and ROC parameters\n",
        "xgb_pred_proba = xgb.predict_proba(X_test)[:, 1]\n",
        "[fpr_xgb, tpr_xgb, thr_xgb] = roc_curve(y_test, xgb_pred_proba)\n",
        "\n",
        "# Metrics for evaluation\n",
        "xgb_accuracy_score = accuracy_score(y_test, xgb_pred)\n",
        "xgb_log_loss = log_loss(y_test,xgb_pred_proba)\n",
        "xgb_auc = auc(fpr_xgb, tpr_xgb)\n",
        "xgb_confusion_matrix = confusion_matrix(y_test,xgb_pred )\n",
        "xgb_classification_report = classification_report(y_test,xgb_pred)\n",
        "\n",
        "# Results\n",
        "print('XGBoost Results:\\n')\n",
        "print(\" Accuracy Score\" ,xgb_accuracy_score*100)\n",
        "print(\" Log_loss\", xgb_log_loss )\n",
        "print(\" ROC AUC\" ,xgb_auc )\n",
        "print(\"\\n Confusion Matrix \\n\\n\" ,xgb_confusion_matrix)\n",
        "print(\"\\n Classification Report \\n\\n \" ,xgb_classification_report)\n"
      ],
      "execution_count": 21,
      "outputs": [
        {
          "output_type": "stream",
          "text": [
            "XGBoost Results:\n",
            "\n",
            " Accuracy Score 96.00105235464352\n",
            " Log_loss 0.13563570622995474\n",
            " ROC AUC 0.8413028381743038\n",
            "\n",
            " Confusion Matrix \n",
            "\n",
            " [[14596     1]\n",
            " [  607     0]]\n",
            "\n",
            " Classification Report \n",
            "\n",
            "                precision    recall  f1-score   support\n",
            "\n",
            "           0       0.96      1.00      0.98     14597\n",
            "           1       0.00      0.00      0.00       607\n",
            "\n",
            "    accuracy                           0.96     15204\n",
            "   macro avg       0.48      0.50      0.49     15204\n",
            "weighted avg       0.92      0.96      0.94     15204\n",
            "\n"
          ],
          "name": "stdout"
        }
      ]
    },
    {
      "cell_type": "markdown",
      "metadata": {
        "id": "A5HC91p6JhZE",
        "colab_type": "text"
      },
      "source": [
        "### Precision and Recall"
      ]
    },
    {
      "cell_type": "code",
      "metadata": {
        "id": "KoxIXaJaJhZF",
        "colab_type": "code",
        "outputId": "49ac4f53-0dbd-4f9c-cf88-8852722f9b08",
        "colab": {
          "base_uri": "https://localhost:8080/",
          "height": 53
        }
      },
      "source": [
        "from sklearn.metrics import precision_recall_fscore_support as score # \n",
        "precision, recall, fscore, support = score(y_test,xgb_pred)  # \n",
        "print('precision: {}'.format(precision)) \n",
        "print('recall: {}'.format(recall))"
      ],
      "execution_count": 22,
      "outputs": [
        {
          "output_type": "stream",
          "text": [
            "precision: [0.96007367 0.        ]\n",
            "recall: [0.99993149 0.        ]\n"
          ],
          "name": "stdout"
        }
      ]
    },
    {
      "cell_type": "markdown",
      "metadata": {
        "id": "ETgqVrMOJhZM",
        "colab_type": "text"
      },
      "source": [
        "### Frequency for Gradient Boosting Prediction"
      ]
    },
    {
      "cell_type": "code",
      "metadata": {
        "id": "gMHvIpfXJhZO",
        "colab_type": "code",
        "outputId": "0609913e-0639-4545-e9bb-e99e2573b2ee",
        "colab": {
          "base_uri": "https://localhost:8080/",
          "height": 71
        }
      },
      "source": [
        "unique_elements, counts_elements = np.unique(xgb_pred, return_counts=True) \n",
        "print(\"Frequency of unique values of the said array:\") \n",
        "print(np.asarray((unique_elements, counts_elements)))"
      ],
      "execution_count": 23,
      "outputs": [
        {
          "output_type": "stream",
          "text": [
            "Frequency of unique values of the said array:\n",
            "[[    0     1]\n",
            " [15203     1]]\n"
          ],
          "name": "stdout"
        }
      ]
    },
    {
      "cell_type": "markdown",
      "metadata": {
        "id": "eQi8gWkTJhZf",
        "colab_type": "text"
      },
      "source": [
        "### Frequency for test"
      ]
    },
    {
      "cell_type": "code",
      "metadata": {
        "id": "XEHtql3LJhZi",
        "colab_type": "code",
        "outputId": "4ea8f28e-988a-4e30-f19d-e5d2c1e06a2a",
        "colab": {
          "base_uri": "https://localhost:8080/",
          "height": 71
        }
      },
      "source": [
        "unique_elements, counts_elements = np.unique(y_test, return_counts=True) \n",
        "print(\"Frequency of unique values of the said array:\") \n",
        "print(np.asarray((unique_elements, counts_elements)))"
      ],
      "execution_count": 24,
      "outputs": [
        {
          "output_type": "stream",
          "text": [
            "Frequency of unique values of the said array:\n",
            "[[    0     1]\n",
            " [14597   607]]\n"
          ],
          "name": "stdout"
        }
      ]
    },
    {
      "cell_type": "code",
      "metadata": {
        "id": "A3z1pK4SJhZl",
        "colab_type": "code",
        "colab": {}
      },
      "source": [
        ""
      ],
      "execution_count": 0,
      "outputs": []
    },
    {
      "cell_type": "markdown",
      "metadata": {
        "id": "epxDvp_hJhZo",
        "colab_type": "text"
      },
      "source": [
        "# SECTION 3 - MACHINE LEARNING - BALANCED DATASET"
      ]
    },
    {
      "cell_type": "markdown",
      "metadata": {
        "id": "T85Jze4OJhZr",
        "colab_type": "text"
      },
      "source": [
        "### Balancing the dataset"
      ]
    },
    {
      "cell_type": "code",
      "metadata": {
        "id": "855ihCN6JhZt",
        "colab_type": "code",
        "colab": {}
      },
      "source": [
        "df_b = df.sample(frac=1).groupby(df['TARGET'], sort=False).head(3008)"
      ],
      "execution_count": 0,
      "outputs": []
    },
    {
      "cell_type": "code",
      "metadata": {
        "id": "x4bcDfBpJhZw",
        "colab_type": "code",
        "outputId": "b4342cdb-3c5b-4a2b-e13c-5a3c01dae8be",
        "colab": {
          "base_uri": "https://localhost:8080/",
          "height": 35
        }
      },
      "source": [
        "df_b.shape"
      ],
      "execution_count": 26,
      "outputs": [
        {
          "output_type": "execute_result",
          "data": {
            "text/plain": [
              "(6016, 371)"
            ]
          },
          "metadata": {
            "tags": []
          },
          "execution_count": 26
        }
      ]
    },
    {
      "cell_type": "code",
      "metadata": {
        "id": "5GgoRGvZJhZz",
        "colab_type": "code",
        "outputId": "9fe33578-e742-4119-e05d-5521078d52b7",
        "colab": {
          "base_uri": "https://localhost:8080/",
          "height": 112
        }
      },
      "source": [
        "#Checking if the dataset is balanced or unbalanced\n",
        "BalanceCheck2 = pd.DataFrame(df_b[\"TARGET\"].value_counts())\n",
        "BalanceCheck2['Percentage'] = 100*BalanceCheck2[\"TARGET\"]/df_b.shape[0]\n",
        "BalanceCheck2"
      ],
      "execution_count": 27,
      "outputs": [
        {
          "output_type": "execute_result",
          "data": {
            "text/html": [
              "<div>\n",
              "<style scoped>\n",
              "    .dataframe tbody tr th:only-of-type {\n",
              "        vertical-align: middle;\n",
              "    }\n",
              "\n",
              "    .dataframe tbody tr th {\n",
              "        vertical-align: top;\n",
              "    }\n",
              "\n",
              "    .dataframe thead th {\n",
              "        text-align: right;\n",
              "    }\n",
              "</style>\n",
              "<table border=\"1\" class=\"dataframe\">\n",
              "  <thead>\n",
              "    <tr style=\"text-align: right;\">\n",
              "      <th></th>\n",
              "      <th>TARGET</th>\n",
              "      <th>Percentage</th>\n",
              "    </tr>\n",
              "  </thead>\n",
              "  <tbody>\n",
              "    <tr>\n",
              "      <th>1</th>\n",
              "      <td>3008</td>\n",
              "      <td>50.0</td>\n",
              "    </tr>\n",
              "    <tr>\n",
              "      <th>0</th>\n",
              "      <td>3008</td>\n",
              "      <td>50.0</td>\n",
              "    </tr>\n",
              "  </tbody>\n",
              "</table>\n",
              "</div>"
            ],
            "text/plain": [
              "   TARGET  Percentage\n",
              "1    3008        50.0\n",
              "0    3008        50.0"
            ]
          },
          "metadata": {
            "tags": []
          },
          "execution_count": 27
        }
      ]
    },
    {
      "cell_type": "markdown",
      "metadata": {
        "id": "_fKIu0-YJhZ1",
        "colab_type": "text"
      },
      "source": [
        "### Cleaning the dataset"
      ]
    },
    {
      "cell_type": "code",
      "metadata": {
        "id": "UwpIt-G6JhZ2",
        "colab_type": "code",
        "outputId": "9937bf1a-1fdc-4d70-e3fd-8222ddb217a5",
        "colab": {
          "base_uri": "https://localhost:8080/",
          "height": 303
        }
      },
      "source": [
        "#Checking the value counts for top 15 values\n",
        "\n",
        "df_b[\"var3\"].value_counts()[:15]"
      ],
      "execution_count": 28,
      "outputs": [
        {
          "output_type": "execute_result",
          "data": {
            "text/plain": [
              "2     5892\n",
              "1       16\n",
              "7       10\n",
              "0        9\n",
              "8        9\n",
              "3        9\n",
              "12       7\n",
              "14       6\n",
              "4        6\n",
              "9        6\n",
              "10       5\n",
              "6        5\n",
              "11       5\n",
              "5        4\n",
              "13       3\n",
              "Name: var3, dtype: int64"
            ]
          },
          "metadata": {
            "tags": []
          },
          "execution_count": 28
        }
      ]
    },
    {
      "cell_type": "markdown",
      "metadata": {
        "id": "Z61j-_VNJhZ7",
        "colab_type": "text"
      },
      "source": [
        "### Define the independent and dependent variables"
      ]
    },
    {
      "cell_type": "code",
      "metadata": {
        "id": "WYdgBpFtJhZ7",
        "colab_type": "code",
        "colab": {}
      },
      "source": [
        "X_b = df_b.drop([\"TARGET\",\"ID\"],axis=1)\n",
        "y_b = df_b[\"TARGET\"]"
      ],
      "execution_count": 0,
      "outputs": []
    },
    {
      "cell_type": "markdown",
      "metadata": {
        "id": "-Dh0-GyeJhZ-",
        "colab_type": "text"
      },
      "source": [
        "### Train Test Split"
      ]
    },
    {
      "cell_type": "code",
      "metadata": {
        "id": "dbsfGqiTJhZ_",
        "colab_type": "code",
        "outputId": "a3f90e1e-52e8-4485-c3c3-7457fd89d009",
        "colab": {
          "base_uri": "https://localhost:8080/",
          "height": 53
        }
      },
      "source": [
        "from sklearn.model_selection import train_test_split\n",
        "X_train_b, X_test_b, y_train_b, y_test_b = train_test_split( X_b, y_b, test_size = 0.2, random_state = 42)\n",
        "print ('Train set:', X_train_b.shape,  y_train_b.shape)\n",
        "print ('Test set:', X_test_b.shape,  y_test_b.shape)"
      ],
      "execution_count": 30,
      "outputs": [
        {
          "output_type": "stream",
          "text": [
            "Train set: (4812, 369) (4812,)\n",
            "Test set: (1204, 369) (1204,)\n"
          ],
          "name": "stdout"
        }
      ]
    },
    {
      "cell_type": "markdown",
      "metadata": {
        "id": "amljrviAJhaC",
        "colab_type": "text"
      },
      "source": [
        "### Scale the data"
      ]
    },
    {
      "cell_type": "code",
      "metadata": {
        "id": "F-Gye56sJhaD",
        "colab_type": "code",
        "colab": {}
      },
      "source": [
        "sdc = StandardScaler()\n",
        "X_train_b = sdc.fit_transform(X_train_b)\n",
        "X_test_b = sdc.transform(X_test_b)"
      ],
      "execution_count": 0,
      "outputs": []
    },
    {
      "cell_type": "markdown",
      "metadata": {
        "id": "BZjx4HqBJhaF",
        "colab_type": "text"
      },
      "source": [
        "### Random Forest Classifier"
      ]
    },
    {
      "cell_type": "code",
      "metadata": {
        "id": "mWJrz8mGJhaG",
        "colab_type": "code",
        "outputId": "a3fb44b7-0381-49b6-ac84-4b0d0ddbfa24",
        "colab": {
          "base_uri": "https://localhost:8080/",
          "height": 803
        }
      },
      "source": [
        "# Fit and Predict\n",
        "rf_b = RandomForestClassifier(n_estimators = 400)\n",
        "rf_b.fit(X_train_b,y_train_b)\n",
        "rf_pred_b = rf_b.predict(X_test_b)\n",
        "rf_pred_imb = rf_b.predict(X_test)\n",
        "\n",
        "# Probability Prediction and ROC parameters\n",
        "rf_pred_proba_b = rf_b.predict_proba(X_test_b)[:, 1]\n",
        "[fpr_rf_b, tpr_rf_b, thr_rf_b] = roc_curve(y_test_b, rf_pred_proba_b)\n",
        "\n",
        "# Probability Prediction and ROC parameters for imbalanced testing\n",
        "rf_pred_proba_imb = rf_b.predict_proba(X_test)[:, 1]\n",
        "[fpr_rf_imb, tpr_rf_imb, thr_rf_imb] = roc_curve(y_test, rf_pred_proba_imb)\n",
        "\n",
        "# Metrics for evaluation\n",
        "rf_accuracy_score_b = accuracy_score(y_test_b, rf_pred_b)\n",
        "rf_log_loss_b = log_loss(y_test_b,rf_pred_proba_b)\n",
        "rf_auc_b = auc(fpr_rf_b, tpr_rf_b)\n",
        "rf_confusion_matrix_b = confusion_matrix(y_test_b,rf_pred_b )\n",
        "rf_classification_report_b = classification_report(y_test_b, rf_pred_b)\n",
        "\n",
        "# Metrics for evaluation for imbalanced testing\n",
        "rf_accuracy_score_imb = accuracy_score(y_test, rf_pred_imb)\n",
        "rf_log_loss_imb = log_loss(y_test,rf_pred_proba_imb)\n",
        "rf_auc_imb = auc(fpr_rf_imb, tpr_rf_imb)\n",
        "rf_confusion_matrix_imb = confusion_matrix(y_test,rf_pred_imb )\n",
        "rf_classification_report_imb = classification_report(y_test, rf_pred_imb)\n",
        "\n",
        "# Results for Balanced Dataset and X_test balanced\n",
        "print('Random Forest Results:\\n')\n",
        "print(\" Accuracy Score\" ,rf_accuracy_score_b*100)\n",
        "print(\" Log_loss\", rf_log_loss_b )\n",
        "print(\" ROC AUC\" ,rf_auc_b )\n",
        "print(\"\\n Confusion Matrix \\n\\n\" ,rf_confusion_matrix_b)\n",
        "print(\"\\n Classification Report \\n\\n \" ,rf_classification_report_b)\n",
        "\n",
        "# Results for prediction on X_test imbalanced\n",
        "print('Random Forest Results (imbalanced prediction) :\\n')\n",
        "print(\" Accuracy Score\" ,rf_accuracy_score_imb*100)\n",
        "print(\" Log_loss\", rf_log_loss_imb )\n",
        "print(\" ROC AUC\" ,rf_auc_imb )\n",
        "print(\"\\n Confusion Matrix \\n\\n\" ,rf_confusion_matrix_imb)\n",
        "print(\"\\n Classification Report \\n\\n \" ,rf_classification_report_imb)"
      ],
      "execution_count": 32,
      "outputs": [
        {
          "output_type": "stream",
          "text": [
            "Random Forest Results:\n",
            "\n",
            " Accuracy Score 73.00664451827242\n",
            " Log_loss 0.6721716788410981\n",
            " ROC AUC 0.7993944818289301\n",
            "\n",
            " Confusion Matrix \n",
            "\n",
            " [[454 168]\n",
            " [157 425]]\n",
            "\n",
            " Classification Report \n",
            "\n",
            "                precision    recall  f1-score   support\n",
            "\n",
            "           0       0.74      0.73      0.74       622\n",
            "           1       0.72      0.73      0.72       582\n",
            "\n",
            "    accuracy                           0.73      1204\n",
            "   macro avg       0.73      0.73      0.73      1204\n",
            "weighted avg       0.73      0.73      0.73      1204\n",
            "\n",
            "Random Forest Results (imbalanced prediction) :\n",
            "\n",
            " Accuracy Score 40.19994738226782\n",
            " Log_loss 0.8563923045983609\n",
            " ROC AUC 0.8042282389951942\n",
            "\n",
            " Confusion Matrix \n",
            "\n",
            " [[5536 9061]\n",
            " [  31  576]]\n",
            "\n",
            " Classification Report \n",
            "\n",
            "                precision    recall  f1-score   support\n",
            "\n",
            "           0       0.99      0.38      0.55     14597\n",
            "           1       0.06      0.95      0.11       607\n",
            "\n",
            "    accuracy                           0.40     15204\n",
            "   macro avg       0.53      0.66      0.33     15204\n",
            "weighted avg       0.96      0.40      0.53     15204\n",
            "\n"
          ],
          "name": "stdout"
        }
      ]
    },
    {
      "cell_type": "markdown",
      "metadata": {
        "id": "tSsW83wgJhaJ",
        "colab_type": "text"
      },
      "source": [
        "### Precision and Recall for balanced dataset"
      ]
    },
    {
      "cell_type": "code",
      "metadata": {
        "id": "iwfrkoZiJhaK",
        "colab_type": "code",
        "outputId": "30df7cb5-c567-4552-82fe-542878eb4c89",
        "colab": {
          "base_uri": "https://localhost:8080/",
          "height": 53
        }
      },
      "source": [
        "from sklearn.metrics import precision_recall_fscore_support as score # \n",
        "precision, recall, fscore, support = score(y_test_b,rf_pred_b)  # \n",
        "print('precision: {}'.format(precision)) \n",
        "print('recall: {}'.format(recall))"
      ],
      "execution_count": 33,
      "outputs": [
        {
          "output_type": "stream",
          "text": [
            "precision: [0.74304419 0.71669477]\n",
            "recall: [0.72990354 0.73024055]\n"
          ],
          "name": "stdout"
        }
      ]
    },
    {
      "cell_type": "markdown",
      "metadata": {
        "id": "PFxt2md5JhaN",
        "colab_type": "text"
      },
      "source": [
        "### Frequency for Random Forest balanced dataset Prediction"
      ]
    },
    {
      "cell_type": "code",
      "metadata": {
        "id": "7I3L9LjYJhaO",
        "colab_type": "code",
        "outputId": "761e8c81-86a0-4749-f7f1-2c8dad053b00",
        "colab": {
          "base_uri": "https://localhost:8080/",
          "height": 71
        }
      },
      "source": [
        "unique_elements, counts_elements = np.unique(rf_pred_b, return_counts=True) \n",
        "print(\"Frequency of unique values of the said array:\") \n",
        "print(np.asarray((unique_elements, counts_elements)))"
      ],
      "execution_count": 34,
      "outputs": [
        {
          "output_type": "stream",
          "text": [
            "Frequency of unique values of the said array:\n",
            "[[  0   1]\n",
            " [611 593]]\n"
          ],
          "name": "stdout"
        }
      ]
    },
    {
      "cell_type": "markdown",
      "metadata": {
        "id": "vLi9H9g_JhaR",
        "colab_type": "text"
      },
      "source": [
        "### Frequency for test balanced"
      ]
    },
    {
      "cell_type": "code",
      "metadata": {
        "id": "nd210UCZJhaT",
        "colab_type": "code",
        "outputId": "cc7bc324-3042-4c85-b41f-595cd827ed06",
        "colab": {
          "base_uri": "https://localhost:8080/",
          "height": 71
        }
      },
      "source": [
        "unique_elements, counts_elements = np.unique(y_test_b, return_counts=True) \n",
        "print(\"Frequency of unique values of the said array:\") \n",
        "print(np.asarray((unique_elements, counts_elements)))"
      ],
      "execution_count": 35,
      "outputs": [
        {
          "output_type": "stream",
          "text": [
            "Frequency of unique values of the said array:\n",
            "[[  0   1]\n",
            " [622 582]]\n"
          ],
          "name": "stdout"
        }
      ]
    },
    {
      "cell_type": "markdown",
      "metadata": {
        "id": "9dCHIYBxJhaW",
        "colab_type": "text"
      },
      "source": [
        "### Precision and Recall for imbalanced dataset"
      ]
    },
    {
      "cell_type": "code",
      "metadata": {
        "id": "TmNznOP6JhaX",
        "colab_type": "code",
        "outputId": "198fcba8-284c-4128-b7fc-f491e444d178",
        "colab": {
          "base_uri": "https://localhost:8080/",
          "height": 53
        }
      },
      "source": [
        "from sklearn.metrics import precision_recall_fscore_support as score # \n",
        "precision, recall, fscore, support = score(y_test,rf_pred_imb)  # \n",
        "print('precision: {}'.format(precision)) \n",
        "print('recall: {}'.format(recall))"
      ],
      "execution_count": 36,
      "outputs": [
        {
          "output_type": "stream",
          "text": [
            "precision: [0.99443147 0.05976964]\n",
            "recall: [0.37925601 0.94892916]\n"
          ],
          "name": "stdout"
        }
      ]
    },
    {
      "cell_type": "markdown",
      "metadata": {
        "id": "7Vq6Hpa_JhaZ",
        "colab_type": "text"
      },
      "source": [
        "### Frequency for Random Forest imbalanced dataset Prediction"
      ]
    },
    {
      "cell_type": "code",
      "metadata": {
        "id": "GCOmMKmuJhaZ",
        "colab_type": "code",
        "outputId": "8efb7a49-cd96-47ce-88ec-ff4b6335936d",
        "colab": {
          "base_uri": "https://localhost:8080/",
          "height": 71
        }
      },
      "source": [
        "unique_elements, counts_elements = np.unique(rf_pred_imb, return_counts=True) \n",
        "print(\"Frequency of unique values of the said array:\") \n",
        "print(np.asarray((unique_elements, counts_elements)))"
      ],
      "execution_count": 37,
      "outputs": [
        {
          "output_type": "stream",
          "text": [
            "Frequency of unique values of the said array:\n",
            "[[   0    1]\n",
            " [5567 9637]]\n"
          ],
          "name": "stdout"
        }
      ]
    },
    {
      "cell_type": "markdown",
      "metadata": {
        "id": "IZK4jkdSJhad",
        "colab_type": "text"
      },
      "source": [
        "### Frequency for test"
      ]
    },
    {
      "cell_type": "code",
      "metadata": {
        "id": "rZALPVE3Jhae",
        "colab_type": "code",
        "outputId": "9715cbe7-cbaa-4b49-e961-cad3754a7a28",
        "colab": {
          "base_uri": "https://localhost:8080/",
          "height": 71
        }
      },
      "source": [
        "unique_elements, counts_elements = np.unique(y_test, return_counts=True) \n",
        "print(\"Frequency of unique values of the said array:\") \n",
        "print(np.asarray((unique_elements, counts_elements)))"
      ],
      "execution_count": 38,
      "outputs": [
        {
          "output_type": "stream",
          "text": [
            "Frequency of unique values of the said array:\n",
            "[[    0     1]\n",
            " [14597   607]]\n"
          ],
          "name": "stdout"
        }
      ]
    },
    {
      "cell_type": "markdown",
      "metadata": {
        "id": "OraND7ztJhai",
        "colab_type": "text"
      },
      "source": [
        ""
      ]
    },
    {
      "cell_type": "markdown",
      "metadata": {
        "id": "RZSDq_56Jhai",
        "colab_type": "text"
      },
      "source": [
        "### Random Forest Hyperparameter Tuning"
      ]
    },
    {
      "cell_type": "markdown",
      "metadata": {
        "id": "Om7VhL5sJhaj",
        "colab_type": "text"
      },
      "source": [
        "### Randomized Search Cross Validation"
      ]
    },
    {
      "cell_type": "code",
      "metadata": {
        "scrolled": false,
        "id": "1HbIu60uJhaj",
        "colab_type": "code",
        "outputId": "20e41ba4-6217-4749-e24f-21ca51495a74",
        "colab": {
          "base_uri": "https://localhost:8080/",
          "height": 609
        }
      },
      "source": [
        "# Define the parameter grid\n",
        "param_grid = { 'n_estimators': [100,200,300,400,500,600,700,800,900,1000],'max_features': ['auto', 'sqrt', 'log2']}\n",
        "\n",
        "forest = RandomizedSearchCV(rf_b, param_distributions = param_grid, n_iter =5, scoring = 'roc_auc', n_jobs = -1, cv = 10, verbose = 3)\n",
        "\n",
        "forest.fit(X_train_b,y_train_b)"
      ],
      "execution_count": 39,
      "outputs": [
        {
          "output_type": "stream",
          "text": [
            "Fitting 10 folds for each of 5 candidates, totalling 50 fits\n"
          ],
          "name": "stdout"
        },
        {
          "output_type": "stream",
          "text": [
            "[Parallel(n_jobs=-1)]: Using backend LokyBackend with 2 concurrent workers.\n",
            "/usr/local/lib/python3.6/dist-packages/joblib/externals/loky/process_executor.py:706: UserWarning: A worker stopped while some jobs were given to the executor. This can be caused by a too short worker timeout or by a memory leak.\n",
            "  \"timeout or by a memory leak.\", UserWarning\n",
            "[Parallel(n_jobs=-1)]: Done  28 tasks      | elapsed:  2.2min\n",
            "[Parallel(n_jobs=-1)]: Done  50 out of  50 | elapsed:  5.2min finished\n"
          ],
          "name": "stderr"
        },
        {
          "output_type": "execute_result",
          "data": {
            "text/plain": [
              "RandomizedSearchCV(cv=10, error_score='raise-deprecating',\n",
              "                   estimator=RandomForestClassifier(bootstrap=True,\n",
              "                                                    class_weight=None,\n",
              "                                                    criterion='gini',\n",
              "                                                    max_depth=None,\n",
              "                                                    max_features='auto',\n",
              "                                                    max_leaf_nodes=None,\n",
              "                                                    min_impurity_decrease=0.0,\n",
              "                                                    min_impurity_split=None,\n",
              "                                                    min_samples_leaf=1,\n",
              "                                                    min_samples_split=2,\n",
              "                                                    min_weight_fraction_leaf=0.0,\n",
              "                                                    n_estimators=400,\n",
              "                                                    n_jobs=None,\n",
              "                                                    oob_score=False,\n",
              "                                                    random_state=None,\n",
              "                                                    verbose=0,\n",
              "                                                    warm_start=False),\n",
              "                   iid='warn', n_iter=5, n_jobs=-1,\n",
              "                   param_distributions={'max_features': ['auto', 'sqrt',\n",
              "                                                         'log2'],\n",
              "                                        'n_estimators': [100, 200, 300, 400,\n",
              "                                                         500, 600, 700, 800,\n",
              "                                                         900, 1000]},\n",
              "                   pre_dispatch='2*n_jobs', random_state=None, refit=True,\n",
              "                   return_train_score=False, scoring='roc_auc', verbose=3)"
            ]
          },
          "metadata": {
            "tags": []
          },
          "execution_count": 39
        }
      ]
    },
    {
      "cell_type": "markdown",
      "metadata": {
        "id": "sP-fMZyKJham",
        "colab_type": "text"
      },
      "source": [
        "### Best parameters and best score"
      ]
    },
    {
      "cell_type": "code",
      "metadata": {
        "id": "PRwT0N7JJhan",
        "colab_type": "code",
        "outputId": "47415427-5dfe-4bc7-ae0f-a3e6e670db2a",
        "colab": {
          "base_uri": "https://localhost:8080/",
          "height": 53
        }
      },
      "source": [
        "print(forest.best_params_)\n",
        "print(forest.best_score_)"
      ],
      "execution_count": 40,
      "outputs": [
        {
          "output_type": "stream",
          "text": [
            "{'n_estimators': 1000, 'max_features': 'sqrt'}\n",
            "0.7959790211505344\n"
          ],
          "name": "stdout"
        }
      ]
    },
    {
      "cell_type": "markdown",
      "metadata": {
        "id": "MMgo_V4XJhap",
        "colab_type": "text"
      },
      "source": [
        "### Retraining the model using the obtained parameters"
      ]
    },
    {
      "cell_type": "code",
      "metadata": {
        "id": "3kZOlZWxJhaq",
        "colab_type": "code",
        "outputId": "2a2c57dd-5f76-44fd-ed97-fff59a71eb6f",
        "colab": {
          "base_uri": "https://localhost:8080/",
          "height": 803
        }
      },
      "source": [
        "# Fit and Predict\n",
        "rf_b = RandomForestClassifier(n_estimators=forest.best_params_[\"n_estimators\"],max_features = forest.best_params_['max_features'])\n",
        "rf_b.fit(X_train_b,y_train_b)\n",
        "rf_pred_b = rf_b.predict(X_test_b)\n",
        "rf_pred_imb = rf_b.predict(X_test)\n",
        "\n",
        "# Probability Prediction and ROC parameters\n",
        "rf_pred_proba_b = rf_b.predict_proba(X_test_b)[:, 1]\n",
        "[fpr_rf_b, tpr_rf_b, thr_rf_b] = roc_curve(y_test_b, rf_pred_proba_b)\n",
        "\n",
        "# Probability Prediction and ROC parameters for imbalanced testing\n",
        "rf_pred_proba_imb = rf_b.predict_proba(X_test)[:, 1]\n",
        "[fpr_rf_imb, tpr_rf_imb, thr_rf_imb] = roc_curve(y_test, rf_pred_proba_imb)\n",
        "\n",
        "# Metrics for evaluation\n",
        "rf_accuracy_score_b = accuracy_score(y_test_b, rf_pred_b)\n",
        "rf_log_loss_b = log_loss(y_test_b,rf_pred_proba_b)\n",
        "rf_auc_b = auc(fpr_rf_b, tpr_rf_b)\n",
        "rf_confusion_matrix_b = confusion_matrix(y_test_b,rf_pred_b )\n",
        "rf_classification_report_b = classification_report(y_test_b, rf_pred_b)\n",
        "\n",
        "# Metrics for evaluation for imbalanced testing\n",
        "rf_accuracy_score_imb = accuracy_score(y_test, rf_pred_imb)\n",
        "rf_log_loss_imb = log_loss(y_test,rf_pred_proba_imb)\n",
        "rf_auc_imb = auc(fpr_rf_imb, tpr_rf_imb)\n",
        "rf_confusion_matrix_imb = confusion_matrix(y_test,rf_pred_imb )\n",
        "rf_classification_report_imb = classification_report(y_test, rf_pred_imb)\n",
        "\n",
        "# Results for Balanced Dataset and X_test balanced\n",
        "print('Random Forest Results:\\n')\n",
        "print(\" Accuracy Score\" ,rf_accuracy_score_b*100)\n",
        "print(\" Log_loss\", rf_log_loss_b )\n",
        "print(\" ROC AUC\" ,rf_auc_b )\n",
        "print(\"\\n Confusion Matrix \\n\\n\" ,rf_confusion_matrix_b)\n",
        "print(\"\\n Classification Report \\n\\n \" ,rf_classification_report_b)\n",
        "\n",
        "# Results for prediction on X_test imbalanced\n",
        "print('Random Forest Results (imbalanced prediction) :\\n')\n",
        "print(\" Accuracy Score\" ,rf_accuracy_score_imb*100)\n",
        "print(\" Log_loss\", rf_log_loss_imb )\n",
        "print(\" ROC AUC\" ,rf_auc_imb )\n",
        "print(\"\\n Confusion Matrix \\n\\n\" ,rf_confusion_matrix_imb)\n",
        "print(\"\\n Classification Report \\n\\n \" ,rf_classification_report_imb)\n"
      ],
      "execution_count": 41,
      "outputs": [
        {
          "output_type": "stream",
          "text": [
            "Random Forest Results:\n",
            "\n",
            " Accuracy Score 72.75747508305648\n",
            " Log_loss 0.64882573332456\n",
            " ROC AUC 0.7986265345134308\n",
            "\n",
            " Confusion Matrix \n",
            "\n",
            " [[447 175]\n",
            " [153 429]]\n",
            "\n",
            " Classification Report \n",
            "\n",
            "                precision    recall  f1-score   support\n",
            "\n",
            "           0       0.74      0.72      0.73       622\n",
            "           1       0.71      0.74      0.72       582\n",
            "\n",
            "    accuracy                           0.73      1204\n",
            "   macro avg       0.73      0.73      0.73      1204\n",
            "weighted avg       0.73      0.73      0.73      1204\n",
            "\n",
            "Random Forest Results (imbalanced prediction) :\n",
            "\n",
            " Accuracy Score 42.5414364640884\n",
            " Log_loss 0.835278958758575\n",
            " ROC AUC 0.8035135404478747\n",
            "\n",
            " Confusion Matrix \n",
            "\n",
            " [[5893 8704]\n",
            " [  32  575]]\n",
            "\n",
            " Classification Report \n",
            "\n",
            "                precision    recall  f1-score   support\n",
            "\n",
            "           0       0.99      0.40      0.57     14597\n",
            "           1       0.06      0.95      0.12       607\n",
            "\n",
            "    accuracy                           0.43     15204\n",
            "   macro avg       0.53      0.68      0.35     15204\n",
            "weighted avg       0.96      0.43      0.56     15204\n",
            "\n"
          ],
          "name": "stdout"
        }
      ]
    },
    {
      "cell_type": "markdown",
      "metadata": {
        "id": "qgljZxYlJhat",
        "colab_type": "text"
      },
      "source": [
        "### Precision and Recall for balanced dataset"
      ]
    },
    {
      "cell_type": "code",
      "metadata": {
        "id": "CmzIixzHJhau",
        "colab_type": "code",
        "outputId": "64132a37-f139-4049-fbcb-1fb1a3822695",
        "colab": {
          "base_uri": "https://localhost:8080/",
          "height": 53
        }
      },
      "source": [
        "from sklearn.metrics import precision_recall_fscore_support as score # \n",
        "precision, recall, fscore, support = score(y_test_b,rf_pred_b)  # \n",
        "print('precision: {}'.format(precision)) \n",
        "print('recall: {}'.format(recall))"
      ],
      "execution_count": 42,
      "outputs": [
        {
          "output_type": "stream",
          "text": [
            "precision: [0.745     0.7102649]\n",
            "recall: [0.71864952 0.7371134 ]\n"
          ],
          "name": "stdout"
        }
      ]
    },
    {
      "cell_type": "markdown",
      "metadata": {
        "id": "w46vuxiNJhav",
        "colab_type": "text"
      },
      "source": [
        "### Frequency for Random Forest balanced dataset Prediction"
      ]
    },
    {
      "cell_type": "code",
      "metadata": {
        "id": "IpXA5VSBJhaw",
        "colab_type": "code",
        "outputId": "c12dff12-8e0b-4e7b-cba6-4b834569ff3a",
        "colab": {
          "base_uri": "https://localhost:8080/",
          "height": 71
        }
      },
      "source": [
        "unique_elements, counts_elements = np.unique(rf_pred_b, return_counts=True) \n",
        "print(\"Frequency of unique values of the said array:\") \n",
        "print(np.asarray((unique_elements, counts_elements)))"
      ],
      "execution_count": 43,
      "outputs": [
        {
          "output_type": "stream",
          "text": [
            "Frequency of unique values of the said array:\n",
            "[[  0   1]\n",
            " [600 604]]\n"
          ],
          "name": "stdout"
        }
      ]
    },
    {
      "cell_type": "markdown",
      "metadata": {
        "id": "Sg7zTCJwJhay",
        "colab_type": "text"
      },
      "source": [
        "### Frequency for test balanced"
      ]
    },
    {
      "cell_type": "code",
      "metadata": {
        "id": "5IGOcZuRJhay",
        "colab_type": "code",
        "outputId": "fc528b3d-535e-4411-934d-7a6e14cd59a9",
        "colab": {
          "base_uri": "https://localhost:8080/",
          "height": 71
        }
      },
      "source": [
        "unique_elements, counts_elements = np.unique(y_test_b, return_counts=True) \n",
        "print(\"Frequency of unique values of the said array:\") \n",
        "print(np.asarray((unique_elements, counts_elements)))"
      ],
      "execution_count": 44,
      "outputs": [
        {
          "output_type": "stream",
          "text": [
            "Frequency of unique values of the said array:\n",
            "[[  0   1]\n",
            " [622 582]]\n"
          ],
          "name": "stdout"
        }
      ]
    },
    {
      "cell_type": "markdown",
      "metadata": {
        "id": "KhNC96V_Jha5",
        "colab_type": "text"
      },
      "source": [
        "### Precision and Recall for imbalanced dataset"
      ]
    },
    {
      "cell_type": "code",
      "metadata": {
        "id": "H5UubY9fJha5",
        "colab_type": "code",
        "outputId": "c05da5c5-00d7-4c85-b4d4-7e9d24ff3ec1",
        "colab": {
          "base_uri": "https://localhost:8080/",
          "height": 53
        }
      },
      "source": [
        "from sklearn.metrics import precision_recall_fscore_support as score # \n",
        "precision, recall, fscore, support = score(y_test,rf_pred_imb)  # \n",
        "print('precision: {}'.format(precision)) \n",
        "print('recall: {}'.format(recall))"
      ],
      "execution_count": 45,
      "outputs": [
        {
          "output_type": "stream",
          "text": [
            "precision: [0.99459916 0.06196788]\n",
            "recall: [0.40371309 0.94728171]\n"
          ],
          "name": "stdout"
        }
      ]
    },
    {
      "cell_type": "markdown",
      "metadata": {
        "id": "pr0pZhDiJha9",
        "colab_type": "text"
      },
      "source": [
        "### Frequency for Random Forest imbalanced dataset Prediction"
      ]
    },
    {
      "cell_type": "code",
      "metadata": {
        "id": "p2oqr_QCJha-",
        "colab_type": "code",
        "outputId": "b0234b43-a9fd-450d-a938-a95ac907dd59",
        "colab": {
          "base_uri": "https://localhost:8080/",
          "height": 71
        }
      },
      "source": [
        "unique_elements, counts_elements = np.unique(rf_pred_imb, return_counts=True) \n",
        "print(\"Frequency of unique values of the said array:\") \n",
        "print(np.asarray((unique_elements, counts_elements)))"
      ],
      "execution_count": 46,
      "outputs": [
        {
          "output_type": "stream",
          "text": [
            "Frequency of unique values of the said array:\n",
            "[[   0    1]\n",
            " [5925 9279]]\n"
          ],
          "name": "stdout"
        }
      ]
    },
    {
      "cell_type": "markdown",
      "metadata": {
        "id": "CdrHBJLzJhbC",
        "colab_type": "text"
      },
      "source": [
        "### Frequency for test"
      ]
    },
    {
      "cell_type": "code",
      "metadata": {
        "id": "ZD--r4H5JhbC",
        "colab_type": "code",
        "outputId": "17bc9006-dd0b-4c67-caf7-54cd32602d84",
        "colab": {
          "base_uri": "https://localhost:8080/",
          "height": 71
        }
      },
      "source": [
        "unique_elements, counts_elements = np.unique(y_test, return_counts=True) \n",
        "print(\"Frequency of unique values of the said array:\") \n",
        "print(np.asarray((unique_elements, counts_elements)))"
      ],
      "execution_count": 47,
      "outputs": [
        {
          "output_type": "stream",
          "text": [
            "Frequency of unique values of the said array:\n",
            "[[    0     1]\n",
            " [14597   607]]\n"
          ],
          "name": "stdout"
        }
      ]
    },
    {
      "cell_type": "markdown",
      "metadata": {
        "id": "Ih6O0OU7JhbE",
        "colab_type": "text"
      },
      "source": [
        ""
      ]
    },
    {
      "cell_type": "markdown",
      "metadata": {
        "id": "gRv68ewyJhbE",
        "colab_type": "text"
      },
      "source": [
        "## Gradient Boosting Classifier"
      ]
    },
    {
      "cell_type": "code",
      "metadata": {
        "id": "LaUUJa-TJhbF",
        "colab_type": "code",
        "outputId": "69289a69-bd63-4115-fdba-8e8015671425",
        "colab": {
          "base_uri": "https://localhost:8080/",
          "height": 803
        }
      },
      "source": [
        "# Fit and Predict\n",
        "xgb_b = XGBClassifier()\n",
        "xgb_b.fit(X_train_b,y_train_b)\n",
        "xgb_pred_b = xgb_b.predict(X_test_b)\n",
        "xgb_pred_imb = xgb_b.predict(X_test)\n",
        "\n",
        "# Probability Prediction and ROC parameters\n",
        "xgb_pred_proba_b = xgb_b.predict_proba(X_test_b)[:, 1]\n",
        "[fpr_xgb_b, tpr_xgb_b, thr_xgb_b] = roc_curve(y_test_b, xgb_pred_proba_b)\n",
        "\n",
        "# Probability Prediction and ROC parameters for imbalanced testing\n",
        "xgb_pred_proba_imb = xgb_b.predict_proba(X_test)[:, 1]\n",
        "[fpr_xgb_imb, tpr_xgb_imb, thr_xgb_imb] = roc_curve(y_test, xgb_pred_proba_imb)\n",
        "\n",
        "# Metrics for evaluation\n",
        "xgb_accuracy_score_b = accuracy_score(y_test_b, xgb_pred_b)\n",
        "xgb_log_loss_b = log_loss(y_test_b,xgb_pred_proba_b)\n",
        "xgb_auc_b = auc(fpr_xgb_b, tpr_xgb_b)\n",
        "xgb_confusion_matrix_b = confusion_matrix(y_test_b,xgb_pred_b )\n",
        "xgb_classification_report_b = classification_report(y_test_b, xgb_pred_b)\n",
        "\n",
        "# Metrics for evaluation for imbalanced testing\n",
        "xgb_accuracy_score_imb = accuracy_score(y_test, xgb_pred_imb)\n",
        "xgb_log_loss_imb = log_loss(y_test,xgb_pred_proba_imb)\n",
        "xgb_auc_imb = auc(fpr_xgb_imb, tpr_xgb_imb)\n",
        "xgb_confusion_matrix_imb = confusion_matrix(y_test,xgb_pred_imb )\n",
        "xgb_classification_report_imb = classification_report(y_test, xgb_pred_imb)\n",
        "\n",
        "# Results for Balanced Dataset and X_test balanced\n",
        "print('Gradient Boosting Results:\\n')\n",
        "print(\" Accuracy Score\" ,xgb_accuracy_score_b*100)\n",
        "print(\" Log_loss\", xgb_log_loss_b )\n",
        "print(\" ROC AUC\" ,xgb_auc_b )\n",
        "print(\"\\n Confusion Matrix \\n\\n\" ,xgb_confusion_matrix_b)\n",
        "print(\"\\n Classification Report \\n\\n \" ,xgb_classification_report_b)\n",
        "\n",
        "# Results for prediction on X_test imbalanced\n",
        "print('Gradient Boosting Results (imbalanced prediction) :\\n')\n",
        "print(\" Accuracy Score\" ,xgb_accuracy_score_imb*100)\n",
        "print(\" Log_loss\", xgb_log_loss_imb )\n",
        "print(\" ROC AUC\" ,xgb_auc_imb )\n",
        "print(\"\\n Confusion Matrix \\n\\n\" ,xgb_confusion_matrix_imb)\n",
        "print(\"\\n Classification Report \\n\\n \" ,xgb_classification_report_imb)"
      ],
      "execution_count": 48,
      "outputs": [
        {
          "output_type": "stream",
          "text": [
            "Gradient Boosting Results:\n",
            "\n",
            " Accuracy Score 75.24916943521595\n",
            " Log_loss 0.5047831352988871\n",
            " ROC AUC 0.8340805626457166\n",
            "\n",
            " Confusion Matrix \n",
            "\n",
            " [[451 171]\n",
            " [127 455]]\n",
            "\n",
            " Classification Report \n",
            "\n",
            "                precision    recall  f1-score   support\n",
            "\n",
            "           0       0.78      0.73      0.75       622\n",
            "           1       0.73      0.78      0.75       582\n",
            "\n",
            "    accuracy                           0.75      1204\n",
            "   macro avg       0.75      0.75      0.75      1204\n",
            "weighted avg       0.75      0.75      0.75      1204\n",
            "\n",
            "Gradient Boosting Results (imbalanced prediction) :\n",
            "\n",
            " Accuracy Score 21.823204419889503\n",
            " Log_loss 1.235558713149251\n",
            " ROC AUC 0.7884049880936246\n",
            "\n",
            " Confusion Matrix \n",
            "\n",
            " [[ 2730 11867]\n",
            " [   19   588]]\n",
            "\n",
            " Classification Report \n",
            "\n",
            "                precision    recall  f1-score   support\n",
            "\n",
            "           0       0.99      0.19      0.31     14597\n",
            "           1       0.05      0.97      0.09       607\n",
            "\n",
            "    accuracy                           0.22     15204\n",
            "   macro avg       0.52      0.58      0.20     15204\n",
            "weighted avg       0.96      0.22      0.31     15204\n",
            "\n"
          ],
          "name": "stdout"
        }
      ]
    },
    {
      "cell_type": "markdown",
      "metadata": {
        "id": "M2TpnABjJhbI",
        "colab_type": "text"
      },
      "source": [
        "### Precision and Recall for balanced dataset"
      ]
    },
    {
      "cell_type": "code",
      "metadata": {
        "id": "2kUGLXyCJhbI",
        "colab_type": "code",
        "outputId": "978b9a69-a2cf-4110-b01d-7c992d685caf",
        "colab": {
          "base_uri": "https://localhost:8080/",
          "height": 53
        }
      },
      "source": [
        "from sklearn.metrics import precision_recall_fscore_support as score # \n",
        "precision, recall, fscore, support = score(y_test_b,xgb_pred_b)  # \n",
        "print('precision: {}'.format(precision)) \n",
        "print('recall: {}'.format(recall))"
      ],
      "execution_count": 49,
      "outputs": [
        {
          "output_type": "stream",
          "text": [
            "precision: [0.78027682 0.72683706]\n",
            "recall: [0.72508039 0.78178694]\n"
          ],
          "name": "stdout"
        }
      ]
    },
    {
      "cell_type": "markdown",
      "metadata": {
        "id": "s5SlhqKxJhbK",
        "colab_type": "text"
      },
      "source": [
        "### Frequency for Gradient Boosting balanced dataset Prediction"
      ]
    },
    {
      "cell_type": "code",
      "metadata": {
        "id": "OMyrUqGjJhbL",
        "colab_type": "code",
        "outputId": "60578b91-1b49-4952-f8a6-328836e36dbe",
        "colab": {
          "base_uri": "https://localhost:8080/",
          "height": 71
        }
      },
      "source": [
        "unique_elements, counts_elements = np.unique(xgb_pred_b, return_counts=True) \n",
        "print(\"Frequency of unique values of the said array:\") \n",
        "print(np.asarray((unique_elements, counts_elements)))"
      ],
      "execution_count": 50,
      "outputs": [
        {
          "output_type": "stream",
          "text": [
            "Frequency of unique values of the said array:\n",
            "[[  0   1]\n",
            " [578 626]]\n"
          ],
          "name": "stdout"
        }
      ]
    },
    {
      "cell_type": "markdown",
      "metadata": {
        "id": "6xoI7ZjDJhbO",
        "colab_type": "text"
      },
      "source": [
        "### Frequency for test balanced"
      ]
    },
    {
      "cell_type": "code",
      "metadata": {
        "id": "7sn-_tIDJhbP",
        "colab_type": "code",
        "outputId": "249c3d02-13bb-4ae9-c879-510a59ed9621",
        "colab": {
          "base_uri": "https://localhost:8080/",
          "height": 71
        }
      },
      "source": [
        "unique_elements, counts_elements = np.unique(y_test, return_counts=True) \n",
        "print(\"Frequency of unique values of the said array:\") \n",
        "print(np.asarray((unique_elements, counts_elements)))"
      ],
      "execution_count": 51,
      "outputs": [
        {
          "output_type": "stream",
          "text": [
            "Frequency of unique values of the said array:\n",
            "[[    0     1]\n",
            " [14597   607]]\n"
          ],
          "name": "stdout"
        }
      ]
    },
    {
      "cell_type": "markdown",
      "metadata": {
        "id": "ZxRz8-LrJhbS",
        "colab_type": "text"
      },
      "source": [
        "### Precision and Recall for imbalanced dataset"
      ]
    },
    {
      "cell_type": "code",
      "metadata": {
        "id": "MJBsLoWBJhbS",
        "colab_type": "code",
        "outputId": "751db00a-7258-4f55-c5bc-e83d69c4459d",
        "colab": {
          "base_uri": "https://localhost:8080/",
          "height": 53
        }
      },
      "source": [
        "from sklearn.metrics import precision_recall_fscore_support as score # \n",
        "precision, recall, fscore, support = score(y_test,xgb_pred_imb)  # \n",
        "print('precision: {}'.format(precision)) \n",
        "print('recall: {}'.format(recall))"
      ],
      "execution_count": 52,
      "outputs": [
        {
          "output_type": "stream",
          "text": [
            "precision: [0.9930884  0.04720996]\n",
            "recall: [0.18702473 0.96869852]\n"
          ],
          "name": "stdout"
        }
      ]
    },
    {
      "cell_type": "markdown",
      "metadata": {
        "id": "Wqjxv8h7JhbU",
        "colab_type": "text"
      },
      "source": [
        "### Frequency for Gradient Boosting imbalanced dataset Prediction"
      ]
    },
    {
      "cell_type": "code",
      "metadata": {
        "id": "aRGKiEqHJhbX",
        "colab_type": "code",
        "outputId": "5a1767dd-e13b-427d-c732-1129b7d72303",
        "colab": {
          "base_uri": "https://localhost:8080/",
          "height": 71
        }
      },
      "source": [
        "unique_elements, counts_elements = np.unique(xgb_pred_imb, return_counts=True) \n",
        "print(\"Frequency of unique values of the said array:\") \n",
        "print(np.asarray((unique_elements, counts_elements)))"
      ],
      "execution_count": 53,
      "outputs": [
        {
          "output_type": "stream",
          "text": [
            "Frequency of unique values of the said array:\n",
            "[[    0     1]\n",
            " [ 2749 12455]]\n"
          ],
          "name": "stdout"
        }
      ]
    },
    {
      "cell_type": "markdown",
      "metadata": {
        "id": "Rs0PsaKVJhbZ",
        "colab_type": "text"
      },
      "source": [
        "### Frequency for test"
      ]
    },
    {
      "cell_type": "code",
      "metadata": {
        "id": "wxlyZRbXJhbZ",
        "colab_type": "code",
        "outputId": "4ffdbb07-4c8e-4f8a-d3f4-8958220987ce",
        "colab": {
          "base_uri": "https://localhost:8080/",
          "height": 71
        }
      },
      "source": [
        "unique_elements, counts_elements = np.unique(y_test, return_counts=True) \n",
        "print(\"Frequency of unique values of the said array:\") \n",
        "print(np.asarray((unique_elements, counts_elements)))"
      ],
      "execution_count": 54,
      "outputs": [
        {
          "output_type": "stream",
          "text": [
            "Frequency of unique values of the said array:\n",
            "[[    0     1]\n",
            " [14597   607]]\n"
          ],
          "name": "stdout"
        }
      ]
    },
    {
      "cell_type": "markdown",
      "metadata": {
        "id": "tKQKHVOzJhbc",
        "colab_type": "text"
      },
      "source": [
        "### Gradient Boosting Hyperparameter Tuning"
      ]
    },
    {
      "cell_type": "markdown",
      "metadata": {
        "id": "pEAJ6TmIJhbd",
        "colab_type": "text"
      },
      "source": [
        "### Randomized Search Cross Validation"
      ]
    },
    {
      "cell_type": "code",
      "metadata": {
        "id": "2RBg2GMvJhbe",
        "colab_type": "code",
        "outputId": "15f9fb8b-60c8-4de8-d4f2-ceb393c040b1",
        "colab": {
          "base_uri": "https://localhost:8080/",
          "height": 517
        }
      },
      "source": [
        "# Define the parameter grid\n",
        "param_grid = {\n",
        " \"learning_rate\"    : [0.05, 0.10, 0.15, 0.20, 0.25, 0.30 ] ,\n",
        " \"max_depth\"        : [ 3, 4, 5, 6, 8, 10, 12, 15],\n",
        " \"min_child_weight\" : [ 1, 3, 5, 7 ],\n",
        " \"gamma\"            : [ 0.0, 0.1, 0.2 , 0.3, 0.4 ],\n",
        " \"colsample_bytree\" : [ 0.3, 0.4, 0.5 , 0.7 ]   \n",
        "}\n",
        "\n",
        "boost = RandomizedSearchCV(xgb_b, param_distributions = param_grid, n_iter = 5, scoring = 'roc_auc', n_jobs = -1, cv = 10, verbose = 3)\n",
        "\n",
        "boost.fit(X_train_b,y_train_b)"
      ],
      "execution_count": 55,
      "outputs": [
        {
          "output_type": "stream",
          "text": [
            "Fitting 10 folds for each of 5 candidates, totalling 50 fits\n"
          ],
          "name": "stdout"
        },
        {
          "output_type": "stream",
          "text": [
            "[Parallel(n_jobs=-1)]: Using backend LokyBackend with 2 concurrent workers.\n",
            "[Parallel(n_jobs=-1)]: Done  28 tasks      | elapsed:  2.0min\n",
            "[Parallel(n_jobs=-1)]: Done  50 out of  50 | elapsed:  3.2min finished\n"
          ],
          "name": "stderr"
        },
        {
          "output_type": "execute_result",
          "data": {
            "text/plain": [
              "RandomizedSearchCV(cv=10, error_score='raise-deprecating',\n",
              "                   estimator=XGBClassifier(base_score=0.5, booster='gbtree',\n",
              "                                           colsample_bylevel=1,\n",
              "                                           colsample_bynode=1,\n",
              "                                           colsample_bytree=1, gamma=0,\n",
              "                                           learning_rate=0.1, max_delta_step=0,\n",
              "                                           max_depth=3, min_child_weight=1,\n",
              "                                           missing=None, n_estimators=100,\n",
              "                                           n_jobs=1, nthread=None,\n",
              "                                           objective='binary:logistic',\n",
              "                                           random_state=0, reg_alpha=...\n",
              "                                           seed=None, silent=None, subsample=1,\n",
              "                                           verbosity=1),\n",
              "                   iid='warn', n_iter=5, n_jobs=-1,\n",
              "                   param_distributions={'colsample_bytree': [0.3, 0.4, 0.5,\n",
              "                                                             0.7],\n",
              "                                        'gamma': [0.0, 0.1, 0.2, 0.3, 0.4],\n",
              "                                        'learning_rate': [0.05, 0.1, 0.15, 0.2,\n",
              "                                                          0.25, 0.3],\n",
              "                                        'max_depth': [3, 4, 5, 6, 8, 10, 12,\n",
              "                                                      15],\n",
              "                                        'min_child_weight': [1, 3, 5, 7]},\n",
              "                   pre_dispatch='2*n_jobs', random_state=None, refit=True,\n",
              "                   return_train_score=False, scoring='roc_auc', verbose=3)"
            ]
          },
          "metadata": {
            "tags": []
          },
          "execution_count": 55
        }
      ]
    },
    {
      "cell_type": "markdown",
      "metadata": {
        "id": "mIml3UslJhbg",
        "colab_type": "text"
      },
      "source": [
        "### Best parameters and best score"
      ]
    },
    {
      "cell_type": "code",
      "metadata": {
        "id": "0g7ysG_fJhbi",
        "colab_type": "code",
        "outputId": "6d347c35-4dfc-4966-b312-5fc2dcb4a7dc",
        "colab": {
          "base_uri": "https://localhost:8080/",
          "height": 53
        }
      },
      "source": [
        "print(boost.best_params_)\n",
        "print(boost.best_score_)"
      ],
      "execution_count": 56,
      "outputs": [
        {
          "output_type": "stream",
          "text": [
            "{'min_child_weight': 3, 'max_depth': 8, 'learning_rate': 0.1, 'gamma': 0.4, 'colsample_bytree': 0.5}\n",
            "0.8249181719917908\n"
          ],
          "name": "stdout"
        }
      ]
    },
    {
      "cell_type": "code",
      "metadata": {
        "id": "2vzrliG_Jhbk",
        "colab_type": "code",
        "outputId": "7fe5df75-0744-49d6-a869-f832f2964765",
        "colab": {
          "base_uri": "https://localhost:8080/",
          "height": 803
        }
      },
      "source": [
        "# Fit and Predict\n",
        "xgb_b = XGBClassifier(min_child_weight = boost.best_params_[\"min_child_weight\"], max_depth = boost.best_params_[\"max_depth\"], learning_rate = boost.best_params_[\"learning_rate\"], gamma = boost.best_params_[\"gamma\"], colsample_bytree = boost.best_params_[\"colsample_bytree\"],n_jobs = -1)\n",
        "xgb_b.fit(X_train_b,y_train_b)\n",
        "xgb_pred_b = xgb_b.predict(X_test_b)\n",
        "xgb_pred_imb = xgb_b.predict(X_test)\n",
        "\n",
        "# Probability Prediction and ROC parameters\n",
        "xgb_pred_proba_b = xgb_b.predict_proba(X_test_b)[:, 1]\n",
        "[fpr_xgb_b, tpr_xgb_b, thr_xgb_b] = roc_curve(y_test_b, xgb_pred_proba_b)\n",
        "\n",
        "# Probability Prediction and ROC parameters for imbalanced testing\n",
        "xgb_pred_proba_imb = xgb_b.predict_proba(X_test)[:, 1]\n",
        "[fpr_xgb_imb, tpr_xgb_imb, thr_xgb_imb] = roc_curve(y_test, xgb_pred_proba_imb)\n",
        "\n",
        "# Metrics for evaluation\n",
        "xgb_accuracy_score_b = accuracy_score(y_test_b, xgb_pred_b)\n",
        "xgb_log_loss_b = log_loss(y_test_b,xgb_pred_proba_b)\n",
        "xgb_auc_b = auc(fpr_xgb_b, tpr_xgb_b)\n",
        "xgb_confusion_matrix_b = confusion_matrix(y_test_b,xgb_pred_b )\n",
        "xgb_classification_report_b = classification_report(y_test_b, xgb_pred_b)\n",
        "\n",
        "# Metrics for evaluation for imbalanced testing\n",
        "xgb_accuracy_score_imb = accuracy_score(y_test, xgb_pred_imb)\n",
        "xgb_log_loss_imb = log_loss(y_test,xgb_pred_proba_imb)\n",
        "xgb_auc_imb = auc(fpr_xgb_imb, tpr_xgb_imb)\n",
        "xgb_confusion_matrix_imb = confusion_matrix(y_test,xgb_pred_imb )\n",
        "xgb_classification_report_imb = classification_report(y_test, xgb_pred_imb)\n",
        "\n",
        "# Results for Balanced Dataset and X_test balanced\n",
        "print('Gradient Boosting Results:\\n')\n",
        "print(\" Accuracy Score\" ,xgb_accuracy_score_b*100)\n",
        "print(\" Log_loss\", xgb_log_loss_b )\n",
        "print(\" ROC AUC\" ,xgb_auc_b )\n",
        "print(\"\\n Confusion Matrix \\n\\n\" ,xgb_confusion_matrix_b)\n",
        "print(\"\\n Classification Report \\n\\n \" ,xgb_classification_report_b)\n",
        "\n",
        "# Results for prediction on X_test imbalanced\n",
        "print('Gradient Boosting Results (imbalanced prediction) :\\n')\n",
        "print(\" Accuracy Score\" ,xgb_accuracy_score_imb*100)\n",
        "print(\" Log_loss\", xgb_log_loss_imb )\n",
        "print(\" ROC AUC\" ,xgb_auc_imb )\n",
        "print(\"\\n Confusion Matrix \\n\\n\" ,xgb_confusion_matrix_imb)\n",
        "print(\"\\n Classification Report \\n\\n \" ,xgb_classification_report_imb)"
      ],
      "execution_count": 57,
      "outputs": [
        {
          "output_type": "stream",
          "text": [
            "Gradient Boosting Results:\n",
            "\n",
            " Accuracy Score 73.9202657807309\n",
            " Log_loss 0.5274807143750665\n",
            " ROC AUC 0.8182823946696722\n",
            "\n",
            " Confusion Matrix \n",
            "\n",
            " [[440 182]\n",
            " [132 450]]\n",
            "\n",
            " Classification Report \n",
            "\n",
            "                precision    recall  f1-score   support\n",
            "\n",
            "           0       0.77      0.71      0.74       622\n",
            "           1       0.71      0.77      0.74       582\n",
            "\n",
            "    accuracy                           0.74      1204\n",
            "   macro avg       0.74      0.74      0.74      1204\n",
            "weighted avg       0.74      0.74      0.74      1204\n",
            "\n",
            "Gradient Boosting Results (imbalanced prediction) :\n",
            "\n",
            " Accuracy Score 38.943699026571956\n",
            " Log_loss 0.977826366381715\n",
            " ROC AUC 0.8013597386748353\n",
            "\n",
            " Confusion Matrix \n",
            "\n",
            " [[5340 9257]\n",
            " [  26  581]]\n",
            "\n",
            " Classification Report \n",
            "\n",
            "                precision    recall  f1-score   support\n",
            "\n",
            "           0       1.00      0.37      0.53     14597\n",
            "           1       0.06      0.96      0.11       607\n",
            "\n",
            "    accuracy                           0.39     15204\n",
            "   macro avg       0.53      0.66      0.32     15204\n",
            "weighted avg       0.96      0.39      0.52     15204\n",
            "\n"
          ],
          "name": "stdout"
        }
      ]
    },
    {
      "cell_type": "markdown",
      "metadata": {
        "id": "Lz7r8THdJhbm",
        "colab_type": "text"
      },
      "source": [
        "### Precision and Recall for balanced dataset"
      ]
    },
    {
      "cell_type": "code",
      "metadata": {
        "id": "yWQUZSUyJhbn",
        "colab_type": "code",
        "outputId": "12edb741-39a1-46e2-d7d9-e4ed28028b1f",
        "colab": {
          "base_uri": "https://localhost:8080/",
          "height": 53
        }
      },
      "source": [
        "from sklearn.metrics import precision_recall_fscore_support as score # \n",
        "precision, recall, fscore, support = score(y_test_b,xgb_pred_b)  # \n",
        "print('precision: {}'.format(precision)) \n",
        "print('recall: {}'.format(recall))"
      ],
      "execution_count": 58,
      "outputs": [
        {
          "output_type": "stream",
          "text": [
            "precision: [0.76923077 0.71202532]\n",
            "recall: [0.7073955  0.77319588]\n"
          ],
          "name": "stdout"
        }
      ]
    },
    {
      "cell_type": "markdown",
      "metadata": {
        "id": "fyaMk6EJJhbp",
        "colab_type": "text"
      },
      "source": [
        "### Frequency for Gradient Boosting balanced dataset Prediction"
      ]
    },
    {
      "cell_type": "code",
      "metadata": {
        "id": "nzWUG14pJhbq",
        "colab_type": "code",
        "outputId": "6c291209-2d42-4666-87f2-30b3bdccf0db",
        "colab": {
          "base_uri": "https://localhost:8080/",
          "height": 71
        }
      },
      "source": [
        "unique_elements, counts_elements = np.unique(xgb_pred_b, return_counts=True) \n",
        "print(\"Frequency of unique values of the said array:\") \n",
        "print(np.asarray((unique_elements, counts_elements)))"
      ],
      "execution_count": 59,
      "outputs": [
        {
          "output_type": "stream",
          "text": [
            "Frequency of unique values of the said array:\n",
            "[[  0   1]\n",
            " [572 632]]\n"
          ],
          "name": "stdout"
        }
      ]
    },
    {
      "cell_type": "markdown",
      "metadata": {
        "id": "Lmoi5_0oJhbv",
        "colab_type": "text"
      },
      "source": [
        "### Frequency for test balanced"
      ]
    },
    {
      "cell_type": "code",
      "metadata": {
        "id": "LqkpUV5SJhbv",
        "colab_type": "code",
        "outputId": "ce3847a2-7f7c-426f-df1e-c4fde4e9ddf6",
        "colab": {
          "base_uri": "https://localhost:8080/",
          "height": 71
        }
      },
      "source": [
        "unique_elements, counts_elements = np.unique(y_test, return_counts=True) \n",
        "print(\"Frequency of unique values of the said array:\") \n",
        "print(np.asarray((unique_elements, counts_elements)))"
      ],
      "execution_count": 60,
      "outputs": [
        {
          "output_type": "stream",
          "text": [
            "Frequency of unique values of the said array:\n",
            "[[    0     1]\n",
            " [14597   607]]\n"
          ],
          "name": "stdout"
        }
      ]
    },
    {
      "cell_type": "markdown",
      "metadata": {
        "id": "OnAPhSzhJhb8",
        "colab_type": "text"
      },
      "source": [
        "### Precision and Recall for imbalanced dataset"
      ]
    },
    {
      "cell_type": "code",
      "metadata": {
        "id": "8ZqDe8nHJhb9",
        "colab_type": "code",
        "outputId": "30e2cf63-bc13-410c-e860-f0d5bd66de8b",
        "colab": {
          "base_uri": "https://localhost:8080/",
          "height": 53
        }
      },
      "source": [
        "from sklearn.metrics import precision_recall_fscore_support as score # \n",
        "precision, recall, fscore, support = score(y_test,xgb_pred_imb)  # \n",
        "print('precision: {}'.format(precision)) \n",
        "print('recall: {}'.format(recall))"
      ],
      "execution_count": 61,
      "outputs": [
        {
          "output_type": "stream",
          "text": [
            "precision: [0.99515468 0.05905672]\n",
            "recall: [0.36582859 0.95716639]\n"
          ],
          "name": "stdout"
        }
      ]
    },
    {
      "cell_type": "markdown",
      "metadata": {
        "id": "xkaIAujOJhb_",
        "colab_type": "text"
      },
      "source": [
        "### Frequency for Gradient Boosting imbalanced dataset Prediction"
      ]
    },
    {
      "cell_type": "code",
      "metadata": {
        "id": "tHOc7_acJhcA",
        "colab_type": "code",
        "outputId": "2e69a4ab-fd10-4769-e9de-4c8351af7ba6",
        "colab": {
          "base_uri": "https://localhost:8080/",
          "height": 71
        }
      },
      "source": [
        "unique_elements, counts_elements = np.unique(xgb_pred_imb, return_counts=True) \n",
        "print(\"Frequency of unique values of the said array:\") \n",
        "print(np.asarray((unique_elements, counts_elements)))"
      ],
      "execution_count": 62,
      "outputs": [
        {
          "output_type": "stream",
          "text": [
            "Frequency of unique values of the said array:\n",
            "[[   0    1]\n",
            " [5366 9838]]\n"
          ],
          "name": "stdout"
        }
      ]
    },
    {
      "cell_type": "markdown",
      "metadata": {
        "id": "XwwuObIGJhcB",
        "colab_type": "text"
      },
      "source": [
        "### Frequency for test"
      ]
    },
    {
      "cell_type": "code",
      "metadata": {
        "id": "6lbU5yziJhcD",
        "colab_type": "code",
        "outputId": "ac1b6659-db35-4586-f210-50f54da5d59c",
        "colab": {
          "base_uri": "https://localhost:8080/",
          "height": 71
        }
      },
      "source": [
        "unique_elements, counts_elements = np.unique(y_test, return_counts=True) \n",
        "print(\"Frequency of unique values of the said array:\") \n",
        "print(np.asarray((unique_elements, counts_elements)))"
      ],
      "execution_count": 63,
      "outputs": [
        {
          "output_type": "stream",
          "text": [
            "Frequency of unique values of the said array:\n",
            "[[    0     1]\n",
            " [14597   607]]\n"
          ],
          "name": "stdout"
        }
      ]
    },
    {
      "cell_type": "code",
      "metadata": {
        "id": "CL89RV6gJhcF",
        "colab_type": "code",
        "colab": {}
      },
      "source": [
        ""
      ],
      "execution_count": 0,
      "outputs": []
    }
  ]
}