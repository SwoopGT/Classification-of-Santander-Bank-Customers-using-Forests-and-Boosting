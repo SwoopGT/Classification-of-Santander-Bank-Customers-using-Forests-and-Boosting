{
  "nbformat": 4,
  "nbformat_minor": 0,
  "metadata": {
    "kernelspec": {
      "name": "python3",
      "display_name": "Python 3"
    },
    "language_info": {
      "codemirror_mode": {
        "name": "ipython",
        "version": 3
      },
      "file_extension": ".py",
      "mimetype": "text/x-python",
      "name": "python",
      "nbconvert_exporter": "python",
      "pygments_lexer": "ipython3",
      "version": "3.7.1"
    },
    "colab": {
      "name": "Santander Customer Satisfaction - update.ipynb",
      "provenance": [],
      "collapsed_sections": [
        "RZSDq_56Jhai",
        "tKQKHVOzJhbc"
      ],
      "include_colab_link": true
    },
    "accelerator": "GPU"
  },
  "cells": [
    {
      "cell_type": "markdown",
      "metadata": {
        "id": "view-in-github",
        "colab_type": "text"
      },
      "source": [
        "<a href=\"https://colab.research.google.com/github/SwoopGT/Santander-Customer-Satisfaction/blob/master/Santander_Customer_Satisfaction_update.ipynb\" target=\"_parent\"><img src=\"https://colab.research.google.com/assets/colab-badge.svg\" alt=\"Open In Colab\"/></a>"
      ]
    },
    {
      "cell_type": "markdown",
      "metadata": {
        "id": "CulA1T91JhW5",
        "colab_type": "text"
      },
      "source": [
        "# SECTION 1 - PRE PROCESSING"
      ]
    },
    {
      "cell_type": "markdown",
      "metadata": {
        "id": "oJR_lqtnJhW9",
        "colab_type": "text"
      },
      "source": [
        "### Import necessary Libraries"
      ]
    },
    {
      "cell_type": "code",
      "metadata": {
        "id": "YDO9PT57JhXA",
        "colab_type": "code",
        "colab": {}
      },
      "source": [
        "import numpy as np\n",
        "import pandas as pd\n",
        "import seaborn as sns\n",
        "from matplotlib import pyplot as plt\n",
        "from sklearn.preprocessing import StandardScaler\n",
        "from sklearn.model_selection import train_test_split,GridSearchCV,RandomizedSearchCV,cross_val_score\n",
        "from sklearn.ensemble import RandomForestClassifier\n",
        "from xgboost import XGBClassifier\n",
        "from sklearn.metrics import confusion_matrix, classification_report,accuracy_score,roc_auc_score,recall_score\n",
        "from sklearn.metrics import precision_recall_curve, roc_curve, auc, log_loss\n",
        "\n",
        "%matplotlib inline"
      ],
      "execution_count": 0,
      "outputs": []
    },
    {
      "cell_type": "markdown",
      "metadata": {
        "id": "pV6Kq4vRVrdj",
        "colab_type": "text"
      },
      "source": [
        "### Google Drive Pre Requisite"
      ]
    },
    {
      "cell_type": "code",
      "metadata": {
        "id": "CtEI_4TSJhXJ",
        "colab_type": "code",
        "colab": {}
      },
      "source": [
        "# Code to read csv file into Colaboratory:\n",
        "\n",
        "!pip install -U -q PyDrive\n",
        "from pydrive.auth import GoogleAuth\n",
        "from pydrive.drive import GoogleDrive\n",
        "from google.colab import auth\n",
        "from oauth2client.client import GoogleCredentials \n",
        "\n",
        "# Authenticate and create the PyDrive client.\n",
        "auth.authenticate_user()\n",
        "gauth = GoogleAuth()\n",
        "gauth.credentials = GoogleCredentials.get_application_default()\n",
        "drive = GoogleDrive(gauth)\n",
        "\n"
      ],
      "execution_count": 0,
      "outputs": []
    },
    {
      "cell_type": "code",
      "metadata": {
        "id": "VORM03g4NXUn",
        "colab_type": "code",
        "colab": {},
        "cellView": "form"
      },
      "source": [
        "#@title \n",
        "link = 'https://drive.google.com/open?id=1A2RP-OBRhvd2DfISv_Ykhxp3ZJZVjZ3G'\n",
        "\n",
        "fluff, id = link.split('=')\n",
        "\n",
        "print (id) # Verify that you have everything after '='"
      ],
      "execution_count": 0,
      "outputs": []
    },
    {
      "cell_type": "markdown",
      "metadata": {
        "id": "-tjuQm-XVWuR",
        "colab_type": "text"
      },
      "source": [
        "### Read data from the file."
      ]
    },
    {
      "cell_type": "code",
      "metadata": {
        "id": "0HSSF6UTNssV",
        "colab_type": "code",
        "colab": {},
        "cellView": "both"
      },
      "source": [
        "#@title \n",
        "downloaded = drive.CreateFile({'id':id}) \n",
        "downloaded.GetContentFile('Train.csv')  \n",
        "df = pd.read_csv('Train.csv') # Dataset is now stored in a Pandas Dataframe"
      ],
      "execution_count": 0,
      "outputs": []
    },
    {
      "cell_type": "markdown",
      "metadata": {
        "id": "YwFVAgS4JhXP",
        "colab_type": "text"
      },
      "source": [
        "### Check shape of the dataset"
      ]
    },
    {
      "cell_type": "code",
      "metadata": {
        "id": "Rfll9oZLJhXR",
        "colab_type": "code",
        "outputId": "b9517159-242f-4d7b-ace1-d9bf15fd51a9",
        "colab": {
          "base_uri": "https://localhost:8080/",
          "height": 35
        }
      },
      "source": [
        "df.shape"
      ],
      "execution_count": 5,
      "outputs": [
        {
          "output_type": "execute_result",
          "data": {
            "text/plain": [
              "(76020, 371)"
            ]
          },
          "metadata": {
            "tags": []
          },
          "execution_count": 5
        }
      ]
    },
    {
      "cell_type": "markdown",
      "metadata": {
        "id": "Nq5sryN1JhXZ",
        "colab_type": "text"
      },
      "source": [
        "### Check columns"
      ]
    },
    {
      "cell_type": "code",
      "metadata": {
        "id": "62Yem0GlJhXa",
        "colab_type": "code",
        "outputId": "c6ebb366-55a7-4fd0-b40d-99e2b6d027ac",
        "colab": {
          "base_uri": "https://localhost:8080/",
          "height": 196
        }
      },
      "source": [
        "df.columns"
      ],
      "execution_count": 6,
      "outputs": [
        {
          "output_type": "execute_result",
          "data": {
            "text/plain": [
              "Index(['ID', 'var3', 'var15', 'imp_ent_var16_ult1', 'imp_op_var39_comer_ult1',\n",
              "       'imp_op_var39_comer_ult3', 'imp_op_var40_comer_ult1',\n",
              "       'imp_op_var40_comer_ult3', 'imp_op_var40_efect_ult1',\n",
              "       'imp_op_var40_efect_ult3',\n",
              "       ...\n",
              "       'saldo_medio_var33_hace2', 'saldo_medio_var33_hace3',\n",
              "       'saldo_medio_var33_ult1', 'saldo_medio_var33_ult3',\n",
              "       'saldo_medio_var44_hace2', 'saldo_medio_var44_hace3',\n",
              "       'saldo_medio_var44_ult1', 'saldo_medio_var44_ult3', 'var38', 'TARGET'],\n",
              "      dtype='object', length=371)"
            ]
          },
          "metadata": {
            "tags": []
          },
          "execution_count": 6
        }
      ]
    },
    {
      "cell_type": "code",
      "metadata": {
        "id": "XarIEHKSJhXf",
        "colab_type": "code",
        "outputId": "9a6f11b2-5b02-44f4-ee46-901cc04c549a",
        "colab": {
          "base_uri": "https://localhost:8080/",
          "height": 106
        }
      },
      "source": [
        "df.info()"
      ],
      "execution_count": 7,
      "outputs": [
        {
          "output_type": "stream",
          "text": [
            "<class 'pandas.core.frame.DataFrame'>\n",
            "RangeIndex: 76020 entries, 0 to 76019\n",
            "Columns: 371 entries, ID to TARGET\n",
            "dtypes: float64(111), int64(260)\n",
            "memory usage: 215.2 MB\n"
          ],
          "name": "stdout"
        }
      ]
    },
    {
      "cell_type": "markdown",
      "metadata": {
        "id": "yCAZJstLJhXl",
        "colab_type": "text"
      },
      "source": [
        "### Check for null values"
      ]
    },
    {
      "cell_type": "code",
      "metadata": {
        "id": "jbfftQpvJhXm",
        "colab_type": "code",
        "outputId": "ec6d1cdb-8aef-4788-ab76-6e28f0c637d9",
        "colab": {
          "base_uri": "https://localhost:8080/",
          "height": 1000
        }
      },
      "source": [
        "percent_missing = df.isnull().sum() * 100 / len(df)\n",
        "percent_missing"
      ],
      "execution_count": 8,
      "outputs": [
        {
          "output_type": "execute_result",
          "data": {
            "text/plain": [
              "ID                               0.0\n",
              "var3                             0.0\n",
              "var15                            0.0\n",
              "imp_ent_var16_ult1               0.0\n",
              "imp_op_var39_comer_ult1          0.0\n",
              "imp_op_var39_comer_ult3          0.0\n",
              "imp_op_var40_comer_ult1          0.0\n",
              "imp_op_var40_comer_ult3          0.0\n",
              "imp_op_var40_efect_ult1          0.0\n",
              "imp_op_var40_efect_ult3          0.0\n",
              "imp_op_var40_ult1                0.0\n",
              "imp_op_var41_comer_ult1          0.0\n",
              "imp_op_var41_comer_ult3          0.0\n",
              "imp_op_var41_efect_ult1          0.0\n",
              "imp_op_var41_efect_ult3          0.0\n",
              "imp_op_var41_ult1                0.0\n",
              "imp_op_var39_efect_ult1          0.0\n",
              "imp_op_var39_efect_ult3          0.0\n",
              "imp_op_var39_ult1                0.0\n",
              "imp_sal_var16_ult1               0.0\n",
              "ind_var1_0                       0.0\n",
              "ind_var1                         0.0\n",
              "ind_var2_0                       0.0\n",
              "ind_var2                         0.0\n",
              "ind_var5_0                       0.0\n",
              "ind_var5                         0.0\n",
              "ind_var6_0                       0.0\n",
              "ind_var6                         0.0\n",
              "ind_var8_0                       0.0\n",
              "ind_var8                         0.0\n",
              "                                ... \n",
              "saldo_medio_var13_corto_hace2    0.0\n",
              "saldo_medio_var13_corto_hace3    0.0\n",
              "saldo_medio_var13_corto_ult1     0.0\n",
              "saldo_medio_var13_corto_ult3     0.0\n",
              "saldo_medio_var13_largo_hace2    0.0\n",
              "saldo_medio_var13_largo_hace3    0.0\n",
              "saldo_medio_var13_largo_ult1     0.0\n",
              "saldo_medio_var13_largo_ult3     0.0\n",
              "saldo_medio_var13_medio_hace2    0.0\n",
              "saldo_medio_var13_medio_hace3    0.0\n",
              "saldo_medio_var13_medio_ult1     0.0\n",
              "saldo_medio_var13_medio_ult3     0.0\n",
              "saldo_medio_var17_hace2          0.0\n",
              "saldo_medio_var17_hace3          0.0\n",
              "saldo_medio_var17_ult1           0.0\n",
              "saldo_medio_var17_ult3           0.0\n",
              "saldo_medio_var29_hace2          0.0\n",
              "saldo_medio_var29_hace3          0.0\n",
              "saldo_medio_var29_ult1           0.0\n",
              "saldo_medio_var29_ult3           0.0\n",
              "saldo_medio_var33_hace2          0.0\n",
              "saldo_medio_var33_hace3          0.0\n",
              "saldo_medio_var33_ult1           0.0\n",
              "saldo_medio_var33_ult3           0.0\n",
              "saldo_medio_var44_hace2          0.0\n",
              "saldo_medio_var44_hace3          0.0\n",
              "saldo_medio_var44_ult1           0.0\n",
              "saldo_medio_var44_ult3           0.0\n",
              "var38                            0.0\n",
              "TARGET                           0.0\n",
              "Length: 371, dtype: float64"
            ]
          },
          "metadata": {
            "tags": []
          },
          "execution_count": 8
        }
      ]
    },
    {
      "cell_type": "markdown",
      "metadata": {
        "id": "yoEk9agIJhXu",
        "colab_type": "text"
      },
      "source": [
        "### Statistical Information"
      ]
    },
    {
      "cell_type": "code",
      "metadata": {
        "id": "ejizaKSFJhXv",
        "colab_type": "code",
        "outputId": "59fc5168-7d19-43ca-87dc-2a84962c9f08",
        "colab": {
          "base_uri": "https://localhost:8080/",
          "height": 350
        }
      },
      "source": [
        "df.describe()"
      ],
      "execution_count": 9,
      "outputs": [
        {
          "output_type": "execute_result",
          "data": {
            "text/html": [
              "<div>\n",
              "<style scoped>\n",
              "    .dataframe tbody tr th:only-of-type {\n",
              "        vertical-align: middle;\n",
              "    }\n",
              "\n",
              "    .dataframe tbody tr th {\n",
              "        vertical-align: top;\n",
              "    }\n",
              "\n",
              "    .dataframe thead th {\n",
              "        text-align: right;\n",
              "    }\n",
              "</style>\n",
              "<table border=\"1\" class=\"dataframe\">\n",
              "  <thead>\n",
              "    <tr style=\"text-align: right;\">\n",
              "      <th></th>\n",
              "      <th>ID</th>\n",
              "      <th>var3</th>\n",
              "      <th>var15</th>\n",
              "      <th>imp_ent_var16_ult1</th>\n",
              "      <th>imp_op_var39_comer_ult1</th>\n",
              "      <th>imp_op_var39_comer_ult3</th>\n",
              "      <th>imp_op_var40_comer_ult1</th>\n",
              "      <th>imp_op_var40_comer_ult3</th>\n",
              "      <th>imp_op_var40_efect_ult1</th>\n",
              "      <th>imp_op_var40_efect_ult3</th>\n",
              "      <th>imp_op_var40_ult1</th>\n",
              "      <th>imp_op_var41_comer_ult1</th>\n",
              "      <th>imp_op_var41_comer_ult3</th>\n",
              "      <th>imp_op_var41_efect_ult1</th>\n",
              "      <th>imp_op_var41_efect_ult3</th>\n",
              "      <th>imp_op_var41_ult1</th>\n",
              "      <th>imp_op_var39_efect_ult1</th>\n",
              "      <th>imp_op_var39_efect_ult3</th>\n",
              "      <th>imp_op_var39_ult1</th>\n",
              "      <th>imp_sal_var16_ult1</th>\n",
              "      <th>ind_var1_0</th>\n",
              "      <th>ind_var1</th>\n",
              "      <th>ind_var2_0</th>\n",
              "      <th>ind_var2</th>\n",
              "      <th>ind_var5_0</th>\n",
              "      <th>ind_var5</th>\n",
              "      <th>ind_var6_0</th>\n",
              "      <th>ind_var6</th>\n",
              "      <th>ind_var8_0</th>\n",
              "      <th>ind_var8</th>\n",
              "      <th>ind_var12_0</th>\n",
              "      <th>ind_var12</th>\n",
              "      <th>ind_var13_0</th>\n",
              "      <th>ind_var13_corto_0</th>\n",
              "      <th>ind_var13_corto</th>\n",
              "      <th>ind_var13_largo_0</th>\n",
              "      <th>ind_var13_largo</th>\n",
              "      <th>ind_var13_medio_0</th>\n",
              "      <th>ind_var13_medio</th>\n",
              "      <th>ind_var13</th>\n",
              "      <th>...</th>\n",
              "      <th>saldo_medio_var5_ult1</th>\n",
              "      <th>saldo_medio_var5_ult3</th>\n",
              "      <th>saldo_medio_var8_hace2</th>\n",
              "      <th>saldo_medio_var8_hace3</th>\n",
              "      <th>saldo_medio_var8_ult1</th>\n",
              "      <th>saldo_medio_var8_ult3</th>\n",
              "      <th>saldo_medio_var12_hace2</th>\n",
              "      <th>saldo_medio_var12_hace3</th>\n",
              "      <th>saldo_medio_var12_ult1</th>\n",
              "      <th>saldo_medio_var12_ult3</th>\n",
              "      <th>saldo_medio_var13_corto_hace2</th>\n",
              "      <th>saldo_medio_var13_corto_hace3</th>\n",
              "      <th>saldo_medio_var13_corto_ult1</th>\n",
              "      <th>saldo_medio_var13_corto_ult3</th>\n",
              "      <th>saldo_medio_var13_largo_hace2</th>\n",
              "      <th>saldo_medio_var13_largo_hace3</th>\n",
              "      <th>saldo_medio_var13_largo_ult1</th>\n",
              "      <th>saldo_medio_var13_largo_ult3</th>\n",
              "      <th>saldo_medio_var13_medio_hace2</th>\n",
              "      <th>saldo_medio_var13_medio_hace3</th>\n",
              "      <th>saldo_medio_var13_medio_ult1</th>\n",
              "      <th>saldo_medio_var13_medio_ult3</th>\n",
              "      <th>saldo_medio_var17_hace2</th>\n",
              "      <th>saldo_medio_var17_hace3</th>\n",
              "      <th>saldo_medio_var17_ult1</th>\n",
              "      <th>saldo_medio_var17_ult3</th>\n",
              "      <th>saldo_medio_var29_hace2</th>\n",
              "      <th>saldo_medio_var29_hace3</th>\n",
              "      <th>saldo_medio_var29_ult1</th>\n",
              "      <th>saldo_medio_var29_ult3</th>\n",
              "      <th>saldo_medio_var33_hace2</th>\n",
              "      <th>saldo_medio_var33_hace3</th>\n",
              "      <th>saldo_medio_var33_ult1</th>\n",
              "      <th>saldo_medio_var33_ult3</th>\n",
              "      <th>saldo_medio_var44_hace2</th>\n",
              "      <th>saldo_medio_var44_hace3</th>\n",
              "      <th>saldo_medio_var44_ult1</th>\n",
              "      <th>saldo_medio_var44_ult3</th>\n",
              "      <th>var38</th>\n",
              "      <th>TARGET</th>\n",
              "    </tr>\n",
              "  </thead>\n",
              "  <tbody>\n",
              "    <tr>\n",
              "      <th>count</th>\n",
              "      <td>76020.000000</td>\n",
              "      <td>76020.000000</td>\n",
              "      <td>76020.000000</td>\n",
              "      <td>76020.000000</td>\n",
              "      <td>76020.000000</td>\n",
              "      <td>76020.000000</td>\n",
              "      <td>76020.000000</td>\n",
              "      <td>76020.000000</td>\n",
              "      <td>76020.000000</td>\n",
              "      <td>76020.000000</td>\n",
              "      <td>76020.000000</td>\n",
              "      <td>76020.000000</td>\n",
              "      <td>76020.000000</td>\n",
              "      <td>76020.000000</td>\n",
              "      <td>76020.000000</td>\n",
              "      <td>76020.000000</td>\n",
              "      <td>76020.000000</td>\n",
              "      <td>76020.000000</td>\n",
              "      <td>76020.000000</td>\n",
              "      <td>76020.000000</td>\n",
              "      <td>76020.000000</td>\n",
              "      <td>76020.000000</td>\n",
              "      <td>76020.0</td>\n",
              "      <td>76020.0</td>\n",
              "      <td>76020.000000</td>\n",
              "      <td>76020.000000</td>\n",
              "      <td>76020.000000</td>\n",
              "      <td>76020.000000</td>\n",
              "      <td>76020.000000</td>\n",
              "      <td>76020.000000</td>\n",
              "      <td>76020.000000</td>\n",
              "      <td>76020.000000</td>\n",
              "      <td>76020.000000</td>\n",
              "      <td>76020.000000</td>\n",
              "      <td>76020.000000</td>\n",
              "      <td>76020.000000</td>\n",
              "      <td>76020.000000</td>\n",
              "      <td>76020.000000</td>\n",
              "      <td>76020.000000</td>\n",
              "      <td>76020.000000</td>\n",
              "      <td>...</td>\n",
              "      <td>76020.000000</td>\n",
              "      <td>76020.000000</td>\n",
              "      <td>76020.000000</td>\n",
              "      <td>76020.000000</td>\n",
              "      <td>76020.000000</td>\n",
              "      <td>76020.000000</td>\n",
              "      <td>7.602000e+04</td>\n",
              "      <td>76020.000000</td>\n",
              "      <td>7.602000e+04</td>\n",
              "      <td>7.602000e+04</td>\n",
              "      <td>76020.000000</td>\n",
              "      <td>76020.000000</td>\n",
              "      <td>76020.000000</td>\n",
              "      <td>76020.000000</td>\n",
              "      <td>76020.000000</td>\n",
              "      <td>76020.000000</td>\n",
              "      <td>7.602000e+04</td>\n",
              "      <td>7.602000e+04</td>\n",
              "      <td>76020.000000</td>\n",
              "      <td>76020.0</td>\n",
              "      <td>76020.000000</td>\n",
              "      <td>76020.000000</td>\n",
              "      <td>7.602000e+04</td>\n",
              "      <td>7.602000e+04</td>\n",
              "      <td>7.602000e+04</td>\n",
              "      <td>7.602000e+04</td>\n",
              "      <td>76020.000000</td>\n",
              "      <td>76020.000000</td>\n",
              "      <td>76020.000000</td>\n",
              "      <td>76020.000000</td>\n",
              "      <td>76020.000000</td>\n",
              "      <td>76020.000000</td>\n",
              "      <td>76020.000000</td>\n",
              "      <td>76020.000000</td>\n",
              "      <td>76020.000000</td>\n",
              "      <td>76020.000000</td>\n",
              "      <td>76020.000000</td>\n",
              "      <td>76020.000000</td>\n",
              "      <td>7.602000e+04</td>\n",
              "      <td>76020.000000</td>\n",
              "    </tr>\n",
              "    <tr>\n",
              "      <th>mean</th>\n",
              "      <td>75964.050723</td>\n",
              "      <td>-1523.199277</td>\n",
              "      <td>33.212865</td>\n",
              "      <td>86.208265</td>\n",
              "      <td>72.363067</td>\n",
              "      <td>119.529632</td>\n",
              "      <td>3.559130</td>\n",
              "      <td>6.472698</td>\n",
              "      <td>0.412946</td>\n",
              "      <td>0.567352</td>\n",
              "      <td>3.160715</td>\n",
              "      <td>68.803937</td>\n",
              "      <td>113.056934</td>\n",
              "      <td>68.205140</td>\n",
              "      <td>113.225058</td>\n",
              "      <td>137.242763</td>\n",
              "      <td>68.618087</td>\n",
              "      <td>113.792410</td>\n",
              "      <td>140.403479</td>\n",
              "      <td>5.477676</td>\n",
              "      <td>0.011458</td>\n",
              "      <td>0.003762</td>\n",
              "      <td>0.0</td>\n",
              "      <td>0.0</td>\n",
              "      <td>0.958024</td>\n",
              "      <td>0.663760</td>\n",
              "      <td>0.000105</td>\n",
              "      <td>0.000026</td>\n",
              "      <td>0.032833</td>\n",
              "      <td>0.028598</td>\n",
              "      <td>0.067522</td>\n",
              "      <td>0.045462</td>\n",
              "      <td>0.052249</td>\n",
              "      <td>0.042936</td>\n",
              "      <td>0.041476</td>\n",
              "      <td>0.010168</td>\n",
              "      <td>0.009997</td>\n",
              "      <td>0.000026</td>\n",
              "      <td>0.000026</td>\n",
              "      <td>0.050855</td>\n",
              "      <td>...</td>\n",
              "      <td>1077.256756</td>\n",
              "      <td>1048.856447</td>\n",
              "      <td>68.275452</td>\n",
              "      <td>9.505287</td>\n",
              "      <td>124.620962</td>\n",
              "      <td>110.026575</td>\n",
              "      <td>3.997023e+03</td>\n",
              "      <td>613.534443</td>\n",
              "      <td>5.703008e+03</td>\n",
              "      <td>4.401002e+03</td>\n",
              "      <td>3639.419939</td>\n",
              "      <td>556.184178</td>\n",
              "      <td>4852.261814</td>\n",
              "      <td>3857.848542</td>\n",
              "      <td>771.227449</td>\n",
              "      <td>162.170439</td>\n",
              "      <td>9.569502e+02</td>\n",
              "      <td>7.509563e+02</td>\n",
              "      <td>0.175324</td>\n",
              "      <td>0.0</td>\n",
              "      <td>0.513023</td>\n",
              "      <td>0.344174</td>\n",
              "      <td>9.117181e+01</td>\n",
              "      <td>3.646318e+01</td>\n",
              "      <td>1.310316e+02</td>\n",
              "      <td>1.092169e+02</td>\n",
              "      <td>0.213071</td>\n",
              "      <td>0.001910</td>\n",
              "      <td>0.253907</td>\n",
              "      <td>0.186630</td>\n",
              "      <td>7.935824</td>\n",
              "      <td>1.365146</td>\n",
              "      <td>12.215580</td>\n",
              "      <td>8.784074</td>\n",
              "      <td>31.505324</td>\n",
              "      <td>1.858575</td>\n",
              "      <td>76.026165</td>\n",
              "      <td>56.614351</td>\n",
              "      <td>1.172358e+05</td>\n",
              "      <td>0.039569</td>\n",
              "    </tr>\n",
              "    <tr>\n",
              "      <th>std</th>\n",
              "      <td>43781.947379</td>\n",
              "      <td>39033.462364</td>\n",
              "      <td>12.956486</td>\n",
              "      <td>1614.757313</td>\n",
              "      <td>339.315831</td>\n",
              "      <td>546.266294</td>\n",
              "      <td>93.155749</td>\n",
              "      <td>153.737066</td>\n",
              "      <td>30.604864</td>\n",
              "      <td>36.513513</td>\n",
              "      <td>95.268204</td>\n",
              "      <td>319.605516</td>\n",
              "      <td>512.154823</td>\n",
              "      <td>531.897917</td>\n",
              "      <td>950.086398</td>\n",
              "      <td>697.712596</td>\n",
              "      <td>535.473750</td>\n",
              "      <td>953.578624</td>\n",
              "      <td>712.767240</td>\n",
              "      <td>465.391149</td>\n",
              "      <td>0.106425</td>\n",
              "      <td>0.061221</td>\n",
              "      <td>0.0</td>\n",
              "      <td>0.0</td>\n",
              "      <td>0.200535</td>\n",
              "      <td>0.472425</td>\n",
              "      <td>0.010258</td>\n",
              "      <td>0.005129</td>\n",
              "      <td>0.178202</td>\n",
              "      <td>0.166674</td>\n",
              "      <td>0.250925</td>\n",
              "      <td>0.208316</td>\n",
              "      <td>0.222531</td>\n",
              "      <td>0.202714</td>\n",
              "      <td>0.199390</td>\n",
              "      <td>0.100325</td>\n",
              "      <td>0.099486</td>\n",
              "      <td>0.005129</td>\n",
              "      <td>0.005129</td>\n",
              "      <td>0.219703</td>\n",
              "      <td>...</td>\n",
              "      <td>9614.906985</td>\n",
              "      <td>8189.948852</td>\n",
              "      <td>1733.838226</td>\n",
              "      <td>519.389157</td>\n",
              "      <td>2205.249804</td>\n",
              "      <td>1935.305713</td>\n",
              "      <td>3.777314e+04</td>\n",
              "      <td>9292.752726</td>\n",
              "      <td>4.620254e+04</td>\n",
              "      <td>3.550718e+04</td>\n",
              "      <td>26359.174223</td>\n",
              "      <td>7182.642532</td>\n",
              "      <td>31886.615189</td>\n",
              "      <td>25572.245055</td>\n",
              "      <td>13082.155867</td>\n",
              "      <td>4698.868075</td>\n",
              "      <td>1.600698e+04</td>\n",
              "      <td>1.242252e+04</td>\n",
              "      <td>34.625518</td>\n",
              "      <td>0.0</td>\n",
              "      <td>113.597559</td>\n",
              "      <td>73.376513</td>\n",
              "      <td>1.539248e+04</td>\n",
              "      <td>8.612395e+03</td>\n",
              "      <td>1.495653e+04</td>\n",
              "      <td>1.308216e+04</td>\n",
              "      <td>41.820444</td>\n",
              "      <td>0.526626</td>\n",
              "      <td>52.078775</td>\n",
              "      <td>31.879418</td>\n",
              "      <td>455.887218</td>\n",
              "      <td>113.959637</td>\n",
              "      <td>783.207399</td>\n",
              "      <td>538.439211</td>\n",
              "      <td>2013.125393</td>\n",
              "      <td>147.786584</td>\n",
              "      <td>4040.337842</td>\n",
              "      <td>2852.579397</td>\n",
              "      <td>1.826646e+05</td>\n",
              "      <td>0.194945</td>\n",
              "    </tr>\n",
              "    <tr>\n",
              "      <th>min</th>\n",
              "      <td>1.000000</td>\n",
              "      <td>-999999.000000</td>\n",
              "      <td>5.000000</td>\n",
              "      <td>0.000000</td>\n",
              "      <td>0.000000</td>\n",
              "      <td>0.000000</td>\n",
              "      <td>0.000000</td>\n",
              "      <td>0.000000</td>\n",
              "      <td>0.000000</td>\n",
              "      <td>0.000000</td>\n",
              "      <td>0.000000</td>\n",
              "      <td>0.000000</td>\n",
              "      <td>0.000000</td>\n",
              "      <td>0.000000</td>\n",
              "      <td>0.000000</td>\n",
              "      <td>0.000000</td>\n",
              "      <td>0.000000</td>\n",
              "      <td>0.000000</td>\n",
              "      <td>0.000000</td>\n",
              "      <td>0.000000</td>\n",
              "      <td>0.000000</td>\n",
              "      <td>0.000000</td>\n",
              "      <td>0.0</td>\n",
              "      <td>0.0</td>\n",
              "      <td>0.000000</td>\n",
              "      <td>0.000000</td>\n",
              "      <td>0.000000</td>\n",
              "      <td>0.000000</td>\n",
              "      <td>0.000000</td>\n",
              "      <td>0.000000</td>\n",
              "      <td>0.000000</td>\n",
              "      <td>0.000000</td>\n",
              "      <td>0.000000</td>\n",
              "      <td>0.000000</td>\n",
              "      <td>0.000000</td>\n",
              "      <td>0.000000</td>\n",
              "      <td>0.000000</td>\n",
              "      <td>0.000000</td>\n",
              "      <td>0.000000</td>\n",
              "      <td>0.000000</td>\n",
              "      <td>...</td>\n",
              "      <td>-922.380000</td>\n",
              "      <td>-476.070000</td>\n",
              "      <td>-287.670000</td>\n",
              "      <td>0.000000</td>\n",
              "      <td>-3401.340000</td>\n",
              "      <td>-1844.520000</td>\n",
              "      <td>0.000000e+00</td>\n",
              "      <td>0.000000</td>\n",
              "      <td>0.000000e+00</td>\n",
              "      <td>0.000000e+00</td>\n",
              "      <td>0.000000</td>\n",
              "      <td>0.000000</td>\n",
              "      <td>0.000000</td>\n",
              "      <td>0.000000</td>\n",
              "      <td>0.000000</td>\n",
              "      <td>0.000000</td>\n",
              "      <td>0.000000e+00</td>\n",
              "      <td>0.000000e+00</td>\n",
              "      <td>0.000000</td>\n",
              "      <td>0.0</td>\n",
              "      <td>0.000000</td>\n",
              "      <td>0.000000</td>\n",
              "      <td>-3.000000e-02</td>\n",
              "      <td>0.000000e+00</td>\n",
              "      <td>0.000000e+00</td>\n",
              "      <td>0.000000e+00</td>\n",
              "      <td>0.000000</td>\n",
              "      <td>0.000000</td>\n",
              "      <td>0.000000</td>\n",
              "      <td>0.000000</td>\n",
              "      <td>0.000000</td>\n",
              "      <td>0.000000</td>\n",
              "      <td>0.000000</td>\n",
              "      <td>0.000000</td>\n",
              "      <td>0.000000</td>\n",
              "      <td>0.000000</td>\n",
              "      <td>0.000000</td>\n",
              "      <td>0.000000</td>\n",
              "      <td>5.163750e+03</td>\n",
              "      <td>0.000000</td>\n",
              "    </tr>\n",
              "    <tr>\n",
              "      <th>25%</th>\n",
              "      <td>38104.750000</td>\n",
              "      <td>2.000000</td>\n",
              "      <td>23.000000</td>\n",
              "      <td>0.000000</td>\n",
              "      <td>0.000000</td>\n",
              "      <td>0.000000</td>\n",
              "      <td>0.000000</td>\n",
              "      <td>0.000000</td>\n",
              "      <td>0.000000</td>\n",
              "      <td>0.000000</td>\n",
              "      <td>0.000000</td>\n",
              "      <td>0.000000</td>\n",
              "      <td>0.000000</td>\n",
              "      <td>0.000000</td>\n",
              "      <td>0.000000</td>\n",
              "      <td>0.000000</td>\n",
              "      <td>0.000000</td>\n",
              "      <td>0.000000</td>\n",
              "      <td>0.000000</td>\n",
              "      <td>0.000000</td>\n",
              "      <td>0.000000</td>\n",
              "      <td>0.000000</td>\n",
              "      <td>0.0</td>\n",
              "      <td>0.0</td>\n",
              "      <td>1.000000</td>\n",
              "      <td>0.000000</td>\n",
              "      <td>0.000000</td>\n",
              "      <td>0.000000</td>\n",
              "      <td>0.000000</td>\n",
              "      <td>0.000000</td>\n",
              "      <td>0.000000</td>\n",
              "      <td>0.000000</td>\n",
              "      <td>0.000000</td>\n",
              "      <td>0.000000</td>\n",
              "      <td>0.000000</td>\n",
              "      <td>0.000000</td>\n",
              "      <td>0.000000</td>\n",
              "      <td>0.000000</td>\n",
              "      <td>0.000000</td>\n",
              "      <td>0.000000</td>\n",
              "      <td>...</td>\n",
              "      <td>0.000000</td>\n",
              "      <td>0.000000</td>\n",
              "      <td>0.000000</td>\n",
              "      <td>0.000000</td>\n",
              "      <td>0.000000</td>\n",
              "      <td>0.000000</td>\n",
              "      <td>0.000000e+00</td>\n",
              "      <td>0.000000</td>\n",
              "      <td>0.000000e+00</td>\n",
              "      <td>0.000000e+00</td>\n",
              "      <td>0.000000</td>\n",
              "      <td>0.000000</td>\n",
              "      <td>0.000000</td>\n",
              "      <td>0.000000</td>\n",
              "      <td>0.000000</td>\n",
              "      <td>0.000000</td>\n",
              "      <td>0.000000e+00</td>\n",
              "      <td>0.000000e+00</td>\n",
              "      <td>0.000000</td>\n",
              "      <td>0.0</td>\n",
              "      <td>0.000000</td>\n",
              "      <td>0.000000</td>\n",
              "      <td>0.000000e+00</td>\n",
              "      <td>0.000000e+00</td>\n",
              "      <td>0.000000e+00</td>\n",
              "      <td>0.000000e+00</td>\n",
              "      <td>0.000000</td>\n",
              "      <td>0.000000</td>\n",
              "      <td>0.000000</td>\n",
              "      <td>0.000000</td>\n",
              "      <td>0.000000</td>\n",
              "      <td>0.000000</td>\n",
              "      <td>0.000000</td>\n",
              "      <td>0.000000</td>\n",
              "      <td>0.000000</td>\n",
              "      <td>0.000000</td>\n",
              "      <td>0.000000</td>\n",
              "      <td>0.000000</td>\n",
              "      <td>6.787061e+04</td>\n",
              "      <td>0.000000</td>\n",
              "    </tr>\n",
              "    <tr>\n",
              "      <th>50%</th>\n",
              "      <td>76043.000000</td>\n",
              "      <td>2.000000</td>\n",
              "      <td>28.000000</td>\n",
              "      <td>0.000000</td>\n",
              "      <td>0.000000</td>\n",
              "      <td>0.000000</td>\n",
              "      <td>0.000000</td>\n",
              "      <td>0.000000</td>\n",
              "      <td>0.000000</td>\n",
              "      <td>0.000000</td>\n",
              "      <td>0.000000</td>\n",
              "      <td>0.000000</td>\n",
              "      <td>0.000000</td>\n",
              "      <td>0.000000</td>\n",
              "      <td>0.000000</td>\n",
              "      <td>0.000000</td>\n",
              "      <td>0.000000</td>\n",
              "      <td>0.000000</td>\n",
              "      <td>0.000000</td>\n",
              "      <td>0.000000</td>\n",
              "      <td>0.000000</td>\n",
              "      <td>0.000000</td>\n",
              "      <td>0.0</td>\n",
              "      <td>0.0</td>\n",
              "      <td>1.000000</td>\n",
              "      <td>1.000000</td>\n",
              "      <td>0.000000</td>\n",
              "      <td>0.000000</td>\n",
              "      <td>0.000000</td>\n",
              "      <td>0.000000</td>\n",
              "      <td>0.000000</td>\n",
              "      <td>0.000000</td>\n",
              "      <td>0.000000</td>\n",
              "      <td>0.000000</td>\n",
              "      <td>0.000000</td>\n",
              "      <td>0.000000</td>\n",
              "      <td>0.000000</td>\n",
              "      <td>0.000000</td>\n",
              "      <td>0.000000</td>\n",
              "      <td>0.000000</td>\n",
              "      <td>...</td>\n",
              "      <td>3.000000</td>\n",
              "      <td>2.730000</td>\n",
              "      <td>0.000000</td>\n",
              "      <td>0.000000</td>\n",
              "      <td>0.000000</td>\n",
              "      <td>0.000000</td>\n",
              "      <td>0.000000e+00</td>\n",
              "      <td>0.000000</td>\n",
              "      <td>0.000000e+00</td>\n",
              "      <td>0.000000e+00</td>\n",
              "      <td>0.000000</td>\n",
              "      <td>0.000000</td>\n",
              "      <td>0.000000</td>\n",
              "      <td>0.000000</td>\n",
              "      <td>0.000000</td>\n",
              "      <td>0.000000</td>\n",
              "      <td>0.000000e+00</td>\n",
              "      <td>0.000000e+00</td>\n",
              "      <td>0.000000</td>\n",
              "      <td>0.0</td>\n",
              "      <td>0.000000</td>\n",
              "      <td>0.000000</td>\n",
              "      <td>0.000000e+00</td>\n",
              "      <td>0.000000e+00</td>\n",
              "      <td>0.000000e+00</td>\n",
              "      <td>0.000000e+00</td>\n",
              "      <td>0.000000</td>\n",
              "      <td>0.000000</td>\n",
              "      <td>0.000000</td>\n",
              "      <td>0.000000</td>\n",
              "      <td>0.000000</td>\n",
              "      <td>0.000000</td>\n",
              "      <td>0.000000</td>\n",
              "      <td>0.000000</td>\n",
              "      <td>0.000000</td>\n",
              "      <td>0.000000</td>\n",
              "      <td>0.000000</td>\n",
              "      <td>0.000000</td>\n",
              "      <td>1.064092e+05</td>\n",
              "      <td>0.000000</td>\n",
              "    </tr>\n",
              "    <tr>\n",
              "      <th>75%</th>\n",
              "      <td>113748.750000</td>\n",
              "      <td>2.000000</td>\n",
              "      <td>40.000000</td>\n",
              "      <td>0.000000</td>\n",
              "      <td>0.000000</td>\n",
              "      <td>0.000000</td>\n",
              "      <td>0.000000</td>\n",
              "      <td>0.000000</td>\n",
              "      <td>0.000000</td>\n",
              "      <td>0.000000</td>\n",
              "      <td>0.000000</td>\n",
              "      <td>0.000000</td>\n",
              "      <td>0.000000</td>\n",
              "      <td>0.000000</td>\n",
              "      <td>0.000000</td>\n",
              "      <td>0.000000</td>\n",
              "      <td>0.000000</td>\n",
              "      <td>0.000000</td>\n",
              "      <td>0.000000</td>\n",
              "      <td>0.000000</td>\n",
              "      <td>0.000000</td>\n",
              "      <td>0.000000</td>\n",
              "      <td>0.0</td>\n",
              "      <td>0.0</td>\n",
              "      <td>1.000000</td>\n",
              "      <td>1.000000</td>\n",
              "      <td>0.000000</td>\n",
              "      <td>0.000000</td>\n",
              "      <td>0.000000</td>\n",
              "      <td>0.000000</td>\n",
              "      <td>0.000000</td>\n",
              "      <td>0.000000</td>\n",
              "      <td>0.000000</td>\n",
              "      <td>0.000000</td>\n",
              "      <td>0.000000</td>\n",
              "      <td>0.000000</td>\n",
              "      <td>0.000000</td>\n",
              "      <td>0.000000</td>\n",
              "      <td>0.000000</td>\n",
              "      <td>0.000000</td>\n",
              "      <td>...</td>\n",
              "      <td>90.000000</td>\n",
              "      <td>83.790000</td>\n",
              "      <td>0.000000</td>\n",
              "      <td>0.000000</td>\n",
              "      <td>0.000000</td>\n",
              "      <td>0.000000</td>\n",
              "      <td>0.000000e+00</td>\n",
              "      <td>0.000000</td>\n",
              "      <td>0.000000e+00</td>\n",
              "      <td>0.000000e+00</td>\n",
              "      <td>0.000000</td>\n",
              "      <td>0.000000</td>\n",
              "      <td>0.000000</td>\n",
              "      <td>0.000000</td>\n",
              "      <td>0.000000</td>\n",
              "      <td>0.000000</td>\n",
              "      <td>0.000000e+00</td>\n",
              "      <td>0.000000e+00</td>\n",
              "      <td>0.000000</td>\n",
              "      <td>0.0</td>\n",
              "      <td>0.000000</td>\n",
              "      <td>0.000000</td>\n",
              "      <td>0.000000e+00</td>\n",
              "      <td>0.000000e+00</td>\n",
              "      <td>0.000000e+00</td>\n",
              "      <td>0.000000e+00</td>\n",
              "      <td>0.000000</td>\n",
              "      <td>0.000000</td>\n",
              "      <td>0.000000</td>\n",
              "      <td>0.000000</td>\n",
              "      <td>0.000000</td>\n",
              "      <td>0.000000</td>\n",
              "      <td>0.000000</td>\n",
              "      <td>0.000000</td>\n",
              "      <td>0.000000</td>\n",
              "      <td>0.000000</td>\n",
              "      <td>0.000000</td>\n",
              "      <td>0.000000</td>\n",
              "      <td>1.187563e+05</td>\n",
              "      <td>0.000000</td>\n",
              "    </tr>\n",
              "    <tr>\n",
              "      <th>max</th>\n",
              "      <td>151838.000000</td>\n",
              "      <td>238.000000</td>\n",
              "      <td>105.000000</td>\n",
              "      <td>210000.000000</td>\n",
              "      <td>12888.030000</td>\n",
              "      <td>21024.810000</td>\n",
              "      <td>8237.820000</td>\n",
              "      <td>11073.570000</td>\n",
              "      <td>6600.000000</td>\n",
              "      <td>6600.000000</td>\n",
              "      <td>8237.820000</td>\n",
              "      <td>12888.030000</td>\n",
              "      <td>16566.810000</td>\n",
              "      <td>45990.000000</td>\n",
              "      <td>131100.000000</td>\n",
              "      <td>47598.090000</td>\n",
              "      <td>45990.000000</td>\n",
              "      <td>131100.000000</td>\n",
              "      <td>47598.090000</td>\n",
              "      <td>105000.000000</td>\n",
              "      <td>1.000000</td>\n",
              "      <td>1.000000</td>\n",
              "      <td>0.0</td>\n",
              "      <td>0.0</td>\n",
              "      <td>1.000000</td>\n",
              "      <td>1.000000</td>\n",
              "      <td>1.000000</td>\n",
              "      <td>1.000000</td>\n",
              "      <td>1.000000</td>\n",
              "      <td>1.000000</td>\n",
              "      <td>1.000000</td>\n",
              "      <td>1.000000</td>\n",
              "      <td>1.000000</td>\n",
              "      <td>1.000000</td>\n",
              "      <td>1.000000</td>\n",
              "      <td>1.000000</td>\n",
              "      <td>1.000000</td>\n",
              "      <td>1.000000</td>\n",
              "      <td>1.000000</td>\n",
              "      <td>1.000000</td>\n",
              "      <td>...</td>\n",
              "      <td>601428.600000</td>\n",
              "      <td>544365.570000</td>\n",
              "      <td>231351.990000</td>\n",
              "      <td>77586.210000</td>\n",
              "      <td>228031.800000</td>\n",
              "      <td>177582.000000</td>\n",
              "      <td>3.000538e+06</td>\n",
              "      <td>668335.320000</td>\n",
              "      <td>3.004186e+06</td>\n",
              "      <td>2.272859e+06</td>\n",
              "      <td>450000.000000</td>\n",
              "      <td>304838.700000</td>\n",
              "      <td>450000.000000</td>\n",
              "      <td>450000.000000</td>\n",
              "      <td>840000.000000</td>\n",
              "      <td>534000.000000</td>\n",
              "      <td>1.500000e+06</td>\n",
              "      <td>1.034483e+06</td>\n",
              "      <td>7741.950000</td>\n",
              "      <td>0.0</td>\n",
              "      <td>30000.000000</td>\n",
              "      <td>18870.990000</td>\n",
              "      <td>4.210084e+06</td>\n",
              "      <td>2.368559e+06</td>\n",
              "      <td>3.998687e+06</td>\n",
              "      <td>3.525777e+06</td>\n",
              "      <td>10430.010000</td>\n",
              "      <td>145.200000</td>\n",
              "      <td>13793.670000</td>\n",
              "      <td>7331.340000</td>\n",
              "      <td>50003.880000</td>\n",
              "      <td>20385.720000</td>\n",
              "      <td>138831.630000</td>\n",
              "      <td>91778.730000</td>\n",
              "      <td>438329.220000</td>\n",
              "      <td>24650.010000</td>\n",
              "      <td>681462.900000</td>\n",
              "      <td>397884.300000</td>\n",
              "      <td>2.203474e+07</td>\n",
              "      <td>1.000000</td>\n",
              "    </tr>\n",
              "  </tbody>\n",
              "</table>\n",
              "<p>8 rows × 371 columns</p>\n",
              "</div>"
            ],
            "text/plain": [
              "                  ID           var3  ...         var38        TARGET\n",
              "count   76020.000000   76020.000000  ...  7.602000e+04  76020.000000\n",
              "mean    75964.050723   -1523.199277  ...  1.172358e+05      0.039569\n",
              "std     43781.947379   39033.462364  ...  1.826646e+05      0.194945\n",
              "min         1.000000 -999999.000000  ...  5.163750e+03      0.000000\n",
              "25%     38104.750000       2.000000  ...  6.787061e+04      0.000000\n",
              "50%     76043.000000       2.000000  ...  1.064092e+05      0.000000\n",
              "75%    113748.750000       2.000000  ...  1.187563e+05      0.000000\n",
              "max    151838.000000     238.000000  ...  2.203474e+07      1.000000\n",
              "\n",
              "[8 rows x 371 columns]"
            ]
          },
          "metadata": {
            "tags": []
          },
          "execution_count": 9
        }
      ]
    },
    {
      "cell_type": "markdown",
      "metadata": {
        "id": "tzR9c3DfJhX0",
        "colab_type": "text"
      },
      "source": [
        "### Balance check"
      ]
    },
    {
      "cell_type": "code",
      "metadata": {
        "id": "W8LzZ0vOJhX2",
        "colab_type": "code",
        "outputId": "e4c329ae-aec1-48a8-c588-541749bc640b",
        "colab": {
          "base_uri": "https://localhost:8080/",
          "height": 112
        }
      },
      "source": [
        "#Checking if the dataset is balanced or unbalanced\n",
        "BalanceCheck = pd.DataFrame(df[\"TARGET\"].value_counts())\n",
        "BalanceCheck['Percentage'] = 100*BalanceCheck[\"TARGET\"]/df.shape[0]\n",
        "BalanceCheck"
      ],
      "execution_count": 10,
      "outputs": [
        {
          "output_type": "execute_result",
          "data": {
            "text/html": [
              "<div>\n",
              "<style scoped>\n",
              "    .dataframe tbody tr th:only-of-type {\n",
              "        vertical-align: middle;\n",
              "    }\n",
              "\n",
              "    .dataframe tbody tr th {\n",
              "        vertical-align: top;\n",
              "    }\n",
              "\n",
              "    .dataframe thead th {\n",
              "        text-align: right;\n",
              "    }\n",
              "</style>\n",
              "<table border=\"1\" class=\"dataframe\">\n",
              "  <thead>\n",
              "    <tr style=\"text-align: right;\">\n",
              "      <th></th>\n",
              "      <th>TARGET</th>\n",
              "      <th>Percentage</th>\n",
              "    </tr>\n",
              "  </thead>\n",
              "  <tbody>\n",
              "    <tr>\n",
              "      <th>0</th>\n",
              "      <td>73012</td>\n",
              "      <td>96.043147</td>\n",
              "    </tr>\n",
              "    <tr>\n",
              "      <th>1</th>\n",
              "      <td>3008</td>\n",
              "      <td>3.956853</td>\n",
              "    </tr>\n",
              "  </tbody>\n",
              "</table>\n",
              "</div>"
            ],
            "text/plain": [
              "   TARGET  Percentage\n",
              "0   73012   96.043147\n",
              "1    3008    3.956853"
            ]
          },
          "metadata": {
            "tags": []
          },
          "execution_count": 10
        }
      ]
    },
    {
      "cell_type": "markdown",
      "metadata": {
        "id": "W1KHa4a-JhX7",
        "colab_type": "text"
      },
      "source": [
        "### Checking the value counts for top 15 values"
      ]
    },
    {
      "cell_type": "code",
      "metadata": {
        "id": "xzRljQw8JhX9",
        "colab_type": "code",
        "outputId": "287db5cf-7f28-44c1-d34b-9a528af6802b",
        "colab": {
          "base_uri": "https://localhost:8080/",
          "height": 303
        }
      },
      "source": [
        "df[\"var3\"].value_counts()[:15]"
      ],
      "execution_count": 11,
      "outputs": [
        {
          "output_type": "execute_result",
          "data": {
            "text/plain": [
              " 2         74165\n",
              " 8           138\n",
              "-999999      116\n",
              " 9           110\n",
              " 3           108\n",
              " 1           105\n",
              " 13           98\n",
              " 7            97\n",
              " 4            86\n",
              " 12           85\n",
              " 6            82\n",
              " 0            75\n",
              " 10           72\n",
              " 11           66\n",
              " 5            63\n",
              "Name: var3, dtype: int64"
            ]
          },
          "metadata": {
            "tags": []
          },
          "execution_count": 11
        }
      ]
    },
    {
      "cell_type": "markdown",
      "metadata": {
        "id": "58olLWynJhYC",
        "colab_type": "text"
      },
      "source": [
        "### Replacing the -999999 with most common occurance value - 2"
      ]
    },
    {
      "cell_type": "code",
      "metadata": {
        "id": "e8nCRLGUJhYF",
        "colab_type": "code",
        "colab": {}
      },
      "source": [
        "df[\"var3\"] = df[\"var3\"].replace(-999999,2)"
      ],
      "execution_count": 0,
      "outputs": []
    },
    {
      "cell_type": "code",
      "metadata": {
        "id": "4BBAZN0ZJhYK",
        "colab_type": "code",
        "outputId": "7c6ab23f-c12b-4b2c-d989-5e90f551f39a",
        "colab": {
          "base_uri": "https://localhost:8080/",
          "height": 256
        }
      },
      "source": [
        "df.head(5)"
      ],
      "execution_count": 13,
      "outputs": [
        {
          "output_type": "execute_result",
          "data": {
            "text/html": [
              "<div>\n",
              "<style scoped>\n",
              "    .dataframe tbody tr th:only-of-type {\n",
              "        vertical-align: middle;\n",
              "    }\n",
              "\n",
              "    .dataframe tbody tr th {\n",
              "        vertical-align: top;\n",
              "    }\n",
              "\n",
              "    .dataframe thead th {\n",
              "        text-align: right;\n",
              "    }\n",
              "</style>\n",
              "<table border=\"1\" class=\"dataframe\">\n",
              "  <thead>\n",
              "    <tr style=\"text-align: right;\">\n",
              "      <th></th>\n",
              "      <th>ID</th>\n",
              "      <th>var3</th>\n",
              "      <th>var15</th>\n",
              "      <th>imp_ent_var16_ult1</th>\n",
              "      <th>imp_op_var39_comer_ult1</th>\n",
              "      <th>imp_op_var39_comer_ult3</th>\n",
              "      <th>imp_op_var40_comer_ult1</th>\n",
              "      <th>imp_op_var40_comer_ult3</th>\n",
              "      <th>imp_op_var40_efect_ult1</th>\n",
              "      <th>imp_op_var40_efect_ult3</th>\n",
              "      <th>imp_op_var40_ult1</th>\n",
              "      <th>imp_op_var41_comer_ult1</th>\n",
              "      <th>imp_op_var41_comer_ult3</th>\n",
              "      <th>imp_op_var41_efect_ult1</th>\n",
              "      <th>imp_op_var41_efect_ult3</th>\n",
              "      <th>imp_op_var41_ult1</th>\n",
              "      <th>imp_op_var39_efect_ult1</th>\n",
              "      <th>imp_op_var39_efect_ult3</th>\n",
              "      <th>imp_op_var39_ult1</th>\n",
              "      <th>imp_sal_var16_ult1</th>\n",
              "      <th>ind_var1_0</th>\n",
              "      <th>ind_var1</th>\n",
              "      <th>ind_var2_0</th>\n",
              "      <th>ind_var2</th>\n",
              "      <th>ind_var5_0</th>\n",
              "      <th>ind_var5</th>\n",
              "      <th>ind_var6_0</th>\n",
              "      <th>ind_var6</th>\n",
              "      <th>ind_var8_0</th>\n",
              "      <th>ind_var8</th>\n",
              "      <th>ind_var12_0</th>\n",
              "      <th>ind_var12</th>\n",
              "      <th>ind_var13_0</th>\n",
              "      <th>ind_var13_corto_0</th>\n",
              "      <th>ind_var13_corto</th>\n",
              "      <th>ind_var13_largo_0</th>\n",
              "      <th>ind_var13_largo</th>\n",
              "      <th>ind_var13_medio_0</th>\n",
              "      <th>ind_var13_medio</th>\n",
              "      <th>ind_var13</th>\n",
              "      <th>...</th>\n",
              "      <th>saldo_medio_var5_ult1</th>\n",
              "      <th>saldo_medio_var5_ult3</th>\n",
              "      <th>saldo_medio_var8_hace2</th>\n",
              "      <th>saldo_medio_var8_hace3</th>\n",
              "      <th>saldo_medio_var8_ult1</th>\n",
              "      <th>saldo_medio_var8_ult3</th>\n",
              "      <th>saldo_medio_var12_hace2</th>\n",
              "      <th>saldo_medio_var12_hace3</th>\n",
              "      <th>saldo_medio_var12_ult1</th>\n",
              "      <th>saldo_medio_var12_ult3</th>\n",
              "      <th>saldo_medio_var13_corto_hace2</th>\n",
              "      <th>saldo_medio_var13_corto_hace3</th>\n",
              "      <th>saldo_medio_var13_corto_ult1</th>\n",
              "      <th>saldo_medio_var13_corto_ult3</th>\n",
              "      <th>saldo_medio_var13_largo_hace2</th>\n",
              "      <th>saldo_medio_var13_largo_hace3</th>\n",
              "      <th>saldo_medio_var13_largo_ult1</th>\n",
              "      <th>saldo_medio_var13_largo_ult3</th>\n",
              "      <th>saldo_medio_var13_medio_hace2</th>\n",
              "      <th>saldo_medio_var13_medio_hace3</th>\n",
              "      <th>saldo_medio_var13_medio_ult1</th>\n",
              "      <th>saldo_medio_var13_medio_ult3</th>\n",
              "      <th>saldo_medio_var17_hace2</th>\n",
              "      <th>saldo_medio_var17_hace3</th>\n",
              "      <th>saldo_medio_var17_ult1</th>\n",
              "      <th>saldo_medio_var17_ult3</th>\n",
              "      <th>saldo_medio_var29_hace2</th>\n",
              "      <th>saldo_medio_var29_hace3</th>\n",
              "      <th>saldo_medio_var29_ult1</th>\n",
              "      <th>saldo_medio_var29_ult3</th>\n",
              "      <th>saldo_medio_var33_hace2</th>\n",
              "      <th>saldo_medio_var33_hace3</th>\n",
              "      <th>saldo_medio_var33_ult1</th>\n",
              "      <th>saldo_medio_var33_ult3</th>\n",
              "      <th>saldo_medio_var44_hace2</th>\n",
              "      <th>saldo_medio_var44_hace3</th>\n",
              "      <th>saldo_medio_var44_ult1</th>\n",
              "      <th>saldo_medio_var44_ult3</th>\n",
              "      <th>var38</th>\n",
              "      <th>TARGET</th>\n",
              "    </tr>\n",
              "  </thead>\n",
              "  <tbody>\n",
              "    <tr>\n",
              "      <th>0</th>\n",
              "      <td>1</td>\n",
              "      <td>2</td>\n",
              "      <td>23</td>\n",
              "      <td>0.0</td>\n",
              "      <td>0.0</td>\n",
              "      <td>0.0</td>\n",
              "      <td>0.0</td>\n",
              "      <td>0.0</td>\n",
              "      <td>0.0</td>\n",
              "      <td>0.0</td>\n",
              "      <td>0.0</td>\n",
              "      <td>0.0</td>\n",
              "      <td>0.0</td>\n",
              "      <td>0.0</td>\n",
              "      <td>0.0</td>\n",
              "      <td>0.0</td>\n",
              "      <td>0.0</td>\n",
              "      <td>0.0</td>\n",
              "      <td>0.0</td>\n",
              "      <td>0.0</td>\n",
              "      <td>0</td>\n",
              "      <td>0</td>\n",
              "      <td>0</td>\n",
              "      <td>0</td>\n",
              "      <td>1</td>\n",
              "      <td>0</td>\n",
              "      <td>0</td>\n",
              "      <td>0</td>\n",
              "      <td>0</td>\n",
              "      <td>0</td>\n",
              "      <td>0</td>\n",
              "      <td>0</td>\n",
              "      <td>0</td>\n",
              "      <td>0</td>\n",
              "      <td>0</td>\n",
              "      <td>0</td>\n",
              "      <td>0</td>\n",
              "      <td>0</td>\n",
              "      <td>0</td>\n",
              "      <td>0</td>\n",
              "      <td>...</td>\n",
              "      <td>0.00</td>\n",
              "      <td>0.00</td>\n",
              "      <td>0.0</td>\n",
              "      <td>0.0</td>\n",
              "      <td>0.0</td>\n",
              "      <td>0.0</td>\n",
              "      <td>0.0</td>\n",
              "      <td>0.0</td>\n",
              "      <td>0.00</td>\n",
              "      <td>0.00</td>\n",
              "      <td>0.0</td>\n",
              "      <td>0.00</td>\n",
              "      <td>0.0</td>\n",
              "      <td>0.00</td>\n",
              "      <td>0.0</td>\n",
              "      <td>0.0</td>\n",
              "      <td>0.0</td>\n",
              "      <td>0.0</td>\n",
              "      <td>0.0</td>\n",
              "      <td>0</td>\n",
              "      <td>0</td>\n",
              "      <td>0.0</td>\n",
              "      <td>0.0</td>\n",
              "      <td>0.0</td>\n",
              "      <td>0.0</td>\n",
              "      <td>0.0</td>\n",
              "      <td>0.0</td>\n",
              "      <td>0.0</td>\n",
              "      <td>0.0</td>\n",
              "      <td>0.0</td>\n",
              "      <td>0.0</td>\n",
              "      <td>0.0</td>\n",
              "      <td>0.0</td>\n",
              "      <td>0.0</td>\n",
              "      <td>0.0</td>\n",
              "      <td>0.0</td>\n",
              "      <td>0.0</td>\n",
              "      <td>0.0</td>\n",
              "      <td>39205.170000</td>\n",
              "      <td>0</td>\n",
              "    </tr>\n",
              "    <tr>\n",
              "      <th>1</th>\n",
              "      <td>3</td>\n",
              "      <td>2</td>\n",
              "      <td>34</td>\n",
              "      <td>0.0</td>\n",
              "      <td>0.0</td>\n",
              "      <td>0.0</td>\n",
              "      <td>0.0</td>\n",
              "      <td>0.0</td>\n",
              "      <td>0.0</td>\n",
              "      <td>0.0</td>\n",
              "      <td>0.0</td>\n",
              "      <td>0.0</td>\n",
              "      <td>0.0</td>\n",
              "      <td>0.0</td>\n",
              "      <td>0.0</td>\n",
              "      <td>0.0</td>\n",
              "      <td>0.0</td>\n",
              "      <td>0.0</td>\n",
              "      <td>0.0</td>\n",
              "      <td>0.0</td>\n",
              "      <td>0</td>\n",
              "      <td>0</td>\n",
              "      <td>0</td>\n",
              "      <td>0</td>\n",
              "      <td>1</td>\n",
              "      <td>0</td>\n",
              "      <td>0</td>\n",
              "      <td>0</td>\n",
              "      <td>0</td>\n",
              "      <td>0</td>\n",
              "      <td>0</td>\n",
              "      <td>0</td>\n",
              "      <td>1</td>\n",
              "      <td>1</td>\n",
              "      <td>1</td>\n",
              "      <td>0</td>\n",
              "      <td>0</td>\n",
              "      <td>0</td>\n",
              "      <td>0</td>\n",
              "      <td>1</td>\n",
              "      <td>...</td>\n",
              "      <td>0.00</td>\n",
              "      <td>0.00</td>\n",
              "      <td>0.0</td>\n",
              "      <td>0.0</td>\n",
              "      <td>0.0</td>\n",
              "      <td>0.0</td>\n",
              "      <td>0.0</td>\n",
              "      <td>0.0</td>\n",
              "      <td>0.00</td>\n",
              "      <td>0.00</td>\n",
              "      <td>300.0</td>\n",
              "      <td>122.22</td>\n",
              "      <td>300.0</td>\n",
              "      <td>240.75</td>\n",
              "      <td>0.0</td>\n",
              "      <td>0.0</td>\n",
              "      <td>0.0</td>\n",
              "      <td>0.0</td>\n",
              "      <td>0.0</td>\n",
              "      <td>0</td>\n",
              "      <td>0</td>\n",
              "      <td>0.0</td>\n",
              "      <td>0.0</td>\n",
              "      <td>0.0</td>\n",
              "      <td>0.0</td>\n",
              "      <td>0.0</td>\n",
              "      <td>0.0</td>\n",
              "      <td>0.0</td>\n",
              "      <td>0.0</td>\n",
              "      <td>0.0</td>\n",
              "      <td>0.0</td>\n",
              "      <td>0.0</td>\n",
              "      <td>0.0</td>\n",
              "      <td>0.0</td>\n",
              "      <td>0.0</td>\n",
              "      <td>0.0</td>\n",
              "      <td>0.0</td>\n",
              "      <td>0.0</td>\n",
              "      <td>49278.030000</td>\n",
              "      <td>0</td>\n",
              "    </tr>\n",
              "    <tr>\n",
              "      <th>2</th>\n",
              "      <td>4</td>\n",
              "      <td>2</td>\n",
              "      <td>23</td>\n",
              "      <td>0.0</td>\n",
              "      <td>0.0</td>\n",
              "      <td>0.0</td>\n",
              "      <td>0.0</td>\n",
              "      <td>0.0</td>\n",
              "      <td>0.0</td>\n",
              "      <td>0.0</td>\n",
              "      <td>0.0</td>\n",
              "      <td>0.0</td>\n",
              "      <td>0.0</td>\n",
              "      <td>0.0</td>\n",
              "      <td>0.0</td>\n",
              "      <td>0.0</td>\n",
              "      <td>0.0</td>\n",
              "      <td>0.0</td>\n",
              "      <td>0.0</td>\n",
              "      <td>0.0</td>\n",
              "      <td>0</td>\n",
              "      <td>0</td>\n",
              "      <td>0</td>\n",
              "      <td>0</td>\n",
              "      <td>1</td>\n",
              "      <td>1</td>\n",
              "      <td>0</td>\n",
              "      <td>0</td>\n",
              "      <td>0</td>\n",
              "      <td>0</td>\n",
              "      <td>0</td>\n",
              "      <td>0</td>\n",
              "      <td>0</td>\n",
              "      <td>0</td>\n",
              "      <td>0</td>\n",
              "      <td>0</td>\n",
              "      <td>0</td>\n",
              "      <td>0</td>\n",
              "      <td>0</td>\n",
              "      <td>0</td>\n",
              "      <td>...</td>\n",
              "      <td>3.00</td>\n",
              "      <td>2.07</td>\n",
              "      <td>0.0</td>\n",
              "      <td>0.0</td>\n",
              "      <td>0.0</td>\n",
              "      <td>0.0</td>\n",
              "      <td>0.0</td>\n",
              "      <td>0.0</td>\n",
              "      <td>0.00</td>\n",
              "      <td>0.00</td>\n",
              "      <td>0.0</td>\n",
              "      <td>0.00</td>\n",
              "      <td>0.0</td>\n",
              "      <td>0.00</td>\n",
              "      <td>0.0</td>\n",
              "      <td>0.0</td>\n",
              "      <td>0.0</td>\n",
              "      <td>0.0</td>\n",
              "      <td>0.0</td>\n",
              "      <td>0</td>\n",
              "      <td>0</td>\n",
              "      <td>0.0</td>\n",
              "      <td>0.0</td>\n",
              "      <td>0.0</td>\n",
              "      <td>0.0</td>\n",
              "      <td>0.0</td>\n",
              "      <td>0.0</td>\n",
              "      <td>0.0</td>\n",
              "      <td>0.0</td>\n",
              "      <td>0.0</td>\n",
              "      <td>0.0</td>\n",
              "      <td>0.0</td>\n",
              "      <td>0.0</td>\n",
              "      <td>0.0</td>\n",
              "      <td>0.0</td>\n",
              "      <td>0.0</td>\n",
              "      <td>0.0</td>\n",
              "      <td>0.0</td>\n",
              "      <td>67333.770000</td>\n",
              "      <td>0</td>\n",
              "    </tr>\n",
              "    <tr>\n",
              "      <th>3</th>\n",
              "      <td>8</td>\n",
              "      <td>2</td>\n",
              "      <td>37</td>\n",
              "      <td>0.0</td>\n",
              "      <td>195.0</td>\n",
              "      <td>195.0</td>\n",
              "      <td>0.0</td>\n",
              "      <td>0.0</td>\n",
              "      <td>0.0</td>\n",
              "      <td>0.0</td>\n",
              "      <td>0.0</td>\n",
              "      <td>195.0</td>\n",
              "      <td>195.0</td>\n",
              "      <td>0.0</td>\n",
              "      <td>0.0</td>\n",
              "      <td>195.0</td>\n",
              "      <td>0.0</td>\n",
              "      <td>0.0</td>\n",
              "      <td>195.0</td>\n",
              "      <td>0.0</td>\n",
              "      <td>0</td>\n",
              "      <td>0</td>\n",
              "      <td>0</td>\n",
              "      <td>0</td>\n",
              "      <td>1</td>\n",
              "      <td>1</td>\n",
              "      <td>0</td>\n",
              "      <td>0</td>\n",
              "      <td>0</td>\n",
              "      <td>0</td>\n",
              "      <td>0</td>\n",
              "      <td>0</td>\n",
              "      <td>0</td>\n",
              "      <td>0</td>\n",
              "      <td>0</td>\n",
              "      <td>0</td>\n",
              "      <td>0</td>\n",
              "      <td>0</td>\n",
              "      <td>0</td>\n",
              "      <td>0</td>\n",
              "      <td>...</td>\n",
              "      <td>91.56</td>\n",
              "      <td>138.84</td>\n",
              "      <td>0.0</td>\n",
              "      <td>0.0</td>\n",
              "      <td>0.0</td>\n",
              "      <td>0.0</td>\n",
              "      <td>0.0</td>\n",
              "      <td>0.0</td>\n",
              "      <td>0.00</td>\n",
              "      <td>0.00</td>\n",
              "      <td>0.0</td>\n",
              "      <td>0.00</td>\n",
              "      <td>0.0</td>\n",
              "      <td>0.00</td>\n",
              "      <td>0.0</td>\n",
              "      <td>0.0</td>\n",
              "      <td>0.0</td>\n",
              "      <td>0.0</td>\n",
              "      <td>0.0</td>\n",
              "      <td>0</td>\n",
              "      <td>0</td>\n",
              "      <td>0.0</td>\n",
              "      <td>0.0</td>\n",
              "      <td>0.0</td>\n",
              "      <td>0.0</td>\n",
              "      <td>0.0</td>\n",
              "      <td>0.0</td>\n",
              "      <td>0.0</td>\n",
              "      <td>0.0</td>\n",
              "      <td>0.0</td>\n",
              "      <td>0.0</td>\n",
              "      <td>0.0</td>\n",
              "      <td>0.0</td>\n",
              "      <td>0.0</td>\n",
              "      <td>0.0</td>\n",
              "      <td>0.0</td>\n",
              "      <td>0.0</td>\n",
              "      <td>0.0</td>\n",
              "      <td>64007.970000</td>\n",
              "      <td>0</td>\n",
              "    </tr>\n",
              "    <tr>\n",
              "      <th>4</th>\n",
              "      <td>10</td>\n",
              "      <td>2</td>\n",
              "      <td>39</td>\n",
              "      <td>0.0</td>\n",
              "      <td>0.0</td>\n",
              "      <td>0.0</td>\n",
              "      <td>0.0</td>\n",
              "      <td>0.0</td>\n",
              "      <td>0.0</td>\n",
              "      <td>0.0</td>\n",
              "      <td>0.0</td>\n",
              "      <td>0.0</td>\n",
              "      <td>0.0</td>\n",
              "      <td>0.0</td>\n",
              "      <td>0.0</td>\n",
              "      <td>0.0</td>\n",
              "      <td>0.0</td>\n",
              "      <td>0.0</td>\n",
              "      <td>0.0</td>\n",
              "      <td>0.0</td>\n",
              "      <td>0</td>\n",
              "      <td>0</td>\n",
              "      <td>0</td>\n",
              "      <td>0</td>\n",
              "      <td>1</td>\n",
              "      <td>0</td>\n",
              "      <td>0</td>\n",
              "      <td>0</td>\n",
              "      <td>0</td>\n",
              "      <td>0</td>\n",
              "      <td>1</td>\n",
              "      <td>1</td>\n",
              "      <td>0</td>\n",
              "      <td>0</td>\n",
              "      <td>0</td>\n",
              "      <td>0</td>\n",
              "      <td>0</td>\n",
              "      <td>0</td>\n",
              "      <td>0</td>\n",
              "      <td>0</td>\n",
              "      <td>...</td>\n",
              "      <td>40501.08</td>\n",
              "      <td>13501.47</td>\n",
              "      <td>0.0</td>\n",
              "      <td>0.0</td>\n",
              "      <td>0.0</td>\n",
              "      <td>0.0</td>\n",
              "      <td>0.0</td>\n",
              "      <td>0.0</td>\n",
              "      <td>85501.89</td>\n",
              "      <td>85501.89</td>\n",
              "      <td>0.0</td>\n",
              "      <td>0.00</td>\n",
              "      <td>0.0</td>\n",
              "      <td>0.00</td>\n",
              "      <td>0.0</td>\n",
              "      <td>0.0</td>\n",
              "      <td>0.0</td>\n",
              "      <td>0.0</td>\n",
              "      <td>0.0</td>\n",
              "      <td>0</td>\n",
              "      <td>0</td>\n",
              "      <td>0.0</td>\n",
              "      <td>0.0</td>\n",
              "      <td>0.0</td>\n",
              "      <td>0.0</td>\n",
              "      <td>0.0</td>\n",
              "      <td>0.0</td>\n",
              "      <td>0.0</td>\n",
              "      <td>0.0</td>\n",
              "      <td>0.0</td>\n",
              "      <td>0.0</td>\n",
              "      <td>0.0</td>\n",
              "      <td>0.0</td>\n",
              "      <td>0.0</td>\n",
              "      <td>0.0</td>\n",
              "      <td>0.0</td>\n",
              "      <td>0.0</td>\n",
              "      <td>0.0</td>\n",
              "      <td>117310.979016</td>\n",
              "      <td>0</td>\n",
              "    </tr>\n",
              "  </tbody>\n",
              "</table>\n",
              "<p>5 rows × 371 columns</p>\n",
              "</div>"
            ],
            "text/plain": [
              "   ID  var3  var15  ...  saldo_medio_var44_ult3          var38  TARGET\n",
              "0   1     2     23  ...                     0.0   39205.170000       0\n",
              "1   3     2     34  ...                     0.0   49278.030000       0\n",
              "2   4     2     23  ...                     0.0   67333.770000       0\n",
              "3   8     2     37  ...                     0.0   64007.970000       0\n",
              "4  10     2     39  ...                     0.0  117310.979016       0\n",
              "\n",
              "[5 rows x 371 columns]"
            ]
          },
          "metadata": {
            "tags": []
          },
          "execution_count": 13
        }
      ]
    },
    {
      "cell_type": "markdown",
      "metadata": {
        "id": "o6eD7yTPJhYP",
        "colab_type": "text"
      },
      "source": [
        "### Define the independent and dependent variables"
      ]
    },
    {
      "cell_type": "code",
      "metadata": {
        "id": "bntf4FzLJhYQ",
        "colab_type": "code",
        "colab": {}
      },
      "source": [
        "X = df.drop([\"TARGET\",\"ID\"],axis=1)\n",
        "y = df[\"TARGET\"]"
      ],
      "execution_count": 0,
      "outputs": []
    },
    {
      "cell_type": "markdown",
      "metadata": {
        "id": "WX1DOUgbJhYU",
        "colab_type": "text"
      },
      "source": [
        "# SECTION 2 - MACHINE LEARNING - UNBALANCED DATASET"
      ]
    },
    {
      "cell_type": "markdown",
      "metadata": {
        "id": "F05hxiPAJhYX",
        "colab_type": "text"
      },
      "source": [
        "### Train Test Split"
      ]
    },
    {
      "cell_type": "code",
      "metadata": {
        "id": "x5-G0xKLJhYY",
        "colab_type": "code",
        "outputId": "e2e671fa-85dd-41e9-c3f8-7d8a0bf0bf7a",
        "colab": {
          "base_uri": "https://localhost:8080/",
          "height": 53
        }
      },
      "source": [
        "from sklearn.model_selection import train_test_split\n",
        "X_train, X_test, y_train, y_test = train_test_split( X, y, test_size = 0.2, random_state = 42)\n",
        "print ('Train set:', X_train.shape,  y_train.shape)\n",
        "print ('Test set:', X_test.shape,  y_test.shape)"
      ],
      "execution_count": 15,
      "outputs": [
        {
          "output_type": "stream",
          "text": [
            "Train set: (60816, 369) (60816,)\n",
            "Test set: (15204, 369) (15204,)\n"
          ],
          "name": "stdout"
        }
      ]
    },
    {
      "cell_type": "markdown",
      "metadata": {
        "id": "KnSKbdmjJhYe",
        "colab_type": "text"
      },
      "source": [
        "### Scale the data"
      ]
    },
    {
      "cell_type": "code",
      "metadata": {
        "id": "HwuBDIBoJhYf",
        "colab_type": "code",
        "colab": {}
      },
      "source": [
        "sdc = StandardScaler()\n",
        "X_train = sdc.fit_transform(X_train)\n",
        "X_test = sdc.transform(X_test)"
      ],
      "execution_count": 0,
      "outputs": []
    },
    {
      "cell_type": "markdown",
      "metadata": {
        "id": "wAq5FIxjJhYk",
        "colab_type": "text"
      },
      "source": [
        "### Random Forest Classifier"
      ]
    },
    {
      "cell_type": "code",
      "metadata": {
        "id": "BPfYN7vJJhYm",
        "colab_type": "code",
        "outputId": "94eb46ee-e638-409d-95e4-4d8958500343",
        "colab": {
          "base_uri": "https://localhost:8080/",
          "height": 446
        }
      },
      "source": [
        "# Fit and Predict\n",
        "rf = RandomForestClassifier()\n",
        "rf.fit(X_train, y_train)\n",
        "rf_pred=rf.predict(X_test)\n",
        "\n",
        "# Probability Prediction and ROC parameters\n",
        "rf_pred_proba = rf.predict_proba(X_test)[:, 1]\n",
        "[fpr_rf, tpr_rf, thr_rf] = roc_curve(y_test, rf_pred_proba)\n",
        "\n",
        "# Metrics for evaluation\n",
        "rf_accuracy_score = accuracy_score(y_test, rf_pred)\n",
        "rf_log_loss = log_loss(y_test,rf_pred_proba)\n",
        "rf_auc = auc(fpr_rf, tpr_rf)\n",
        "rf_confusion_matrix = confusion_matrix(y_test,rf_pred )\n",
        "rf_classification_report = classification_report(y_test, rf_pred)\n",
        "\n",
        "# Results\n",
        "print('Random Forest Results:\\n')\n",
        "print(\" Accuracy Score\" ,rf_accuracy_score*100)\n",
        "print(\" Log_loss\", rf_log_loss )\n",
        "print(\" ROC AUC\" ,rf_auc )\n",
        "print(\"\\n Confusion Matrix \\n\\n\" ,rf_confusion_matrix)\n",
        "print(\"\\n Classification Report \\n\\n \" ,rf_classification_report)"
      ],
      "execution_count": 17,
      "outputs": [
        {
          "output_type": "stream",
          "text": [
            "/usr/local/lib/python3.6/dist-packages/sklearn/ensemble/forest.py:245: FutureWarning: The default value of n_estimators will change from 10 in version 0.20 to 100 in 0.22.\n",
            "  \"10 in version 0.20 to 100 in 0.22.\", FutureWarning)\n"
          ],
          "name": "stderr"
        },
        {
          "output_type": "stream",
          "text": [
            "Random Forest Results:\n",
            "\n",
            " Accuracy Score 95.27755853722705\n",
            " Log_loss 0.7108360787458522\n",
            " ROC AUC 0.6830039098778956\n",
            "\n",
            " Confusion Matrix \n",
            "\n",
            " [[14462   135]\n",
            " [  583    24]]\n",
            "\n",
            " Classification Report \n",
            "\n",
            "                precision    recall  f1-score   support\n",
            "\n",
            "           0       0.96      0.99      0.98     14597\n",
            "           1       0.15      0.04      0.06       607\n",
            "\n",
            "    accuracy                           0.95     15204\n",
            "   macro avg       0.56      0.52      0.52     15204\n",
            "weighted avg       0.93      0.95      0.94     15204\n",
            "\n"
          ],
          "name": "stdout"
        }
      ]
    },
    {
      "cell_type": "markdown",
      "metadata": {
        "id": "oZy_m7r8JhYs",
        "colab_type": "text"
      },
      "source": [
        "### Precision and Recall"
      ]
    },
    {
      "cell_type": "code",
      "metadata": {
        "id": "phMhMz8_JhYt",
        "colab_type": "code",
        "outputId": "8988172f-01a5-451b-de73-8a9f59c4d9ce",
        "colab": {
          "base_uri": "https://localhost:8080/",
          "height": 53
        }
      },
      "source": [
        "from sklearn.metrics import precision_recall_fscore_support as score # \n",
        "precision, recall, fscore, support = score(y_test,rf_pred)  # \n",
        "print('precision: {}'.format(precision)) \n",
        "print('recall: {}'.format(recall))"
      ],
      "execution_count": 18,
      "outputs": [
        {
          "output_type": "stream",
          "text": [
            "precision: [0.96124958 0.1509434 ]\n",
            "recall: [0.99075152 0.03953871]\n"
          ],
          "name": "stdout"
        }
      ]
    },
    {
      "cell_type": "markdown",
      "metadata": {
        "id": "DCL49sawJhYx",
        "colab_type": "text"
      },
      "source": [
        "### Frequency for Random Forest Prediction"
      ]
    },
    {
      "cell_type": "code",
      "metadata": {
        "id": "kTCDjY49JhYz",
        "colab_type": "code",
        "outputId": "b62ce30d-f487-4cff-90bc-34fed52916ef",
        "colab": {
          "base_uri": "https://localhost:8080/",
          "height": 71
        }
      },
      "source": [
        "unique_elements, counts_elements = np.unique(rf_pred, return_counts=True) \n",
        "print(\"Frequency of unique values of the said array:\") \n",
        "print(np.asarray((unique_elements, counts_elements)))"
      ],
      "execution_count": 19,
      "outputs": [
        {
          "output_type": "stream",
          "text": [
            "Frequency of unique values of the said array:\n",
            "[[    0     1]\n",
            " [15045   159]]\n"
          ],
          "name": "stdout"
        }
      ]
    },
    {
      "cell_type": "markdown",
      "metadata": {
        "id": "MAb2a0ANJhY2",
        "colab_type": "text"
      },
      "source": [
        "### Frequency for test"
      ]
    },
    {
      "cell_type": "code",
      "metadata": {
        "id": "ML7IdpY_JhY3",
        "colab_type": "code",
        "outputId": "4c046531-ba7a-43f2-995b-6e2f2fff16b7",
        "colab": {
          "base_uri": "https://localhost:8080/",
          "height": 71
        }
      },
      "source": [
        "unique_elements, counts_elements = np.unique(y_test, return_counts=True) \n",
        "print(\"Frequency of unique values of the said array:\") \n",
        "print(np.asarray((unique_elements, counts_elements)))"
      ],
      "execution_count": 20,
      "outputs": [
        {
          "output_type": "stream",
          "text": [
            "Frequency of unique values of the said array:\n",
            "[[    0     1]\n",
            " [14597   607]]\n"
          ],
          "name": "stdout"
        }
      ]
    },
    {
      "cell_type": "code",
      "metadata": {
        "id": "wxx79nK_JhY8",
        "colab_type": "code",
        "colab": {}
      },
      "source": [
        ""
      ],
      "execution_count": 0,
      "outputs": []
    },
    {
      "cell_type": "markdown",
      "metadata": {
        "id": "a7J-GPbWJhY_",
        "colab_type": "text"
      },
      "source": [
        "### Gradient Boosting Classifier"
      ]
    },
    {
      "cell_type": "code",
      "metadata": {
        "id": "UcVjpBMaJhZA",
        "colab_type": "code",
        "outputId": "822c95c9-1571-49c7-ac30-1bbc164fe0e1",
        "colab": {
          "base_uri": "https://localhost:8080/",
          "height": 410
        }
      },
      "source": [
        "# Fit and Predict\n",
        "xgb = XGBClassifier()\n",
        "xgb.fit(X_train, y_train)\n",
        "xgb_pred = xgb.predict(X_test)\n",
        "\n",
        "\n",
        "# Probability Prediction and ROC parameters\n",
        "xgb_pred_proba = xgb.predict_proba(X_test)[:, 1]\n",
        "[fpr_xgb, tpr_xgb, thr_xgb] = roc_curve(y_test, xgb_pred_proba)\n",
        "\n",
        "# Metrics for evaluation\n",
        "xgb_accuracy_score = accuracy_score(y_test, xgb_pred)\n",
        "xgb_log_loss = log_loss(y_test,xgb_pred_proba)\n",
        "xgb_auc = auc(fpr_xgb, tpr_xgb)\n",
        "xgb_confusion_matrix = confusion_matrix(y_test,xgb_pred )\n",
        "xgb_classification_report = classification_report(y_test,xgb_pred)\n",
        "\n",
        "# Results\n",
        "print('XGBoost Results:\\n')\n",
        "print(\" Accuracy Score\" ,xgb_accuracy_score*100)\n",
        "print(\" Log_loss\", xgb_log_loss )\n",
        "print(\" ROC AUC\" ,xgb_auc )\n",
        "print(\"\\n Confusion Matrix \\n\\n\" ,xgb_confusion_matrix)\n",
        "print(\"\\n Classification Report \\n\\n \" ,xgb_classification_report)\n"
      ],
      "execution_count": 21,
      "outputs": [
        {
          "output_type": "stream",
          "text": [
            "XGBoost Results:\n",
            "\n",
            " Accuracy Score 96.00105235464352\n",
            " Log_loss 0.13563570622995474\n",
            " ROC AUC 0.8413028381743038\n",
            "\n",
            " Confusion Matrix \n",
            "\n",
            " [[14596     1]\n",
            " [  607     0]]\n",
            "\n",
            " Classification Report \n",
            "\n",
            "                precision    recall  f1-score   support\n",
            "\n",
            "           0       0.96      1.00      0.98     14597\n",
            "           1       0.00      0.00      0.00       607\n",
            "\n",
            "    accuracy                           0.96     15204\n",
            "   macro avg       0.48      0.50      0.49     15204\n",
            "weighted avg       0.92      0.96      0.94     15204\n",
            "\n"
          ],
          "name": "stdout"
        }
      ]
    },
    {
      "cell_type": "markdown",
      "metadata": {
        "id": "A5HC91p6JhZE",
        "colab_type": "text"
      },
      "source": [
        "### Precision and Recall"
      ]
    },
    {
      "cell_type": "code",
      "metadata": {
        "id": "KoxIXaJaJhZF",
        "colab_type": "code",
        "outputId": "d438e68a-b1fd-4a0c-95f6-f54d58824075",
        "colab": {
          "base_uri": "https://localhost:8080/",
          "height": 53
        }
      },
      "source": [
        "from sklearn.metrics import precision_recall_fscore_support as score # \n",
        "precision, recall, fscore, support = score(y_test,xgb_pred)  # \n",
        "print('precision: {}'.format(precision)) \n",
        "print('recall: {}'.format(recall))"
      ],
      "execution_count": 22,
      "outputs": [
        {
          "output_type": "stream",
          "text": [
            "precision: [0.96007367 0.        ]\n",
            "recall: [0.99993149 0.        ]\n"
          ],
          "name": "stdout"
        }
      ]
    },
    {
      "cell_type": "markdown",
      "metadata": {
        "id": "ETgqVrMOJhZM",
        "colab_type": "text"
      },
      "source": [
        "### Frequency for Gradient Boosting Prediction"
      ]
    },
    {
      "cell_type": "code",
      "metadata": {
        "id": "gMHvIpfXJhZO",
        "colab_type": "code",
        "outputId": "a0e94eff-d0a9-4d2e-a717-c98a023abe78",
        "colab": {
          "base_uri": "https://localhost:8080/",
          "height": 71
        }
      },
      "source": [
        "unique_elements, counts_elements = np.unique(xgb_pred, return_counts=True) \n",
        "print(\"Frequency of unique values of the said array:\") \n",
        "print(np.asarray((unique_elements, counts_elements)))"
      ],
      "execution_count": 23,
      "outputs": [
        {
          "output_type": "stream",
          "text": [
            "Frequency of unique values of the said array:\n",
            "[[    0     1]\n",
            " [15203     1]]\n"
          ],
          "name": "stdout"
        }
      ]
    },
    {
      "cell_type": "markdown",
      "metadata": {
        "id": "eQi8gWkTJhZf",
        "colab_type": "text"
      },
      "source": [
        "### Frequency for test"
      ]
    },
    {
      "cell_type": "code",
      "metadata": {
        "id": "XEHtql3LJhZi",
        "colab_type": "code",
        "outputId": "9c2e4979-39ec-47ac-871f-9f618595ce40",
        "colab": {
          "base_uri": "https://localhost:8080/",
          "height": 71
        }
      },
      "source": [
        "unique_elements, counts_elements = np.unique(y_test, return_counts=True) \n",
        "print(\"Frequency of unique values of the said array:\") \n",
        "print(np.asarray((unique_elements, counts_elements)))"
      ],
      "execution_count": 24,
      "outputs": [
        {
          "output_type": "stream",
          "text": [
            "Frequency of unique values of the said array:\n",
            "[[    0     1]\n",
            " [14597   607]]\n"
          ],
          "name": "stdout"
        }
      ]
    },
    {
      "cell_type": "code",
      "metadata": {
        "id": "A3z1pK4SJhZl",
        "colab_type": "code",
        "colab": {}
      },
      "source": [
        ""
      ],
      "execution_count": 0,
      "outputs": []
    },
    {
      "cell_type": "markdown",
      "metadata": {
        "id": "epxDvp_hJhZo",
        "colab_type": "text"
      },
      "source": [
        "# SECTION 3 - MACHINE LEARNING - BALANCED DATASET"
      ]
    },
    {
      "cell_type": "markdown",
      "metadata": {
        "id": "T85Jze4OJhZr",
        "colab_type": "text"
      },
      "source": [
        "### Balancing the dataset"
      ]
    },
    {
      "cell_type": "code",
      "metadata": {
        "id": "855ihCN6JhZt",
        "colab_type": "code",
        "colab": {}
      },
      "source": [
        "df_b = df.sample(frac=1).groupby(df['TARGET'], sort=False).head(3008)"
      ],
      "execution_count": 0,
      "outputs": []
    },
    {
      "cell_type": "code",
      "metadata": {
        "id": "x4bcDfBpJhZw",
        "colab_type": "code",
        "outputId": "63da8357-5730-4e35-d885-738bc2c4da6c",
        "colab": {
          "base_uri": "https://localhost:8080/",
          "height": 35
        }
      },
      "source": [
        "df_b.shape"
      ],
      "execution_count": 26,
      "outputs": [
        {
          "output_type": "execute_result",
          "data": {
            "text/plain": [
              "(6016, 371)"
            ]
          },
          "metadata": {
            "tags": []
          },
          "execution_count": 26
        }
      ]
    },
    {
      "cell_type": "code",
      "metadata": {
        "id": "5GgoRGvZJhZz",
        "colab_type": "code",
        "outputId": "601f6c96-c45d-4d2f-99cd-749e1a07ba1c",
        "colab": {
          "base_uri": "https://localhost:8080/",
          "height": 112
        }
      },
      "source": [
        "#Checking if the dataset is balanced or unbalanced\n",
        "BalanceCheck2 = pd.DataFrame(df_b[\"TARGET\"].value_counts())\n",
        "BalanceCheck2['Percentage'] = 100*BalanceCheck2[\"TARGET\"]/df_b.shape[0]\n",
        "BalanceCheck2"
      ],
      "execution_count": 27,
      "outputs": [
        {
          "output_type": "execute_result",
          "data": {
            "text/html": [
              "<div>\n",
              "<style scoped>\n",
              "    .dataframe tbody tr th:only-of-type {\n",
              "        vertical-align: middle;\n",
              "    }\n",
              "\n",
              "    .dataframe tbody tr th {\n",
              "        vertical-align: top;\n",
              "    }\n",
              "\n",
              "    .dataframe thead th {\n",
              "        text-align: right;\n",
              "    }\n",
              "</style>\n",
              "<table border=\"1\" class=\"dataframe\">\n",
              "  <thead>\n",
              "    <tr style=\"text-align: right;\">\n",
              "      <th></th>\n",
              "      <th>TARGET</th>\n",
              "      <th>Percentage</th>\n",
              "    </tr>\n",
              "  </thead>\n",
              "  <tbody>\n",
              "    <tr>\n",
              "      <th>1</th>\n",
              "      <td>3008</td>\n",
              "      <td>50.0</td>\n",
              "    </tr>\n",
              "    <tr>\n",
              "      <th>0</th>\n",
              "      <td>3008</td>\n",
              "      <td>50.0</td>\n",
              "    </tr>\n",
              "  </tbody>\n",
              "</table>\n",
              "</div>"
            ],
            "text/plain": [
              "   TARGET  Percentage\n",
              "1    3008        50.0\n",
              "0    3008        50.0"
            ]
          },
          "metadata": {
            "tags": []
          },
          "execution_count": 27
        }
      ]
    },
    {
      "cell_type": "markdown",
      "metadata": {
        "id": "_fKIu0-YJhZ1",
        "colab_type": "text"
      },
      "source": [
        "### Cleaning the dataset"
      ]
    },
    {
      "cell_type": "code",
      "metadata": {
        "id": "UwpIt-G6JhZ2",
        "colab_type": "code",
        "outputId": "bad3cbcf-56af-4b0b-920e-7e64bf6707c5",
        "colab": {
          "base_uri": "https://localhost:8080/",
          "height": 303
        }
      },
      "source": [
        "#Checking the value counts for top 15 values\n",
        "\n",
        "df_b[\"var3\"].value_counts()[:15]"
      ],
      "execution_count": 28,
      "outputs": [
        {
          "output_type": "execute_result",
          "data": {
            "text/plain": [
              "2     5898\n",
              "1       13\n",
              "8       12\n",
              "0        9\n",
              "4        9\n",
              "9        7\n",
              "7        7\n",
              "3        7\n",
              "12       5\n",
              "5        5\n",
              "10       4\n",
              "13       4\n",
              "6        4\n",
              "14       3\n",
              "11       3\n",
              "Name: var3, dtype: int64"
            ]
          },
          "metadata": {
            "tags": []
          },
          "execution_count": 28
        }
      ]
    },
    {
      "cell_type": "markdown",
      "metadata": {
        "id": "Z61j-_VNJhZ7",
        "colab_type": "text"
      },
      "source": [
        "### Define the independent and dependent variables"
      ]
    },
    {
      "cell_type": "code",
      "metadata": {
        "id": "WYdgBpFtJhZ7",
        "colab_type": "code",
        "colab": {}
      },
      "source": [
        "X_b = df_b.drop([\"TARGET\",\"ID\"],axis=1)\n",
        "y_b = df_b[\"TARGET\"]"
      ],
      "execution_count": 0,
      "outputs": []
    },
    {
      "cell_type": "markdown",
      "metadata": {
        "id": "-Dh0-GyeJhZ-",
        "colab_type": "text"
      },
      "source": [
        "### Train Test Split"
      ]
    },
    {
      "cell_type": "code",
      "metadata": {
        "id": "dbsfGqiTJhZ_",
        "colab_type": "code",
        "outputId": "bab98f51-51b3-49d0-d343-fd3490c56a43",
        "colab": {
          "base_uri": "https://localhost:8080/",
          "height": 53
        }
      },
      "source": [
        "from sklearn.model_selection import train_test_split\n",
        "X_train_b, X_test_b, y_train_b, y_test_b = train_test_split( X_b, y_b, test_size = 0.2, random_state = 42)\n",
        "print ('Train set:', X_train_b.shape,  y_train_b.shape)\n",
        "print ('Test set:', X_test_b.shape,  y_test_b.shape)"
      ],
      "execution_count": 30,
      "outputs": [
        {
          "output_type": "stream",
          "text": [
            "Train set: (4812, 369) (4812,)\n",
            "Test set: (1204, 369) (1204,)\n"
          ],
          "name": "stdout"
        }
      ]
    },
    {
      "cell_type": "markdown",
      "metadata": {
        "id": "amljrviAJhaC",
        "colab_type": "text"
      },
      "source": [
        "### Scale the data"
      ]
    },
    {
      "cell_type": "code",
      "metadata": {
        "id": "F-Gye56sJhaD",
        "colab_type": "code",
        "colab": {}
      },
      "source": [
        "sdc = StandardScaler()\n",
        "X_train_b = sdc.fit_transform(X_train_b)\n",
        "X_test_b = sdc.transform(X_test_b)"
      ],
      "execution_count": 0,
      "outputs": []
    },
    {
      "cell_type": "markdown",
      "metadata": {
        "id": "BZjx4HqBJhaF",
        "colab_type": "text"
      },
      "source": [
        "### Random Forest Classifier"
      ]
    },
    {
      "cell_type": "code",
      "metadata": {
        "id": "mWJrz8mGJhaG",
        "colab_type": "code",
        "outputId": "248c6530-d81c-46d6-ceba-cd4301b61dd8",
        "colab": {
          "base_uri": "https://localhost:8080/",
          "height": 803
        }
      },
      "source": [
        "# Fit and Predict\n",
        "rf_b = RandomForestClassifier(n_estimators = 400)\n",
        "rf_b.fit(X_train_b,y_train_b)\n",
        "rf_pred_b = rf_b.predict(X_test_b)\n",
        "rf_pred_imb = rf_b.predict(X_test)\n",
        "\n",
        "# Probability Prediction and ROC parameters\n",
        "rf_pred_proba_b = rf_b.predict_proba(X_test_b)[:, 1]\n",
        "[fpr_rf_b, tpr_rf_b, thr_rf_b] = roc_curve(y_test_b, rf_pred_proba_b)\n",
        "\n",
        "# Probability Prediction and ROC parameters for imbalanced testing\n",
        "rf_pred_proba_imb = rf_b.predict_proba(X_test)[:, 1]\n",
        "[fpr_rf_imb, tpr_rf_imb, thr_rf_imb] = roc_curve(y_test, rf_pred_proba_imb)\n",
        "\n",
        "# Metrics for evaluation\n",
        "rf_accuracy_score_b = accuracy_score(y_test_b, rf_pred_b)\n",
        "rf_log_loss_b = log_loss(y_test_b,rf_pred_proba_b)\n",
        "rf_auc_b = auc(fpr_rf_b, tpr_rf_b)\n",
        "rf_confusion_matrix_b = confusion_matrix(y_test_b,rf_pred_b )\n",
        "rf_classification_report_b = classification_report(y_test_b, rf_pred_b)\n",
        "\n",
        "# Metrics for evaluation for imbalanced testing\n",
        "rf_accuracy_score_imb = accuracy_score(y_test, rf_pred_imb)\n",
        "rf_log_loss_imb = log_loss(y_test,rf_pred_proba_imb)\n",
        "rf_auc_imb = auc(fpr_rf_imb, tpr_rf_imb)\n",
        "rf_confusion_matrix_imb = confusion_matrix(y_test,rf_pred_imb )\n",
        "rf_classification_report_imb = classification_report(y_test, rf_pred_imb)\n",
        "\n",
        "# Results for Balanced Dataset and X_test balanced\n",
        "print('Random Forest Results:\\n')\n",
        "print(\" Accuracy Score\" ,rf_accuracy_score_b*100)\n",
        "print(\" Log_loss\", rf_log_loss_b )\n",
        "print(\" ROC AUC\" ,rf_auc_b )\n",
        "print(\"\\n Confusion Matrix \\n\\n\" ,rf_confusion_matrix_b)\n",
        "print(\"\\n Classification Report \\n\\n \" ,rf_classification_report_b)\n",
        "\n",
        "# Results for prediction on X_test imbalanced\n",
        "print('Random Forest Results (imbalanced prediction) :\\n')\n",
        "print(\" Accuracy Score\" ,rf_accuracy_score_imb*100)\n",
        "print(\" Log_loss\", rf_log_loss_imb )\n",
        "print(\" ROC AUC\" ,rf_auc_imb )\n",
        "print(\"\\n Confusion Matrix \\n\\n\" ,rf_confusion_matrix_imb)\n",
        "print(\"\\n Classification Report \\n\\n \" ,rf_classification_report_imb)"
      ],
      "execution_count": 32,
      "outputs": [
        {
          "output_type": "stream",
          "text": [
            "Random Forest Results:\n",
            "\n",
            " Accuracy Score 74.4186046511628\n",
            " Log_loss 0.6432133101546038\n",
            " ROC AUC 0.8033465638059568\n",
            "\n",
            " Confusion Matrix \n",
            "\n",
            " [[450 171]\n",
            " [137 446]]\n",
            "\n",
            " Classification Report \n",
            "\n",
            "                precision    recall  f1-score   support\n",
            "\n",
            "           0       0.77      0.72      0.75       621\n",
            "           1       0.72      0.77      0.74       583\n",
            "\n",
            "    accuracy                           0.74      1204\n",
            "   macro avg       0.74      0.74      0.74      1204\n",
            "weighted avg       0.75      0.74      0.74      1204\n",
            "\n",
            "Random Forest Results (imbalanced prediction) :\n",
            "\n",
            " Accuracy Score 54.39358063667456\n",
            " Log_loss 0.6802432935141643\n",
            " ROC AUC 0.802864188992367\n",
            "\n",
            " Confusion Matrix \n",
            "\n",
            " [[7725 6872]\n",
            " [  62  545]]\n",
            "\n",
            " Classification Report \n",
            "\n",
            "                precision    recall  f1-score   support\n",
            "\n",
            "           0       0.99      0.53      0.69     14597\n",
            "           1       0.07      0.90      0.14       607\n",
            "\n",
            "    accuracy                           0.54     15204\n",
            "   macro avg       0.53      0.71      0.41     15204\n",
            "weighted avg       0.96      0.54      0.67     15204\n",
            "\n"
          ],
          "name": "stdout"
        }
      ]
    },
    {
      "cell_type": "markdown",
      "metadata": {
        "id": "tSsW83wgJhaJ",
        "colab_type": "text"
      },
      "source": [
        "### Precision and Recall for balanced dataset"
      ]
    },
    {
      "cell_type": "code",
      "metadata": {
        "id": "iwfrkoZiJhaK",
        "colab_type": "code",
        "outputId": "b570c8a8-dd52-4553-e6ec-e514b475bf55",
        "colab": {
          "base_uri": "https://localhost:8080/",
          "height": 53
        }
      },
      "source": [
        "from sklearn.metrics import precision_recall_fscore_support as score # \n",
        "precision, recall, fscore, support = score(y_test_b,rf_pred_b)  # \n",
        "print('precision: {}'.format(precision)) \n",
        "print('recall: {}'.format(recall))"
      ],
      "execution_count": 33,
      "outputs": [
        {
          "output_type": "stream",
          "text": [
            "precision: [0.76660988 0.72285251]\n",
            "recall: [0.72463768 0.76500858]\n"
          ],
          "name": "stdout"
        }
      ]
    },
    {
      "cell_type": "markdown",
      "metadata": {
        "id": "PFxt2md5JhaN",
        "colab_type": "text"
      },
      "source": [
        "### Frequency for Random Forest balanced dataset Prediction"
      ]
    },
    {
      "cell_type": "code",
      "metadata": {
        "id": "7I3L9LjYJhaO",
        "colab_type": "code",
        "outputId": "b6d4898c-1200-4ee1-8e79-e95976e6f9d9",
        "colab": {
          "base_uri": "https://localhost:8080/",
          "height": 71
        }
      },
      "source": [
        "unique_elements, counts_elements = np.unique(rf_pred_b, return_counts=True) \n",
        "print(\"Frequency of unique values of the said array:\") \n",
        "print(np.asarray((unique_elements, counts_elements)))"
      ],
      "execution_count": 34,
      "outputs": [
        {
          "output_type": "stream",
          "text": [
            "Frequency of unique values of the said array:\n",
            "[[  0   1]\n",
            " [587 617]]\n"
          ],
          "name": "stdout"
        }
      ]
    },
    {
      "cell_type": "markdown",
      "metadata": {
        "id": "vLi9H9g_JhaR",
        "colab_type": "text"
      },
      "source": [
        "### Frequency for test balanced"
      ]
    },
    {
      "cell_type": "code",
      "metadata": {
        "id": "nd210UCZJhaT",
        "colab_type": "code",
        "outputId": "21b2c973-1395-4c0d-8524-3e01d1fe2896",
        "colab": {
          "base_uri": "https://localhost:8080/",
          "height": 71
        }
      },
      "source": [
        "unique_elements, counts_elements = np.unique(y_test_b, return_counts=True) \n",
        "print(\"Frequency of unique values of the said array:\") \n",
        "print(np.asarray((unique_elements, counts_elements)))"
      ],
      "execution_count": 35,
      "outputs": [
        {
          "output_type": "stream",
          "text": [
            "Frequency of unique values of the said array:\n",
            "[[  0   1]\n",
            " [621 583]]\n"
          ],
          "name": "stdout"
        }
      ]
    },
    {
      "cell_type": "markdown",
      "metadata": {
        "id": "9dCHIYBxJhaW",
        "colab_type": "text"
      },
      "source": [
        "### Precision and Recall for imbalanced dataset"
      ]
    },
    {
      "cell_type": "code",
      "metadata": {
        "id": "TmNznOP6JhaX",
        "colab_type": "code",
        "outputId": "77b06553-d575-4fca-9fc9-930076290158",
        "colab": {
          "base_uri": "https://localhost:8080/",
          "height": 53
        }
      },
      "source": [
        "from sklearn.metrics import precision_recall_fscore_support as score # \n",
        "precision, recall, fscore, support = score(y_test,rf_pred_imb)  # \n",
        "print('precision: {}'.format(precision)) \n",
        "print('recall: {}'.format(recall))"
      ],
      "execution_count": 36,
      "outputs": [
        {
          "output_type": "stream",
          "text": [
            "precision: [0.99203801 0.07347984]\n",
            "recall: [0.52921833 0.89785832]\n"
          ],
          "name": "stdout"
        }
      ]
    },
    {
      "cell_type": "markdown",
      "metadata": {
        "id": "7Vq6Hpa_JhaZ",
        "colab_type": "text"
      },
      "source": [
        "### Frequency for Random Forest imbalanced dataset Prediction"
      ]
    },
    {
      "cell_type": "code",
      "metadata": {
        "id": "GCOmMKmuJhaZ",
        "colab_type": "code",
        "outputId": "e100369c-8148-4690-9b26-9e1f8096d353",
        "colab": {
          "base_uri": "https://localhost:8080/",
          "height": 71
        }
      },
      "source": [
        "unique_elements, counts_elements = np.unique(rf_pred_imb, return_counts=True) \n",
        "print(\"Frequency of unique values of the said array:\") \n",
        "print(np.asarray((unique_elements, counts_elements)))"
      ],
      "execution_count": 37,
      "outputs": [
        {
          "output_type": "stream",
          "text": [
            "Frequency of unique values of the said array:\n",
            "[[   0    1]\n",
            " [7787 7417]]\n"
          ],
          "name": "stdout"
        }
      ]
    },
    {
      "cell_type": "markdown",
      "metadata": {
        "id": "IZK4jkdSJhad",
        "colab_type": "text"
      },
      "source": [
        "### Frequency for test"
      ]
    },
    {
      "cell_type": "code",
      "metadata": {
        "id": "rZALPVE3Jhae",
        "colab_type": "code",
        "outputId": "d92b35fb-6ce5-4538-d63e-17a47be69272",
        "colab": {
          "base_uri": "https://localhost:8080/",
          "height": 71
        }
      },
      "source": [
        "unique_elements, counts_elements = np.unique(y_test, return_counts=True) \n",
        "print(\"Frequency of unique values of the said array:\") \n",
        "print(np.asarray((unique_elements, counts_elements)))"
      ],
      "execution_count": 38,
      "outputs": [
        {
          "output_type": "stream",
          "text": [
            "Frequency of unique values of the said array:\n",
            "[[    0     1]\n",
            " [14597   607]]\n"
          ],
          "name": "stdout"
        }
      ]
    },
    {
      "cell_type": "markdown",
      "metadata": {
        "id": "OraND7ztJhai",
        "colab_type": "text"
      },
      "source": [
        ""
      ]
    },
    {
      "cell_type": "markdown",
      "metadata": {
        "id": "RZSDq_56Jhai",
        "colab_type": "text"
      },
      "source": [
        "### Random Forest Hyperparameter Tuning"
      ]
    },
    {
      "cell_type": "markdown",
      "metadata": {
        "id": "Om7VhL5sJhaj",
        "colab_type": "text"
      },
      "source": [
        "### Randomized Search Cross Validation"
      ]
    },
    {
      "cell_type": "code",
      "metadata": {
        "scrolled": false,
        "id": "1HbIu60uJhaj",
        "colab_type": "code",
        "outputId": "11478728-96ee-448a-e779-406d4c17949b",
        "colab": {
          "base_uri": "https://localhost:8080/",
          "height": 609
        }
      },
      "source": [
        "# Define the parameter grid\n",
        "param_grid = { 'n_estimators': [100,200,300,400,500,600,700,800,900,1000],'max_features': ['auto', 'sqrt', 'log2']}\n",
        "\n",
        "forest = RandomizedSearchCV(rf_b, param_distributions = param_grid, n_iter =5, scoring = 'roc_auc', n_jobs = -1, cv = 10, verbose = 3)\n",
        "\n",
        "forest.fit(X_train_b,y_train_b)"
      ],
      "execution_count": 39,
      "outputs": [
        {
          "output_type": "stream",
          "text": [
            "Fitting 10 folds for each of 5 candidates, totalling 50 fits\n"
          ],
          "name": "stdout"
        },
        {
          "output_type": "stream",
          "text": [
            "[Parallel(n_jobs=-1)]: Using backend LokyBackend with 2 concurrent workers.\n",
            "/usr/local/lib/python3.6/dist-packages/joblib/externals/loky/process_executor.py:706: UserWarning: A worker stopped while some jobs were given to the executor. This can be caused by a too short worker timeout or by a memory leak.\n",
            "  \"timeout or by a memory leak.\", UserWarning\n",
            "[Parallel(n_jobs=-1)]: Done  28 tasks      | elapsed:  1.2min\n",
            "[Parallel(n_jobs=-1)]: Done  50 out of  50 | elapsed:  2.3min finished\n"
          ],
          "name": "stderr"
        },
        {
          "output_type": "execute_result",
          "data": {
            "text/plain": [
              "RandomizedSearchCV(cv=10, error_score='raise-deprecating',\n",
              "                   estimator=RandomForestClassifier(bootstrap=True,\n",
              "                                                    class_weight=None,\n",
              "                                                    criterion='gini',\n",
              "                                                    max_depth=None,\n",
              "                                                    max_features='auto',\n",
              "                                                    max_leaf_nodes=None,\n",
              "                                                    min_impurity_decrease=0.0,\n",
              "                                                    min_impurity_split=None,\n",
              "                                                    min_samples_leaf=1,\n",
              "                                                    min_samples_split=2,\n",
              "                                                    min_weight_fraction_leaf=0.0,\n",
              "                                                    n_estimators=400,\n",
              "                                                    n_jobs=None,\n",
              "                                                    oob_score=False,\n",
              "                                                    random_state=None,\n",
              "                                                    verbose=0,\n",
              "                                                    warm_start=False),\n",
              "                   iid='warn', n_iter=5, n_jobs=-1,\n",
              "                   param_distributions={'max_features': ['auto', 'sqrt',\n",
              "                                                         'log2'],\n",
              "                                        'n_estimators': [100, 200, 300, 400,\n",
              "                                                         500, 600, 700, 800,\n",
              "                                                         900, 1000]},\n",
              "                   pre_dispatch='2*n_jobs', random_state=None, refit=True,\n",
              "                   return_train_score=False, scoring='roc_auc', verbose=3)"
            ]
          },
          "metadata": {
            "tags": []
          },
          "execution_count": 39
        }
      ]
    },
    {
      "cell_type": "markdown",
      "metadata": {
        "id": "sP-fMZyKJham",
        "colab_type": "text"
      },
      "source": [
        "### Best parameters and best score"
      ]
    },
    {
      "cell_type": "code",
      "metadata": {
        "id": "PRwT0N7JJhan",
        "colab_type": "code",
        "outputId": "c46ff7b9-2b02-4b48-d08e-f24e374b2ec2",
        "colab": {
          "base_uri": "https://localhost:8080/",
          "height": 53
        }
      },
      "source": [
        "print(forest.best_params_)\n",
        "print(forest.best_score_)"
      ],
      "execution_count": 40,
      "outputs": [
        {
          "output_type": "stream",
          "text": [
            "{'n_estimators': 200, 'max_features': 'auto'}\n",
            "0.8000336530615709\n"
          ],
          "name": "stdout"
        }
      ]
    },
    {
      "cell_type": "markdown",
      "metadata": {
        "id": "MMgo_V4XJhap",
        "colab_type": "text"
      },
      "source": [
        "### Retraining the model using the obtained parameters"
      ]
    },
    {
      "cell_type": "code",
      "metadata": {
        "id": "3kZOlZWxJhaq",
        "colab_type": "code",
        "outputId": "d9d77331-217d-409c-9ef6-50acef02496f",
        "colab": {
          "base_uri": "https://localhost:8080/",
          "height": 803
        }
      },
      "source": [
        "# Fit and Predict\n",
        "rf_b = RandomForestClassifier(n_estimators=forest.best_params_[\"n_estimators\"],max_features = forest.best_params_['max_features'])\n",
        "rf_b.fit(X_train_b,y_train_b)\n",
        "rf_pred_b = rf_b.predict(X_test_b)\n",
        "rf_pred_imb = rf_b.predict(X_test)\n",
        "\n",
        "# Probability Prediction and ROC parameters\n",
        "rf_pred_proba_b = rf_b.predict_proba(X_test_b)[:, 1]\n",
        "[fpr_rf_b, tpr_rf_b, thr_rf_b] = roc_curve(y_test_b, rf_pred_proba_b)\n",
        "\n",
        "# Probability Prediction and ROC parameters for imbalanced testing\n",
        "rf_pred_proba_imb = rf_b.predict_proba(X_test)[:, 1]\n",
        "[fpr_rf_imb, tpr_rf_imb, thr_rf_imb] = roc_curve(y_test, rf_pred_proba_imb)\n",
        "\n",
        "# Metrics for evaluation\n",
        "rf_accuracy_score_b = accuracy_score(y_test_b, rf_pred_b)\n",
        "rf_log_loss_b = log_loss(y_test_b,rf_pred_proba_b)\n",
        "rf_auc_b = auc(fpr_rf_b, tpr_rf_b)\n",
        "rf_confusion_matrix_b = confusion_matrix(y_test_b,rf_pred_b )\n",
        "rf_classification_report_b = classification_report(y_test_b, rf_pred_b)\n",
        "\n",
        "# Metrics for evaluation for imbalanced testing\n",
        "rf_accuracy_score_imb = accuracy_score(y_test, rf_pred_imb)\n",
        "rf_log_loss_imb = log_loss(y_test,rf_pred_proba_imb)\n",
        "rf_auc_imb = auc(fpr_rf_imb, tpr_rf_imb)\n",
        "rf_confusion_matrix_imb = confusion_matrix(y_test,rf_pred_imb )\n",
        "rf_classification_report_imb = classification_report(y_test, rf_pred_imb)\n",
        "\n",
        "# Results for Balanced Dataset and X_test balanced\n",
        "print('Random Forest Results:\\n')\n",
        "print(\" Accuracy Score\" ,rf_accuracy_score_b*100)\n",
        "print(\" Log_loss\", rf_log_loss_b )\n",
        "print(\" ROC AUC\" ,rf_auc_b )\n",
        "print(\"\\n Confusion Matrix \\n\\n\" ,rf_confusion_matrix_b)\n",
        "print(\"\\n Classification Report \\n\\n \" ,rf_classification_report_b)\n",
        "\n",
        "# Results for prediction on X_test imbalanced\n",
        "print('Random Forest Results (imbalanced prediction) :\\n')\n",
        "print(\" Accuracy Score\" ,rf_accuracy_score_imb*100)\n",
        "print(\" Log_loss\", rf_log_loss_imb )\n",
        "print(\" ROC AUC\" ,rf_auc_imb )\n",
        "print(\"\\n Confusion Matrix \\n\\n\" ,rf_confusion_matrix_imb)\n",
        "print(\"\\n Classification Report \\n\\n \" ,rf_classification_report_imb)\n"
      ],
      "execution_count": 41,
      "outputs": [
        {
          "output_type": "stream",
          "text": [
            "Random Forest Results:\n",
            "\n",
            " Accuracy Score 74.16943521594685\n",
            " Log_loss 0.621091872618755\n",
            " ROC AUC 0.8021685269429322\n",
            "\n",
            " Confusion Matrix \n",
            "\n",
            " [[448 173]\n",
            " [138 445]]\n",
            "\n",
            " Classification Report \n",
            "\n",
            "                precision    recall  f1-score   support\n",
            "\n",
            "           0       0.76      0.72      0.74       621\n",
            "           1       0.72      0.76      0.74       583\n",
            "\n",
            "    accuracy                           0.74      1204\n",
            "   macro avg       0.74      0.74      0.74      1204\n",
            "weighted avg       0.74      0.74      0.74      1204\n",
            "\n",
            "Random Forest Results (imbalanced prediction) :\n",
            "\n",
            " Accuracy Score 52.223099184425145\n",
            " Log_loss 0.7018359129217862\n",
            " ROC AUC 0.820588374379922\n",
            "\n",
            " Confusion Matrix \n",
            "\n",
            " [[7380 7217]\n",
            " [  47  560]]\n",
            "\n",
            " Classification Report \n",
            "\n",
            "                precision    recall  f1-score   support\n",
            "\n",
            "           0       0.99      0.51      0.67     14597\n",
            "           1       0.07      0.92      0.13       607\n",
            "\n",
            "    accuracy                           0.52     15204\n",
            "   macro avg       0.53      0.71      0.40     15204\n",
            "weighted avg       0.96      0.52      0.65     15204\n",
            "\n"
          ],
          "name": "stdout"
        }
      ]
    },
    {
      "cell_type": "markdown",
      "metadata": {
        "id": "qgljZxYlJhat",
        "colab_type": "text"
      },
      "source": [
        "### Precision and Recall for balanced dataset"
      ]
    },
    {
      "cell_type": "code",
      "metadata": {
        "id": "CmzIixzHJhau",
        "colab_type": "code",
        "outputId": "eb100243-f4e8-4a28-921e-93169453b68f",
        "colab": {
          "base_uri": "https://localhost:8080/",
          "height": 53
        }
      },
      "source": [
        "from sklearn.metrics import precision_recall_fscore_support as score # \n",
        "precision, recall, fscore, support = score(y_test_b,rf_pred_b)  # \n",
        "print('precision: {}'.format(precision)) \n",
        "print('recall: {}'.format(recall))"
      ],
      "execution_count": 42,
      "outputs": [
        {
          "output_type": "stream",
          "text": [
            "precision: [0.76450512 0.72006472]\n",
            "recall: [0.72141707 0.76329331]\n"
          ],
          "name": "stdout"
        }
      ]
    },
    {
      "cell_type": "markdown",
      "metadata": {
        "id": "w46vuxiNJhav",
        "colab_type": "text"
      },
      "source": [
        "### Frequency for Random Forest balanced dataset Prediction"
      ]
    },
    {
      "cell_type": "code",
      "metadata": {
        "id": "IpXA5VSBJhaw",
        "colab_type": "code",
        "outputId": "1f56ff0f-7628-43d5-e85c-d6bd269f17c4",
        "colab": {
          "base_uri": "https://localhost:8080/",
          "height": 71
        }
      },
      "source": [
        "unique_elements, counts_elements = np.unique(rf_pred_b, return_counts=True) \n",
        "print(\"Frequency of unique values of the said array:\") \n",
        "print(np.asarray((unique_elements, counts_elements)))"
      ],
      "execution_count": 43,
      "outputs": [
        {
          "output_type": "stream",
          "text": [
            "Frequency of unique values of the said array:\n",
            "[[  0   1]\n",
            " [586 618]]\n"
          ],
          "name": "stdout"
        }
      ]
    },
    {
      "cell_type": "markdown",
      "metadata": {
        "id": "Sg7zTCJwJhay",
        "colab_type": "text"
      },
      "source": [
        "### Frequency for test balanced"
      ]
    },
    {
      "cell_type": "code",
      "metadata": {
        "id": "5IGOcZuRJhay",
        "colab_type": "code",
        "outputId": "c819f2ac-a8da-45fc-c68e-49de87e8ebda",
        "colab": {
          "base_uri": "https://localhost:8080/",
          "height": 71
        }
      },
      "source": [
        "unique_elements, counts_elements = np.unique(y_test_b, return_counts=True) \n",
        "print(\"Frequency of unique values of the said array:\") \n",
        "print(np.asarray((unique_elements, counts_elements)))"
      ],
      "execution_count": 44,
      "outputs": [
        {
          "output_type": "stream",
          "text": [
            "Frequency of unique values of the said array:\n",
            "[[  0   1]\n",
            " [621 583]]\n"
          ],
          "name": "stdout"
        }
      ]
    },
    {
      "cell_type": "markdown",
      "metadata": {
        "id": "KhNC96V_Jha5",
        "colab_type": "text"
      },
      "source": [
        "### Precision and Recall for imbalanced dataset"
      ]
    },
    {
      "cell_type": "code",
      "metadata": {
        "id": "H5UubY9fJha5",
        "colab_type": "code",
        "outputId": "3ab6b4d0-2969-4c3a-b695-46dca53e9df7",
        "colab": {
          "base_uri": "https://localhost:8080/",
          "height": 53
        }
      },
      "source": [
        "from sklearn.metrics import precision_recall_fscore_support as score # \n",
        "precision, recall, fscore, support = score(y_test,rf_pred_imb)  # \n",
        "print('precision: {}'.format(precision)) \n",
        "print('recall: {}'.format(recall))"
      ],
      "execution_count": 45,
      "outputs": [
        {
          "output_type": "stream",
          "text": [
            "precision: [0.99367174 0.0720072 ]\n",
            "recall: [0.50558334 0.92257002]\n"
          ],
          "name": "stdout"
        }
      ]
    },
    {
      "cell_type": "markdown",
      "metadata": {
        "id": "pr0pZhDiJha9",
        "colab_type": "text"
      },
      "source": [
        "### Frequency for Random Forest imbalanced dataset Prediction"
      ]
    },
    {
      "cell_type": "code",
      "metadata": {
        "id": "p2oqr_QCJha-",
        "colab_type": "code",
        "outputId": "66955627-3249-438a-c3b8-aca04abfd742",
        "colab": {
          "base_uri": "https://localhost:8080/",
          "height": 71
        }
      },
      "source": [
        "unique_elements, counts_elements = np.unique(rf_pred_imb, return_counts=True) \n",
        "print(\"Frequency of unique values of the said array:\") \n",
        "print(np.asarray((unique_elements, counts_elements)))"
      ],
      "execution_count": 46,
      "outputs": [
        {
          "output_type": "stream",
          "text": [
            "Frequency of unique values of the said array:\n",
            "[[   0    1]\n",
            " [7427 7777]]\n"
          ],
          "name": "stdout"
        }
      ]
    },
    {
      "cell_type": "markdown",
      "metadata": {
        "id": "CdrHBJLzJhbC",
        "colab_type": "text"
      },
      "source": [
        "### Frequency for test"
      ]
    },
    {
      "cell_type": "code",
      "metadata": {
        "id": "ZD--r4H5JhbC",
        "colab_type": "code",
        "outputId": "3ed64091-e772-42b4-f994-c1ec7545a987",
        "colab": {
          "base_uri": "https://localhost:8080/",
          "height": 71
        }
      },
      "source": [
        "unique_elements, counts_elements = np.unique(y_test, return_counts=True) \n",
        "print(\"Frequency of unique values of the said array:\") \n",
        "print(np.asarray((unique_elements, counts_elements)))"
      ],
      "execution_count": 47,
      "outputs": [
        {
          "output_type": "stream",
          "text": [
            "Frequency of unique values of the said array:\n",
            "[[    0     1]\n",
            " [14597   607]]\n"
          ],
          "name": "stdout"
        }
      ]
    },
    {
      "cell_type": "markdown",
      "metadata": {
        "id": "Ih6O0OU7JhbE",
        "colab_type": "text"
      },
      "source": [
        ""
      ]
    },
    {
      "cell_type": "markdown",
      "metadata": {
        "id": "gRv68ewyJhbE",
        "colab_type": "text"
      },
      "source": [
        "## Gradient Boosting Classifier"
      ]
    },
    {
      "cell_type": "code",
      "metadata": {
        "id": "LaUUJa-TJhbF",
        "colab_type": "code",
        "outputId": "fe27e900-9472-4b07-e9a0-358dc7d8e346",
        "colab": {
          "base_uri": "https://localhost:8080/",
          "height": 803
        }
      },
      "source": [
        "# Fit and Predict\n",
        "xgb_b = XGBClassifier()\n",
        "xgb_b.fit(X_train_b,y_train_b)\n",
        "xgb_pred_b = xgb_b.predict(X_test_b)\n",
        "xgb_pred_imb = xgb_b.predict(X_test)\n",
        "\n",
        "# Probability Prediction and ROC parameters\n",
        "xgb_pred_proba_b = xgb_b.predict_proba(X_test_b)[:, 1]\n",
        "[fpr_xgb_b, tpr_xgb_b, thr_xgb_b] = roc_curve(y_test_b, xgb_pred_proba_b)\n",
        "\n",
        "# Probability Prediction and ROC parameters for imbalanced testing\n",
        "xgb_pred_proba_imb = xgb_b.predict_proba(X_test)[:, 1]\n",
        "[fpr_xgb_imb, tpr_xgb_imb, thr_xgb_imb] = roc_curve(y_test, xgb_pred_proba_imb)\n",
        "\n",
        "# Metrics for evaluation\n",
        "xgb_accuracy_score_b = accuracy_score(y_test_b, xgb_pred_b)\n",
        "xgb_log_loss_b = log_loss(y_test_b,xgb_pred_proba_b)\n",
        "xgb_auc_b = auc(fpr_xgb_b, tpr_xgb_b)\n",
        "xgb_confusion_matrix_b = confusion_matrix(y_test_b,xgb_pred_b )\n",
        "xgb_classification_report_b = classification_report(y_test_b, xgb_pred_b)\n",
        "\n",
        "# Metrics for evaluation for imbalanced testing\n",
        "xgb_accuracy_score_imb = accuracy_score(y_test, xgb_pred_imb)\n",
        "xgb_log_loss_imb = log_loss(y_test,xgb_pred_proba_imb)\n",
        "xgb_auc_imb = auc(fpr_xgb_imb, tpr_xgb_imb)\n",
        "xgb_confusion_matrix_imb = confusion_matrix(y_test,xgb_pred_imb )\n",
        "xgb_classification_report_imb = classification_report(y_test, xgb_pred_imb)\n",
        "\n",
        "# Results for Balanced Dataset and X_test balanced\n",
        "print('Gradient Boosting Results:\\n')\n",
        "print(\" Accuracy Score\" ,xgb_accuracy_score_b*100)\n",
        "print(\" Log_loss\", xgb_log_loss_b )\n",
        "print(\" ROC AUC\" ,xgb_auc_b )\n",
        "print(\"\\n Confusion Matrix \\n\\n\" ,xgb_confusion_matrix_b)\n",
        "print(\"\\n Classification Report \\n\\n \" ,xgb_classification_report_b)\n",
        "\n",
        "# Results for prediction on X_test imbalanced\n",
        "print('Gradient Boosting Results (imbalanced prediction) :\\n')\n",
        "print(\" Accuracy Score\" ,xgb_accuracy_score_imb*100)\n",
        "print(\" Log_loss\", xgb_log_loss_imb )\n",
        "print(\" ROC AUC\" ,xgb_auc_imb )\n",
        "print(\"\\n Confusion Matrix \\n\\n\" ,xgb_confusion_matrix_imb)\n",
        "print(\"\\n Classification Report \\n\\n \" ,xgb_classification_report_imb)"
      ],
      "execution_count": 48,
      "outputs": [
        {
          "output_type": "stream",
          "text": [
            "Gradient Boosting Results:\n",
            "\n",
            " Accuracy Score 75.74750830564784\n",
            " Log_loss 0.5025676770616893\n",
            " ROC AUC 0.836968260676218\n",
            "\n",
            " Confusion Matrix \n",
            "\n",
            " [[447 174]\n",
            " [118 465]]\n",
            "\n",
            " Classification Report \n",
            "\n",
            "                precision    recall  f1-score   support\n",
            "\n",
            "           0       0.79      0.72      0.75       621\n",
            "           1       0.73      0.80      0.76       583\n",
            "\n",
            "    accuracy                           0.76      1204\n",
            "   macro avg       0.76      0.76      0.76      1204\n",
            "weighted avg       0.76      0.76      0.76      1204\n",
            "\n",
            "Gradient Boosting Results (imbalanced prediction) :\n",
            "\n",
            " Accuracy Score 52.92686135227571\n",
            " Log_loss 0.7908920278352869\n",
            " ROC AUC 0.81518521950359\n",
            "\n",
            " Confusion Matrix \n",
            "\n",
            " [[7486 7111]\n",
            " [  46  561]]\n",
            "\n",
            " Classification Report \n",
            "\n",
            "                precision    recall  f1-score   support\n",
            "\n",
            "           0       0.99      0.51      0.68     14597\n",
            "           1       0.07      0.92      0.14       607\n",
            "\n",
            "    accuracy                           0.53     15204\n",
            "   macro avg       0.53      0.72      0.41     15204\n",
            "weighted avg       0.96      0.53      0.65     15204\n",
            "\n"
          ],
          "name": "stdout"
        }
      ]
    },
    {
      "cell_type": "markdown",
      "metadata": {
        "id": "M2TpnABjJhbI",
        "colab_type": "text"
      },
      "source": [
        "### Precision and Recall for balanced dataset"
      ]
    },
    {
      "cell_type": "code",
      "metadata": {
        "id": "2kUGLXyCJhbI",
        "colab_type": "code",
        "outputId": "647ab770-3f2d-4f2c-bad3-6af3acc529c2",
        "colab": {
          "base_uri": "https://localhost:8080/",
          "height": 53
        }
      },
      "source": [
        "from sklearn.metrics import precision_recall_fscore_support as score # \n",
        "precision, recall, fscore, support = score(y_test_b,xgb_pred_b)  # \n",
        "print('precision: {}'.format(precision)) \n",
        "print('recall: {}'.format(recall))"
      ],
      "execution_count": 49,
      "outputs": [
        {
          "output_type": "stream",
          "text": [
            "precision: [0.79115044 0.72769953]\n",
            "recall: [0.71980676 0.79759863]\n"
          ],
          "name": "stdout"
        }
      ]
    },
    {
      "cell_type": "markdown",
      "metadata": {
        "id": "s5SlhqKxJhbK",
        "colab_type": "text"
      },
      "source": [
        "### Frequency for Gradient Boosting balanced dataset Prediction"
      ]
    },
    {
      "cell_type": "code",
      "metadata": {
        "id": "OMyrUqGjJhbL",
        "colab_type": "code",
        "outputId": "ea42c4ef-41ce-4070-85c7-38bbb0e51d8b",
        "colab": {
          "base_uri": "https://localhost:8080/",
          "height": 71
        }
      },
      "source": [
        "unique_elements, counts_elements = np.unique(xgb_pred_b, return_counts=True) \n",
        "print(\"Frequency of unique values of the said array:\") \n",
        "print(np.asarray((unique_elements, counts_elements)))"
      ],
      "execution_count": 50,
      "outputs": [
        {
          "output_type": "stream",
          "text": [
            "Frequency of unique values of the said array:\n",
            "[[  0   1]\n",
            " [565 639]]\n"
          ],
          "name": "stdout"
        }
      ]
    },
    {
      "cell_type": "markdown",
      "metadata": {
        "id": "6xoI7ZjDJhbO",
        "colab_type": "text"
      },
      "source": [
        "### Frequency for test balanced"
      ]
    },
    {
      "cell_type": "code",
      "metadata": {
        "id": "7sn-_tIDJhbP",
        "colab_type": "code",
        "outputId": "9e853625-085b-4378-f500-c62cf23db528",
        "colab": {
          "base_uri": "https://localhost:8080/",
          "height": 71
        }
      },
      "source": [
        "unique_elements, counts_elements = np.unique(y_test, return_counts=True) \n",
        "print(\"Frequency of unique values of the said array:\") \n",
        "print(np.asarray((unique_elements, counts_elements)))"
      ],
      "execution_count": 51,
      "outputs": [
        {
          "output_type": "stream",
          "text": [
            "Frequency of unique values of the said array:\n",
            "[[    0     1]\n",
            " [14597   607]]\n"
          ],
          "name": "stdout"
        }
      ]
    },
    {
      "cell_type": "markdown",
      "metadata": {
        "id": "ZxRz8-LrJhbS",
        "colab_type": "text"
      },
      "source": [
        "### Precision and Recall for imbalanced dataset"
      ]
    },
    {
      "cell_type": "code",
      "metadata": {
        "id": "MJBsLoWBJhbS",
        "colab_type": "code",
        "outputId": "0bd3cdd2-8e59-48c8-d1b4-67d0eb26496b",
        "colab": {
          "base_uri": "https://localhost:8080/",
          "height": 53
        }
      },
      "source": [
        "from sklearn.metrics import precision_recall_fscore_support as score # \n",
        "precision, recall, fscore, support = score(y_test,xgb_pred_imb)  # \n",
        "print('precision: {}'.format(precision)) \n",
        "print('recall: {}'.format(recall))"
      ],
      "execution_count": 52,
      "outputs": [
        {
          "output_type": "stream",
          "text": [
            "precision: [0.99389272 0.07312304]\n",
            "recall: [0.51284511 0.92421746]\n"
          ],
          "name": "stdout"
        }
      ]
    },
    {
      "cell_type": "markdown",
      "metadata": {
        "id": "Wqjxv8h7JhbU",
        "colab_type": "text"
      },
      "source": [
        "### Frequency for Gradient Boosting imbalanced dataset Prediction"
      ]
    },
    {
      "cell_type": "code",
      "metadata": {
        "id": "aRGKiEqHJhbX",
        "colab_type": "code",
        "outputId": "6b180e3e-39a7-43ec-bfb2-e8c4af2f45d7",
        "colab": {
          "base_uri": "https://localhost:8080/",
          "height": 71
        }
      },
      "source": [
        "unique_elements, counts_elements = np.unique(xgb_pred_imb, return_counts=True) \n",
        "print(\"Frequency of unique values of the said array:\") \n",
        "print(np.asarray((unique_elements, counts_elements)))"
      ],
      "execution_count": 53,
      "outputs": [
        {
          "output_type": "stream",
          "text": [
            "Frequency of unique values of the said array:\n",
            "[[   0    1]\n",
            " [7532 7672]]\n"
          ],
          "name": "stdout"
        }
      ]
    },
    {
      "cell_type": "markdown",
      "metadata": {
        "id": "Rs0PsaKVJhbZ",
        "colab_type": "text"
      },
      "source": [
        "### Frequency for test"
      ]
    },
    {
      "cell_type": "code",
      "metadata": {
        "id": "wxlyZRbXJhbZ",
        "colab_type": "code",
        "outputId": "2a59f554-ecf7-4f20-de1e-5cd5a8e67b22",
        "colab": {
          "base_uri": "https://localhost:8080/",
          "height": 71
        }
      },
      "source": [
        "unique_elements, counts_elements = np.unique(y_test, return_counts=True) \n",
        "print(\"Frequency of unique values of the said array:\") \n",
        "print(np.asarray((unique_elements, counts_elements)))"
      ],
      "execution_count": 54,
      "outputs": [
        {
          "output_type": "stream",
          "text": [
            "Frequency of unique values of the said array:\n",
            "[[    0     1]\n",
            " [14597   607]]\n"
          ],
          "name": "stdout"
        }
      ]
    },
    {
      "cell_type": "markdown",
      "metadata": {
        "id": "tKQKHVOzJhbc",
        "colab_type": "text"
      },
      "source": [
        "### Gradient Boosting Hyperparameter Tuning"
      ]
    },
    {
      "cell_type": "markdown",
      "metadata": {
        "id": "pEAJ6TmIJhbd",
        "colab_type": "text"
      },
      "source": [
        "### Randomized Search Cross Validation"
      ]
    },
    {
      "cell_type": "code",
      "metadata": {
        "id": "2RBg2GMvJhbe",
        "colab_type": "code",
        "outputId": "09fc2bc1-478c-403c-8747-f5b8c64a1a46",
        "colab": {
          "base_uri": "https://localhost:8080/",
          "height": 573
        }
      },
      "source": [
        "# Define the parameter grid\n",
        "param_grid = {\n",
        " \"learning_rate\"    : [0.05, 0.10, 0.15, 0.20, 0.25, 0.30 ] ,\n",
        " \"max_depth\"        : [ 3, 4, 5, 6, 8, 10, 12, 15],\n",
        " \"min_child_weight\" : [ 1, 3, 5, 7 ],\n",
        " \"gamma\"            : [ 0.0, 0.1, 0.2 , 0.3, 0.4 ],\n",
        " \"colsample_bytree\" : [ 0.3, 0.4, 0.5 , 0.7 ]   \n",
        "}\n",
        "\n",
        "boost = RandomizedSearchCV(xgb_b, param_distributions = param_grid, n_iter = 5, scoring = 'roc_auc', n_jobs = -1, cv = 10, verbose = 3)\n",
        "\n",
        "boost.fit(X_train_b,y_train_b)"
      ],
      "execution_count": 55,
      "outputs": [
        {
          "output_type": "stream",
          "text": [
            "Fitting 10 folds for each of 5 candidates, totalling 50 fits\n"
          ],
          "name": "stdout"
        },
        {
          "output_type": "stream",
          "text": [
            "[Parallel(n_jobs=-1)]: Using backend LokyBackend with 2 concurrent workers.\n",
            "/usr/local/lib/python3.6/dist-packages/joblib/externals/loky/process_executor.py:706: UserWarning: A worker stopped while some jobs were given to the executor. This can be caused by a too short worker timeout or by a memory leak.\n",
            "  \"timeout or by a memory leak.\", UserWarning\n",
            "[Parallel(n_jobs=-1)]: Done  28 tasks      | elapsed:  1.7min\n",
            "[Parallel(n_jobs=-1)]: Done  50 out of  50 | elapsed:  2.7min finished\n"
          ],
          "name": "stderr"
        },
        {
          "output_type": "execute_result",
          "data": {
            "text/plain": [
              "RandomizedSearchCV(cv=10, error_score='raise-deprecating',\n",
              "                   estimator=XGBClassifier(base_score=0.5, booster='gbtree',\n",
              "                                           colsample_bylevel=1,\n",
              "                                           colsample_bynode=1,\n",
              "                                           colsample_bytree=1, gamma=0,\n",
              "                                           learning_rate=0.1, max_delta_step=0,\n",
              "                                           max_depth=3, min_child_weight=1,\n",
              "                                           missing=None, n_estimators=100,\n",
              "                                           n_jobs=1, nthread=None,\n",
              "                                           objective='binary:logistic',\n",
              "                                           random_state=0, reg_alpha=...\n",
              "                                           seed=None, silent=None, subsample=1,\n",
              "                                           verbosity=1),\n",
              "                   iid='warn', n_iter=5, n_jobs=-1,\n",
              "                   param_distributions={'colsample_bytree': [0.3, 0.4, 0.5,\n",
              "                                                             0.7],\n",
              "                                        'gamma': [0.0, 0.1, 0.2, 0.3, 0.4],\n",
              "                                        'learning_rate': [0.05, 0.1, 0.15, 0.2,\n",
              "                                                          0.25, 0.3],\n",
              "                                        'max_depth': [3, 4, 5, 6, 8, 10, 12,\n",
              "                                                      15],\n",
              "                                        'min_child_weight': [1, 3, 5, 7]},\n",
              "                   pre_dispatch='2*n_jobs', random_state=None, refit=True,\n",
              "                   return_train_score=False, scoring='roc_auc', verbose=3)"
            ]
          },
          "metadata": {
            "tags": []
          },
          "execution_count": 55
        }
      ]
    },
    {
      "cell_type": "markdown",
      "metadata": {
        "id": "mIml3UslJhbg",
        "colab_type": "text"
      },
      "source": [
        "### Best parameters and best score"
      ]
    },
    {
      "cell_type": "code",
      "metadata": {
        "id": "0g7ysG_fJhbi",
        "colab_type": "code",
        "outputId": "93c96f77-caf6-4827-ade7-8db71c26ac57",
        "colab": {
          "base_uri": "https://localhost:8080/",
          "height": 53
        }
      },
      "source": [
        "print(boost.best_params_)\n",
        "print(boost.best_score_)"
      ],
      "execution_count": 56,
      "outputs": [
        {
          "output_type": "stream",
          "text": [
            "{'min_child_weight': 1, 'max_depth': 3, 'learning_rate': 0.15, 'gamma': 0.1, 'colsample_bytree': 0.3}\n",
            "0.8338186275530964\n"
          ],
          "name": "stdout"
        }
      ]
    },
    {
      "cell_type": "code",
      "metadata": {
        "id": "2vzrliG_Jhbk",
        "colab_type": "code",
        "outputId": "5453a45e-a28a-4ea7-f2d8-6d909bcf6af8",
        "colab": {
          "base_uri": "https://localhost:8080/",
          "height": 803
        }
      },
      "source": [
        "# Fit and Predict\n",
        "xgb_b = XGBClassifier(min_child_weight = boost.best_params_[\"min_child_weight\"], max_depth = boost.best_params_[\"max_depth\"], learning_rate = boost.best_params_[\"learning_rate\"], gamma = boost.best_params_[\"gamma\"], colsample_bytree = boost.best_params_[\"colsample_bytree\"],n_jobs = -1)\n",
        "xgb_b.fit(X_train_b,y_train_b)\n",
        "xgb_pred_b = xgb_b.predict(X_test_b)\n",
        "xgb_pred_imb = xgb_b.predict(X_test)\n",
        "\n",
        "# Probability Prediction and ROC parameters\n",
        "xgb_pred_proba_b = xgb_b.predict_proba(X_test_b)[:, 1]\n",
        "[fpr_xgb_b, tpr_xgb_b, thr_xgb_b] = roc_curve(y_test_b, xgb_pred_proba_b)\n",
        "\n",
        "# Probability Prediction and ROC parameters for imbalanced testing\n",
        "xgb_pred_proba_imb = xgb_b.predict_proba(X_test)[:, 1]\n",
        "[fpr_xgb_imb, tpr_xgb_imb, thr_xgb_imb] = roc_curve(y_test, xgb_pred_proba_imb)\n",
        "\n",
        "# Metrics for evaluation\n",
        "xgb_accuracy_score_b = accuracy_score(y_test_b, xgb_pred_b)\n",
        "xgb_log_loss_b = log_loss(y_test_b,xgb_pred_proba_b)\n",
        "xgb_auc_b = auc(fpr_xgb_b, tpr_xgb_b)\n",
        "xgb_confusion_matrix_b = confusion_matrix(y_test_b,xgb_pred_b )\n",
        "xgb_classification_report_b = classification_report(y_test_b, xgb_pred_b)\n",
        "\n",
        "# Metrics for evaluation for imbalanced testing\n",
        "xgb_accuracy_score_imb = accuracy_score(y_test, xgb_pred_imb)\n",
        "xgb_log_loss_imb = log_loss(y_test,xgb_pred_proba_imb)\n",
        "xgb_auc_imb = auc(fpr_xgb_imb, tpr_xgb_imb)\n",
        "xgb_confusion_matrix_imb = confusion_matrix(y_test,xgb_pred_imb )\n",
        "xgb_classification_report_imb = classification_report(y_test, xgb_pred_imb)\n",
        "\n",
        "# Results for Balanced Dataset and X_test balanced\n",
        "print('Gradient Boosting Results:\\n')\n",
        "print(\" Accuracy Score\" ,xgb_accuracy_score_b*100)\n",
        "print(\" Log_loss\", xgb_log_loss_b )\n",
        "print(\" ROC AUC\" ,xgb_auc_b )\n",
        "print(\"\\n Confusion Matrix \\n\\n\" ,xgb_confusion_matrix_b)\n",
        "print(\"\\n Classification Report \\n\\n \" ,xgb_classification_report_b)\n",
        "\n",
        "# Results for prediction on X_test imbalanced\n",
        "print('Gradient Boosting Results (imbalanced prediction) :\\n')\n",
        "print(\" Accuracy Score\" ,xgb_accuracy_score_imb*100)\n",
        "print(\" Log_loss\", xgb_log_loss_imb )\n",
        "print(\" ROC AUC\" ,xgb_auc_imb )\n",
        "print(\"\\n Confusion Matrix \\n\\n\" ,xgb_confusion_matrix_imb)\n",
        "print(\"\\n Classification Report \\n\\n \" ,xgb_classification_report_imb)"
      ],
      "execution_count": 57,
      "outputs": [
        {
          "output_type": "stream",
          "text": [
            "Gradient Boosting Results:\n",
            "\n",
            " Accuracy Score 76.24584717607974\n",
            " Log_loss 0.5038549976958662\n",
            " ROC AUC 0.8342724483003401\n",
            "\n",
            " Confusion Matrix \n",
            "\n",
            " [[453 168]\n",
            " [118 465]]\n",
            "\n",
            " Classification Report \n",
            "\n",
            "                precision    recall  f1-score   support\n",
            "\n",
            "           0       0.79      0.73      0.76       621\n",
            "           1       0.73      0.80      0.76       583\n",
            "\n",
            "    accuracy                           0.76      1204\n",
            "   macro avg       0.76      0.76      0.76      1204\n",
            "weighted avg       0.76      0.76      0.76      1204\n",
            "\n",
            "Gradient Boosting Results (imbalanced prediction) :\n",
            "\n",
            " Accuracy Score 52.170481452249405\n",
            " Log_loss 0.7445983760244115\n",
            " ROC AUC 0.83312931647732\n",
            "\n",
            " Confusion Matrix \n",
            "\n",
            " [[7359 7238]\n",
            " [  34  573]]\n",
            "\n",
            " Classification Report \n",
            "\n",
            "                precision    recall  f1-score   support\n",
            "\n",
            "           0       1.00      0.50      0.67     14597\n",
            "           1       0.07      0.94      0.14       607\n",
            "\n",
            "    accuracy                           0.52     15204\n",
            "   macro avg       0.53      0.72      0.40     15204\n",
            "weighted avg       0.96      0.52      0.65     15204\n",
            "\n"
          ],
          "name": "stdout"
        }
      ]
    },
    {
      "cell_type": "markdown",
      "metadata": {
        "id": "Lz7r8THdJhbm",
        "colab_type": "text"
      },
      "source": [
        "### Precision and Recall for balanced dataset"
      ]
    },
    {
      "cell_type": "code",
      "metadata": {
        "id": "yWQUZSUyJhbn",
        "colab_type": "code",
        "outputId": "7ceeff60-031b-4af1-e822-7e82a15fb621",
        "colab": {
          "base_uri": "https://localhost:8080/",
          "height": 53
        }
      },
      "source": [
        "from sklearn.metrics import precision_recall_fscore_support as score # \n",
        "precision, recall, fscore, support = score(y_test_b,xgb_pred_b)  # \n",
        "print('precision: {}'.format(precision)) \n",
        "print('recall: {}'.format(recall))"
      ],
      "execution_count": 58,
      "outputs": [
        {
          "output_type": "stream",
          "text": [
            "precision: [0.79334501 0.73459716]\n",
            "recall: [0.7294686  0.79759863]\n"
          ],
          "name": "stdout"
        }
      ]
    },
    {
      "cell_type": "markdown",
      "metadata": {
        "id": "fyaMk6EJJhbp",
        "colab_type": "text"
      },
      "source": [
        "### Frequency for Gradient Boosting balanced dataset Prediction"
      ]
    },
    {
      "cell_type": "code",
      "metadata": {
        "id": "nzWUG14pJhbq",
        "colab_type": "code",
        "outputId": "4dc616bc-c900-463f-918d-445a1ef22fb7",
        "colab": {
          "base_uri": "https://localhost:8080/",
          "height": 71
        }
      },
      "source": [
        "unique_elements, counts_elements = np.unique(xgb_pred_b, return_counts=True) \n",
        "print(\"Frequency of unique values of the said array:\") \n",
        "print(np.asarray((unique_elements, counts_elements)))"
      ],
      "execution_count": 59,
      "outputs": [
        {
          "output_type": "stream",
          "text": [
            "Frequency of unique values of the said array:\n",
            "[[  0   1]\n",
            " [571 633]]\n"
          ],
          "name": "stdout"
        }
      ]
    },
    {
      "cell_type": "markdown",
      "metadata": {
        "id": "Lmoi5_0oJhbv",
        "colab_type": "text"
      },
      "source": [
        "### Frequency for test balanced"
      ]
    },
    {
      "cell_type": "code",
      "metadata": {
        "id": "LqkpUV5SJhbv",
        "colab_type": "code",
        "outputId": "a1070293-9081-4f68-9c91-1fed62179c12",
        "colab": {
          "base_uri": "https://localhost:8080/",
          "height": 71
        }
      },
      "source": [
        "unique_elements, counts_elements = np.unique(y_test, return_counts=True) \n",
        "print(\"Frequency of unique values of the said array:\") \n",
        "print(np.asarray((unique_elements, counts_elements)))"
      ],
      "execution_count": 60,
      "outputs": [
        {
          "output_type": "stream",
          "text": [
            "Frequency of unique values of the said array:\n",
            "[[    0     1]\n",
            " [14597   607]]\n"
          ],
          "name": "stdout"
        }
      ]
    },
    {
      "cell_type": "markdown",
      "metadata": {
        "id": "OnAPhSzhJhb8",
        "colab_type": "text"
      },
      "source": [
        "### Precision and Recall for imbalanced dataset"
      ]
    },
    {
      "cell_type": "code",
      "metadata": {
        "id": "8ZqDe8nHJhb9",
        "colab_type": "code",
        "outputId": "1ce2d69d-1bb4-4bd0-d881-6da0b1bd8e73",
        "colab": {
          "base_uri": "https://localhost:8080/",
          "height": 53
        }
      },
      "source": [
        "from sklearn.metrics import precision_recall_fscore_support as score # \n",
        "precision, recall, fscore, support = score(y_test,xgb_pred_imb)  # \n",
        "print('precision: {}'.format(precision)) \n",
        "print('recall: {}'.format(recall))"
      ],
      "execution_count": 61,
      "outputs": [
        {
          "output_type": "stream",
          "text": [
            "precision: [0.99540106 0.07335808]\n",
            "recall: [0.50414469 0.94398682]\n"
          ],
          "name": "stdout"
        }
      ]
    },
    {
      "cell_type": "markdown",
      "metadata": {
        "id": "xkaIAujOJhb_",
        "colab_type": "text"
      },
      "source": [
        "### Frequency for Gradient Boosting imbalanced dataset Prediction"
      ]
    },
    {
      "cell_type": "code",
      "metadata": {
        "id": "tHOc7_acJhcA",
        "colab_type": "code",
        "outputId": "7e39fb54-a0b4-4193-ead9-9c6e2f6297a1",
        "colab": {
          "base_uri": "https://localhost:8080/",
          "height": 71
        }
      },
      "source": [
        "unique_elements, counts_elements = np.unique(xgb_pred_imb, return_counts=True) \n",
        "print(\"Frequency of unique values of the said array:\") \n",
        "print(np.asarray((unique_elements, counts_elements)))"
      ],
      "execution_count": 62,
      "outputs": [
        {
          "output_type": "stream",
          "text": [
            "Frequency of unique values of the said array:\n",
            "[[   0    1]\n",
            " [7393 7811]]\n"
          ],
          "name": "stdout"
        }
      ]
    },
    {
      "cell_type": "markdown",
      "metadata": {
        "id": "XwwuObIGJhcB",
        "colab_type": "text"
      },
      "source": [
        "### Frequency for test"
      ]
    },
    {
      "cell_type": "code",
      "metadata": {
        "id": "6lbU5yziJhcD",
        "colab_type": "code",
        "outputId": "313bdb0f-e4e8-4ba1-effd-4e6ed7e08fa2",
        "colab": {
          "base_uri": "https://localhost:8080/",
          "height": 71
        }
      },
      "source": [
        "unique_elements, counts_elements = np.unique(y_test, return_counts=True) \n",
        "print(\"Frequency of unique values of the said array:\") \n",
        "print(np.asarray((unique_elements, counts_elements)))"
      ],
      "execution_count": 63,
      "outputs": [
        {
          "output_type": "stream",
          "text": [
            "Frequency of unique values of the said array:\n",
            "[[    0     1]\n",
            " [14597   607]]\n"
          ],
          "name": "stdout"
        }
      ]
    },
    {
      "cell_type": "code",
      "metadata": {
        "id": "CL89RV6gJhcF",
        "colab_type": "code",
        "colab": {}
      },
      "source": [
        ""
      ],
      "execution_count": 0,
      "outputs": []
    }
  ]
}